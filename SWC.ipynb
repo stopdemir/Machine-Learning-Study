{
 "cells": [
  {
   "cell_type": "code",
   "execution_count": 1,
   "metadata": {},
   "outputs": [],
   "source": [
    "import pandas as pd\n",
    "import seaborn as sns\n",
    "import matplotlib.pyplot as plt\n",
    "\n",
    "from sklearn import tree\n",
    "from sklearn.tree import DecisionTreeClassifier\n",
    "from sklearn.model_selection import train_test_split\n",
    "from sklearn.metrics import accuracy_score\n",
    "from sklearn.metrics import classification_report\n",
    "\n",
    "from sklearn.manifold import TSNE\n",
    "\n"
   ]
  },
  {
   "cell_type": "code",
   "execution_count": 15,
   "metadata": {},
   "outputs": [],
   "source": [
    "\n",
    "import lightgbm as lgb\n",
    "import optuna #Optuna is an automatic hyperparameter optimization software framework, particularly designed for machine learning.\n",
    "from optuna.samplers import TPESampler\n",
    "import pickle"
   ]
  },
  {
   "cell_type": "code",
   "execution_count": 7,
   "metadata": {},
   "outputs": [],
   "source": [
    "import matplotlib.pyplot as plt"
   ]
  },
  {
   "cell_type": "code",
   "execution_count": 4,
   "metadata": {},
   "outputs": [],
   "source": [
    "train_data = pd.read_csv('train_data_swc.csv')\n",
    "test_data = pd.read_csv('test_data_swc.csv')\n",
    "example_data = pd.read_csv('example.csv')"
   ]
  },
  {
   "cell_type": "code",
   "execution_count": 4,
   "metadata": {},
   "outputs": [
    {
     "name": "stdout",
     "output_type": "stream",
     "text": [
      "number of data points in the train data:  62500\n",
      "number of data points in the test data:  150000\n"
     ]
    }
   ],
   "source": [
    "print('number of data points in the train data: ' , len(train_data))\n",
    "print('number of data points in the test data: ' , len(test_data))"
   ]
  },
  {
   "cell_type": "code",
   "execution_count": 4,
   "metadata": {},
   "outputs": [
    {
     "data": {
      "text/html": [
       "<div>\n",
       "<style scoped>\n",
       "    .dataframe tbody tr th:only-of-type {\n",
       "        vertical-align: middle;\n",
       "    }\n",
       "\n",
       "    .dataframe tbody tr th {\n",
       "        vertical-align: top;\n",
       "    }\n",
       "\n",
       "    .dataframe thead th {\n",
       "        text-align: right;\n",
       "    }\n",
       "</style>\n",
       "<table border=\"1\" class=\"dataframe\">\n",
       "  <thead>\n",
       "    <tr style=\"text-align: right;\">\n",
       "      <th></th>\n",
       "      <th>x_1</th>\n",
       "      <th>x_2</th>\n",
       "      <th>x_3</th>\n",
       "      <th>x_4</th>\n",
       "      <th>x_5</th>\n",
       "      <th>x_6</th>\n",
       "      <th>x_7</th>\n",
       "      <th>x_8</th>\n",
       "      <th>x_9</th>\n",
       "      <th>x_10</th>\n",
       "      <th>...</th>\n",
       "      <th>x_100</th>\n",
       "      <th>x_101</th>\n",
       "      <th>x_102</th>\n",
       "      <th>x_103</th>\n",
       "      <th>x_104</th>\n",
       "      <th>x_105</th>\n",
       "      <th>x_106</th>\n",
       "      <th>x_107</th>\n",
       "      <th>x_108</th>\n",
       "      <th>y</th>\n",
       "    </tr>\n",
       "  </thead>\n",
       "  <tbody>\n",
       "    <tr>\n",
       "      <th>0</th>\n",
       "      <td>0.0</td>\n",
       "      <td>0.0</td>\n",
       "      <td>0.0</td>\n",
       "      <td>0.2</td>\n",
       "      <td>0.0</td>\n",
       "      <td>0.0</td>\n",
       "      <td>0.0</td>\n",
       "      <td>0.0</td>\n",
       "      <td>0.0</td>\n",
       "      <td>0.0</td>\n",
       "      <td>...</td>\n",
       "      <td>0.0</td>\n",
       "      <td>0.0</td>\n",
       "      <td>0.2</td>\n",
       "      <td>0.0</td>\n",
       "      <td>0.0</td>\n",
       "      <td>0.0</td>\n",
       "      <td>0.0</td>\n",
       "      <td>0.0</td>\n",
       "      <td>0.0</td>\n",
       "      <td>3</td>\n",
       "    </tr>\n",
       "    <tr>\n",
       "      <th>1</th>\n",
       "      <td>0.2</td>\n",
       "      <td>0.8</td>\n",
       "      <td>0.0</td>\n",
       "      <td>0.0</td>\n",
       "      <td>0.0</td>\n",
       "      <td>0.0</td>\n",
       "      <td>0.6</td>\n",
       "      <td>0.2</td>\n",
       "      <td>0.0</td>\n",
       "      <td>0.0</td>\n",
       "      <td>...</td>\n",
       "      <td>0.2</td>\n",
       "      <td>0.0</td>\n",
       "      <td>0.8</td>\n",
       "      <td>0.0</td>\n",
       "      <td>0.0</td>\n",
       "      <td>0.0</td>\n",
       "      <td>0.0</td>\n",
       "      <td>0.0</td>\n",
       "      <td>0.0</td>\n",
       "      <td>9</td>\n",
       "    </tr>\n",
       "    <tr>\n",
       "      <th>2</th>\n",
       "      <td>0.0</td>\n",
       "      <td>0.0</td>\n",
       "      <td>0.0</td>\n",
       "      <td>0.4</td>\n",
       "      <td>0.0</td>\n",
       "      <td>0.0</td>\n",
       "      <td>3.2</td>\n",
       "      <td>0.0</td>\n",
       "      <td>0.0</td>\n",
       "      <td>0.0</td>\n",
       "      <td>...</td>\n",
       "      <td>0.0</td>\n",
       "      <td>0.0</td>\n",
       "      <td>0.6</td>\n",
       "      <td>0.0</td>\n",
       "      <td>0.0</td>\n",
       "      <td>0.0</td>\n",
       "      <td>0.0</td>\n",
       "      <td>0.0</td>\n",
       "      <td>0.0</td>\n",
       "      <td>3</td>\n",
       "    </tr>\n",
       "    <tr>\n",
       "      <th>3</th>\n",
       "      <td>0.0</td>\n",
       "      <td>0.0</td>\n",
       "      <td>0.2</td>\n",
       "      <td>0.0</td>\n",
       "      <td>0.0</td>\n",
       "      <td>0.0</td>\n",
       "      <td>0.2</td>\n",
       "      <td>0.0</td>\n",
       "      <td>0.0</td>\n",
       "      <td>0.0</td>\n",
       "      <td>...</td>\n",
       "      <td>0.0</td>\n",
       "      <td>0.0</td>\n",
       "      <td>0.0</td>\n",
       "      <td>0.0</td>\n",
       "      <td>0.0</td>\n",
       "      <td>0.0</td>\n",
       "      <td>0.0</td>\n",
       "      <td>0.0</td>\n",
       "      <td>0.0</td>\n",
       "      <td>3</td>\n",
       "    </tr>\n",
       "    <tr>\n",
       "      <th>4</th>\n",
       "      <td>0.0</td>\n",
       "      <td>0.0</td>\n",
       "      <td>0.4</td>\n",
       "      <td>0.0</td>\n",
       "      <td>0.0</td>\n",
       "      <td>0.0</td>\n",
       "      <td>0.4</td>\n",
       "      <td>0.0</td>\n",
       "      <td>0.0</td>\n",
       "      <td>0.6</td>\n",
       "      <td>...</td>\n",
       "      <td>0.0</td>\n",
       "      <td>0.0</td>\n",
       "      <td>0.0</td>\n",
       "      <td>0.6</td>\n",
       "      <td>0.2</td>\n",
       "      <td>0.0</td>\n",
       "      <td>0.0</td>\n",
       "      <td>0.2</td>\n",
       "      <td>0.0</td>\n",
       "      <td>9</td>\n",
       "    </tr>\n",
       "  </tbody>\n",
       "</table>\n",
       "<p>5 rows × 109 columns</p>\n",
       "</div>"
      ],
      "text/plain": [
       "   x_1  x_2  x_3  x_4  x_5  x_6  x_7  x_8  x_9  x_10  ...  x_100  x_101  \\\n",
       "0  0.0  0.0  0.0  0.2  0.0  0.0  0.0  0.0  0.0   0.0  ...    0.0    0.0   \n",
       "1  0.2  0.8  0.0  0.0  0.0  0.0  0.6  0.2  0.0   0.0  ...    0.2    0.0   \n",
       "2  0.0  0.0  0.0  0.4  0.0  0.0  3.2  0.0  0.0   0.0  ...    0.0    0.0   \n",
       "3  0.0  0.0  0.2  0.0  0.0  0.0  0.2  0.0  0.0   0.0  ...    0.0    0.0   \n",
       "4  0.0  0.0  0.4  0.0  0.0  0.0  0.4  0.0  0.0   0.6  ...    0.0    0.0   \n",
       "\n",
       "   x_102  x_103  x_104  x_105  x_106  x_107  x_108  y  \n",
       "0    0.2    0.0    0.0    0.0    0.0    0.0    0.0  3  \n",
       "1    0.8    0.0    0.0    0.0    0.0    0.0    0.0  9  \n",
       "2    0.6    0.0    0.0    0.0    0.0    0.0    0.0  3  \n",
       "3    0.0    0.0    0.0    0.0    0.0    0.0    0.0  3  \n",
       "4    0.0    0.6    0.2    0.0    0.0    0.2    0.0  9  \n",
       "\n",
       "[5 rows x 109 columns]"
      ]
     },
     "execution_count": 4,
     "metadata": {},
     "output_type": "execute_result"
    }
   ],
   "source": [
    "train_data.head(5)"
   ]
  },
  {
   "cell_type": "code",
   "execution_count": 6,
   "metadata": {},
   "outputs": [
    {
     "data": {
      "text/html": [
       "<div>\n",
       "<style scoped>\n",
       "    .dataframe tbody tr th:only-of-type {\n",
       "        vertical-align: middle;\n",
       "    }\n",
       "\n",
       "    .dataframe tbody tr th {\n",
       "        vertical-align: top;\n",
       "    }\n",
       "\n",
       "    .dataframe thead th {\n",
       "        text-align: right;\n",
       "    }\n",
       "</style>\n",
       "<table border=\"1\" class=\"dataframe\">\n",
       "  <thead>\n",
       "    <tr style=\"text-align: right;\">\n",
       "      <th></th>\n",
       "      <th>x_1</th>\n",
       "      <th>x_2</th>\n",
       "      <th>x_3</th>\n",
       "      <th>x_4</th>\n",
       "      <th>x_5</th>\n",
       "      <th>x_6</th>\n",
       "      <th>x_7</th>\n",
       "      <th>x_8</th>\n",
       "      <th>x_9</th>\n",
       "      <th>x_10</th>\n",
       "      <th>...</th>\n",
       "      <th>x_99</th>\n",
       "      <th>x_100</th>\n",
       "      <th>x_101</th>\n",
       "      <th>x_102</th>\n",
       "      <th>x_103</th>\n",
       "      <th>x_104</th>\n",
       "      <th>x_105</th>\n",
       "      <th>x_106</th>\n",
       "      <th>x_107</th>\n",
       "      <th>x_108</th>\n",
       "    </tr>\n",
       "  </thead>\n",
       "  <tbody>\n",
       "    <tr>\n",
       "      <th>0</th>\n",
       "      <td>0.0</td>\n",
       "      <td>0.0</td>\n",
       "      <td>0.0</td>\n",
       "      <td>0.0</td>\n",
       "      <td>0.0</td>\n",
       "      <td>0.0</td>\n",
       "      <td>1.8</td>\n",
       "      <td>0.0</td>\n",
       "      <td>0.0</td>\n",
       "      <td>0.0</td>\n",
       "      <td>...</td>\n",
       "      <td>0.0</td>\n",
       "      <td>0.0</td>\n",
       "      <td>0.0</td>\n",
       "      <td>0.0</td>\n",
       "      <td>0.2</td>\n",
       "      <td>0.0</td>\n",
       "      <td>0.0</td>\n",
       "      <td>0.0</td>\n",
       "      <td>0.0</td>\n",
       "      <td>0.0</td>\n",
       "    </tr>\n",
       "    <tr>\n",
       "      <th>1</th>\n",
       "      <td>0.0</td>\n",
       "      <td>0.0</td>\n",
       "      <td>0.0</td>\n",
       "      <td>0.0</td>\n",
       "      <td>0.0</td>\n",
       "      <td>0.4</td>\n",
       "      <td>0.2</td>\n",
       "      <td>0.0</td>\n",
       "      <td>0.0</td>\n",
       "      <td>0.0</td>\n",
       "      <td>...</td>\n",
       "      <td>0.0</td>\n",
       "      <td>0.0</td>\n",
       "      <td>0.6</td>\n",
       "      <td>0.0</td>\n",
       "      <td>0.0</td>\n",
       "      <td>0.2</td>\n",
       "      <td>0.0</td>\n",
       "      <td>0.0</td>\n",
       "      <td>0.2</td>\n",
       "      <td>0.0</td>\n",
       "    </tr>\n",
       "    <tr>\n",
       "      <th>2</th>\n",
       "      <td>0.2</td>\n",
       "      <td>0.0</td>\n",
       "      <td>0.2</td>\n",
       "      <td>0.0</td>\n",
       "      <td>0.0</td>\n",
       "      <td>0.0</td>\n",
       "      <td>0.4</td>\n",
       "      <td>0.0</td>\n",
       "      <td>0.4</td>\n",
       "      <td>0.4</td>\n",
       "      <td>...</td>\n",
       "      <td>0.0</td>\n",
       "      <td>0.0</td>\n",
       "      <td>0.2</td>\n",
       "      <td>0.0</td>\n",
       "      <td>0.0</td>\n",
       "      <td>0.0</td>\n",
       "      <td>0.6</td>\n",
       "      <td>0.0</td>\n",
       "      <td>0.0</td>\n",
       "      <td>4.4</td>\n",
       "    </tr>\n",
       "    <tr>\n",
       "      <th>3</th>\n",
       "      <td>0.0</td>\n",
       "      <td>0.0</td>\n",
       "      <td>0.0</td>\n",
       "      <td>0.2</td>\n",
       "      <td>0.0</td>\n",
       "      <td>0.0</td>\n",
       "      <td>0.0</td>\n",
       "      <td>0.0</td>\n",
       "      <td>0.0</td>\n",
       "      <td>0.0</td>\n",
       "      <td>...</td>\n",
       "      <td>0.0</td>\n",
       "      <td>0.0</td>\n",
       "      <td>0.0</td>\n",
       "      <td>0.8</td>\n",
       "      <td>0.0</td>\n",
       "      <td>0.0</td>\n",
       "      <td>0.0</td>\n",
       "      <td>0.0</td>\n",
       "      <td>0.0</td>\n",
       "      <td>0.0</td>\n",
       "    </tr>\n",
       "    <tr>\n",
       "      <th>4</th>\n",
       "      <td>0.0</td>\n",
       "      <td>0.2</td>\n",
       "      <td>0.0</td>\n",
       "      <td>2.8</td>\n",
       "      <td>0.0</td>\n",
       "      <td>0.2</td>\n",
       "      <td>0.0</td>\n",
       "      <td>0.0</td>\n",
       "      <td>0.2</td>\n",
       "      <td>0.0</td>\n",
       "      <td>...</td>\n",
       "      <td>0.0</td>\n",
       "      <td>0.0</td>\n",
       "      <td>0.0</td>\n",
       "      <td>0.0</td>\n",
       "      <td>0.0</td>\n",
       "      <td>0.0</td>\n",
       "      <td>0.0</td>\n",
       "      <td>0.0</td>\n",
       "      <td>0.0</td>\n",
       "      <td>0.2</td>\n",
       "    </tr>\n",
       "  </tbody>\n",
       "</table>\n",
       "<p>5 rows × 108 columns</p>\n",
       "</div>"
      ],
      "text/plain": [
       "   x_1  x_2  x_3  x_4  x_5  x_6  x_7  x_8  x_9  x_10  ...  x_99  x_100  x_101  \\\n",
       "0  0.0  0.0  0.0  0.0  0.0  0.0  1.8  0.0  0.0   0.0  ...   0.0    0.0    0.0   \n",
       "1  0.0  0.0  0.0  0.0  0.0  0.4  0.2  0.0  0.0   0.0  ...   0.0    0.0    0.6   \n",
       "2  0.2  0.0  0.2  0.0  0.0  0.0  0.4  0.0  0.4   0.4  ...   0.0    0.0    0.2   \n",
       "3  0.0  0.0  0.0  0.2  0.0  0.0  0.0  0.0  0.0   0.0  ...   0.0    0.0    0.0   \n",
       "4  0.0  0.2  0.0  2.8  0.0  0.2  0.0  0.0  0.2   0.0  ...   0.0    0.0    0.0   \n",
       "\n",
       "   x_102  x_103  x_104  x_105  x_106  x_107  x_108  \n",
       "0    0.0    0.2    0.0    0.0    0.0    0.0    0.0  \n",
       "1    0.0    0.0    0.2    0.0    0.0    0.2    0.0  \n",
       "2    0.0    0.0    0.0    0.6    0.0    0.0    4.4  \n",
       "3    0.8    0.0    0.0    0.0    0.0    0.0    0.0  \n",
       "4    0.0    0.0    0.0    0.0    0.0    0.0    0.2  \n",
       "\n",
       "[5 rows x 108 columns]"
      ]
     },
     "execution_count": 6,
     "metadata": {},
     "output_type": "execute_result"
    }
   ],
   "source": [
    "test_data.head(5)"
   ]
  },
  {
   "cell_type": "markdown",
   "metadata": {},
   "source": [
    "## Correlation among Features"
   ]
  },
  {
   "cell_type": "code",
   "execution_count": 5,
   "metadata": {},
   "outputs": [
    {
     "data": {
      "image/png": "[encoded data removed]",
      "text/plain": [
       "<Figure size 2000x1500 with 2 Axes>"
      ]
     },
     "metadata": {},
     "output_type": "display_data"
    }
   ],
   "source": [
    "corr_matrix = train_data.corr()\n",
    "\n",
    "plt.figure(figsize=(20, 15))\n",
    "\n",
    "sns.heatmap(corr_matrix, annot=False, cmap='coolwarm')\n",
    "\n",
    "# Set the title\n",
    "plt.title('Correlation Heatmap')\n",
    "\n",
    "# Show the plot\n",
    "plt.show()"
   ]
  },
  {
   "cell_type": "markdown",
   "metadata": {},
   "source": [
    "## Feature Engineering"
   ]
  },
  {
   "cell_type": "markdown",
   "metadata": {},
   "source": [
    "### TSNE"
   ]
  },
  {
   "cell_type": "code",
   "execution_count": 5,
   "metadata": {},
   "outputs": [
    {
     "ename": "NameError",
     "evalue": "name 'figure' is not defined",
     "output_type": "error",
     "traceback": [
      "\u001b[0;31m---------------------------------------------------------------------------\u001b[0m",
      "\u001b[0;31mNameError\u001b[0m                                 Traceback (most recent call last)",
      "\u001b[1;32m/Users/stopdemir/Documents/GitHub/SWC-ML-Case/SWC.ipynb Cell 11\u001b[0m line \u001b[0;36m2\n\u001b[1;32m      <a href='vscode-notebook-cell:/Users/stopdemir/Documents/GitHub/SWC-ML-Case/SWC.ipynb#X26sZmlsZQ%3D%3D?line=0'>1</a>\u001b[0m X_tsne \u001b[39m=\u001b[39m TSNE(learning_rate\u001b[39m=\u001b[39m\u001b[39m100\u001b[39m)\u001b[39m.\u001b[39mfit_transform(train_data\u001b[39m.\u001b[39mdrop([\u001b[39m'\u001b[39m\u001b[39my\u001b[39m\u001b[39m'\u001b[39m], axis \u001b[39m=\u001b[39m \u001b[39m1\u001b[39m))\n\u001b[0;32m----> <a href='vscode-notebook-cell:/Users/stopdemir/Documents/GitHub/SWC-ML-Case/SWC.ipynb#X26sZmlsZQ%3D%3D?line=1'>2</a>\u001b[0m figure(figsize\u001b[39m=\u001b[39m(\u001b[39m10\u001b[39m, \u001b[39m5\u001b[39m))\n\u001b[1;32m      <a href='vscode-notebook-cell:/Users/stopdemir/Documents/GitHub/SWC-ML-Case/SWC.ipynb#X26sZmlsZQ%3D%3D?line=2'>3</a>\u001b[0m scatter(X_tsne[:, \u001b[39m0\u001b[39m], X_tsne[:, \u001b[39m1\u001b[39m], c\u001b[39m=\u001b[39mtrain_data[\u001b[39m'\u001b[39m\u001b[39my\u001b[39m\u001b[39m'\u001b[39m])\n",
      "\u001b[0;31mNameError\u001b[0m: name 'figure' is not defined"
     ]
    }
   ],
   "source": [
    "\n",
    "X_tsne = TSNE(learning_rate=100).fit_transform(train_data.drop(['y'], axis = 1))\n",
    "figure(figsize=(10, 5))\n",
    "scatter(X_tsne[:, 0], X_tsne[:, 1], c=train_data['y'])"
   ]
  },
  {
   "cell_type": "code",
   "execution_count": 8,
   "metadata": {},
   "outputs": [
    {
     "data": {
      "text/plain": [
       "<matplotlib.collections.PathCollection at 0x7fe8b6e01910>"
      ]
     },
     "execution_count": 8,
     "metadata": {},
     "output_type": "execute_result"
    },
    {
     "data": {
      "image/png": "[encoded data removed]",
      "text/plain": [
       "<Figure size 640x480 with 1 Axes>"
      ]
     },
     "metadata": {},
     "output_type": "display_data"
    }
   ],
   "source": [
    "\n",
    "plt.scatter(X_tsne[:, 0], X_tsne[:, 1], c=train_data['y'])"
   ]
  },
  {
   "cell_type": "code",
   "execution_count": null,
   "metadata": {},
   "outputs": [],
   "source": []
  },
  {
   "cell_type": "markdown",
   "metadata": {},
   "source": [
    "## Decision Tree Model"
   ]
  },
  {
   "cell_type": "code",
   "execution_count": 21,
   "metadata": {},
   "outputs": [
    {
     "name": "stdout",
     "output_type": "stream",
     "text": [
      "number of classes:  9\n",
      "(50000, 108) (12500, 108) (50000,) (12500,)\n"
     ]
    }
   ],
   "source": [
    "X = train_data.drop(['y'], axis = 1)\n",
    "y = train_data['y']\n",
    "number_f_class = len(y.unique())\n",
    "X_train, X_test, y_train, y_test = train_test_split(X, y, test_size = 0.2, random_state = 13)\n",
    "print(\"number of classes: \", number_f_class)\n",
    "print(X_train.shape, X_test.shape, y_train.shape, y_test.shape)"
   ]
  },
  {
   "cell_type": "code",
   "execution_count": 9,
   "metadata": {},
   "outputs": [],
   "source": [
    "model = DecisionTreeClassifier(random_state = 10, max_depth = 25)\n",
    "model.fit(X_train, y_train)\n",
    "predicted = model.predict(X_test)\n",
    "predicted_train = model.predict(X_train)"
   ]
  },
  {
   "cell_type": "code",
   "execution_count": 10,
   "metadata": {},
   "outputs": [
    {
     "name": "stdout",
     "output_type": "stream",
     "text": [
      "Accuracy_train: 0.9058\n",
      "Accuracy_test: 0.7252\n"
     ]
    }
   ],
   "source": [
    "accuracy_train = accuracy_score(predicted_train, y_train)\n",
    "accuracy_test = accuracy_score(predicted, y_test)\n",
    "print(f'Accuracy_train: {accuracy_train}')\n",
    "print(f'Accuracy_test: {accuracy_test}')\n"
   ]
  },
  {
   "cell_type": "markdown",
   "metadata": {},
   "source": [
    "## LightGBM Model"
   ]
  },
  {
   "cell_type": "code",
   "execution_count": 22,
   "metadata": {},
   "outputs": [],
   "source": [
    "def objective(trial):\n",
    "    \"\"\"\n",
    "    Objective function to be minimized.\n",
    "    \"\"\"\n",
    "    param = {\n",
    "        \"objective\": \"multiclass\",\n",
    "        \"metric\": \"multi_logloss\",\n",
    "        \"verbosity\": -1,\n",
    "        \"boosting_type\": \"gbdt\",\n",
    "        \"num_class\": number_f_class,\n",
    "        \"lambda_l1\": trial.suggest_float(\"lambda_l1\", 1e-8, 10.0, log=True),\n",
    "        \"lambda_l2\": trial.suggest_float(\"lambda_l2\", 1e-8, 10.0, log=True),\n",
    "        \"num_leaves\": trial.suggest_int(\"num_leaves\", 2, 256),\n",
    "        \"feature_fraction\": trial.suggest_float(\"feature_fraction\", 0.4, 1.0),\n",
    "        \"bagging_fraction\": trial.suggest_float(\"bagging_fraction\", 0.4, 1.0),\n",
    "        \"bagging_freq\": trial.suggest_int(\"bagging_freq\", 1, 7),\n",
    "        \"min_child_samples\": trial.suggest_int(\"min_child_samples\", 5, 100),\n",
    "    }\n",
    "\n",
    "    gbm = lgb.LGBMClassifier(**param)\n",
    "    gbm.fit(X_train, y_train)\n",
    "    preds = gbm.predict(X_test)\n",
    "    accuracy_test = accuracy_score(y_test, preds)\n",
    "    return accuracy_test"
   ]
  },
  {
   "cell_type": "code",
   "execution_count": 23,
   "metadata": {},
   "outputs": [
    {
     "name": "stderr",
     "output_type": "stream",
     "text": [
      "[I 2023-11-11 18:02:37,692] A new study created in memory with name: lightgbm\n"
     ]
    },
    {
     "name": "stdout",
     "output_type": "stream",
     "text": [
      "[LightGBM] [Warning] feature_fraction is set=0.5813995435791038, colsample_bytree=1.0 will be ignored. Current value: feature_fraction=0.5813995435791038\n",
      "[LightGBM] [Warning] lambda_l1 is set=5.6649755830282306e-05, reg_alpha=0.0 will be ignored. Current value: lambda_l1=5.6649755830282306e-05\n",
      "[LightGBM] [Warning] bagging_fraction is set=0.48805353449026784, subsample=1.0 will be ignored. Current value: bagging_fraction=0.48805353449026784\n",
      "[LightGBM] [Warning] lambda_l2 is set=0.030403280126677572, reg_lambda=0.0 will be ignored. Current value: lambda_l2=0.030403280126677572\n",
      "[LightGBM] [Warning] bagging_freq is set=1, subsample_freq=0 will be ignored. Current value: bagging_freq=1\n"
     ]
    },
    {
     "name": "stderr",
     "output_type": "stream",
     "text": [
      "[I 2023-11-11 18:02:41,508] Trial 0 finished with value: 0.73568 and parameters: {'lambda_l1': 5.6649755830282306e-05, 'lambda_l2': 0.030403280126677572, 'num_leaves': 2, 'feature_fraction': 0.5813995435791038, 'bagging_fraction': 0.48805353449026784, 'bagging_freq': 1, 'min_child_samples': 22}. Best is trial 0 with value: 0.73568.\n"
     ]
    },
    {
     "name": "stdout",
     "output_type": "stream",
     "text": [
      "[LightGBM] [Warning] feature_fraction is set=0.6515167086419769, colsample_bytree=1.0 will be ignored. Current value: feature_fraction=0.6515167086419769\n",
      "[LightGBM] [Warning] lambda_l1 is set=1.2883876209377052e-05, reg_alpha=0.0 will be ignored. Current value: lambda_l1=1.2883876209377052e-05\n",
      "[LightGBM] [Warning] bagging_fraction is set=0.8111317002380557, subsample=1.0 will be ignored. Current value: bagging_fraction=0.8111317002380557\n",
      "[LightGBM] [Warning] lambda_l2 is set=3.72312200494449e-05, reg_lambda=0.0 will be ignored. Current value: lambda_l2=3.72312200494449e-05\n",
      "[LightGBM] [Warning] bagging_freq is set=2, subsample_freq=0 will be ignored. Current value: bagging_freq=2\n"
     ]
    },
    {
     "name": "stderr",
     "output_type": "stream",
     "text": [
      "[I 2023-11-11 18:03:15,230] Trial 1 finished with value: 0.83104 and parameters: {'lambda_l1': 1.2883876209377052e-05, 'lambda_l2': 3.72312200494449e-05, 'num_leaves': 139, 'feature_fraction': 0.6515167086419769, 'bagging_fraction': 0.8111317002380557, 'bagging_freq': 2, 'min_child_samples': 89}. Best is trial 1 with value: 0.83104.\n"
     ]
    },
    {
     "name": "stdout",
     "output_type": "stream",
     "text": [
      "[LightGBM] [Warning] feature_fraction is set=0.735213897067451, colsample_bytree=1.0 will be ignored. Current value: feature_fraction=0.735213897067451\n",
      "[LightGBM] [Warning] lambda_l1 is set=1.763958399884789e-08, reg_alpha=0.0 will be ignored. Current value: lambda_l1=1.763958399884789e-08\n",
      "[LightGBM] [Warning] bagging_fraction is set=0.4842321631571403, subsample=1.0 will be ignored. Current value: bagging_fraction=0.4842321631571403\n",
      "[LightGBM] [Warning] lambda_l2 is set=0.010819509974097813, reg_lambda=0.0 will be ignored. Current value: lambda_l2=0.010819509974097813\n",
      "[LightGBM] [Warning] bagging_freq is set=2, subsample_freq=0 will be ignored. Current value: bagging_freq=2\n"
     ]
    },
    {
     "name": "stderr",
     "output_type": "stream",
     "text": [
      "[I 2023-11-11 18:03:44,331] Trial 2 finished with value: 0.82792 and parameters: {'lambda_l1': 1.763958399884789e-08, 'lambda_l2': 0.010819509974097813, 'num_leaves': 108, 'feature_fraction': 0.735213897067451, 'bagging_fraction': 0.4842321631571403, 'bagging_freq': 2, 'min_child_samples': 81}. Best is trial 1 with value: 0.83104.\n"
     ]
    },
    {
     "name": "stdout",
     "output_type": "stream",
     "text": [
      "[LightGBM] [Warning] feature_fraction is set=0.9258334913776229, colsample_bytree=1.0 will be ignored. Current value: feature_fraction=0.9258334913776229\n",
      "[LightGBM] [Warning] lambda_l1 is set=5.180291295699627, reg_alpha=0.0 will be ignored. Current value: lambda_l1=5.180291295699627\n",
      "[LightGBM] [Warning] bagging_fraction is set=0.9367639981023084, subsample=1.0 will be ignored. Current value: bagging_fraction=0.9367639981023084\n",
      "[LightGBM] [Warning] lambda_l2 is set=6.6193844201488494e-06, reg_lambda=0.0 will be ignored. Current value: lambda_l2=6.6193844201488494e-06\n",
      "[LightGBM] [Warning] bagging_freq is set=1, subsample_freq=0 will be ignored. Current value: bagging_freq=1\n"
     ]
    },
    {
     "name": "stderr",
     "output_type": "stream",
     "text": [
      "[I 2023-11-11 18:04:12,671] Trial 3 finished with value: 0.82104 and parameters: {'lambda_l1': 5.180291295699627, 'lambda_l2': 6.6193844201488494e-06, 'num_leaves': 178, 'feature_fraction': 0.9258334913776229, 'bagging_fraction': 0.9367639981023084, 'bagging_freq': 1, 'min_child_samples': 8}. Best is trial 1 with value: 0.83104.\n"
     ]
    },
    {
     "name": "stdout",
     "output_type": "stream",
     "text": [
      "[LightGBM] [Warning] feature_fraction is set=0.6526645750030313, colsample_bytree=1.0 will be ignored. Current value: feature_fraction=0.6526645750030313\n",
      "[LightGBM] [Warning] lambda_l1 is set=3.376554594427989e-07, reg_alpha=0.0 will be ignored. Current value: lambda_l1=3.376554594427989e-07\n",
      "[LightGBM] [Warning] bagging_fraction is set=0.9747337180903012, subsample=1.0 will be ignored. Current value: bagging_fraction=0.9747337180903012\n",
      "[LightGBM] [Warning] lambda_l2 is set=0.8003547575557912, reg_lambda=0.0 will be ignored. Current value: lambda_l2=0.8003547575557912\n",
      "[LightGBM] [Warning] bagging_freq is set=4, subsample_freq=0 will be ignored. Current value: bagging_freq=4\n"
     ]
    },
    {
     "name": "stderr",
     "output_type": "stream",
     "text": [
      "[I 2023-11-11 18:04:27,059] Trial 4 finished with value: 0.81784 and parameters: {'lambda_l1': 3.376554594427989e-07, 'lambda_l2': 0.8003547575557912, 'num_leaves': 27, 'feature_fraction': 0.6526645750030313, 'bagging_fraction': 0.9747337180903012, 'bagging_freq': 4, 'min_child_samples': 71}. Best is trial 1 with value: 0.83104.\n"
     ]
    },
    {
     "name": "stdout",
     "output_type": "stream",
     "text": [
      "[LightGBM] [Warning] feature_fraction is set=0.4109729664065151, colsample_bytree=1.0 will be ignored. Current value: feature_fraction=0.4109729664065151\n",
      "[LightGBM] [Warning] lambda_l1 is set=6.912588094940543e-06, reg_alpha=0.0 will be ignored. Current value: lambda_l1=6.912588094940543e-06\n",
      "[LightGBM] [Warning] bagging_fraction is set=0.8500865889669804, subsample=1.0 will be ignored. Current value: bagging_fraction=0.8500865889669804\n",
      "[LightGBM] [Warning] lambda_l2 is set=0.015083716080906013, reg_lambda=0.0 will be ignored. Current value: lambda_l2=0.015083716080906013\n",
      "[LightGBM] [Warning] bagging_freq is set=7, subsample_freq=0 will be ignored. Current value: bagging_freq=7\n"
     ]
    },
    {
     "name": "stderr",
     "output_type": "stream",
     "text": [
      "[I 2023-11-11 18:05:16,817] Trial 5 finished with value: 0.83256 and parameters: {'lambda_l1': 6.912588094940543e-06, 'lambda_l2': 0.015083716080906013, 'num_leaves': 214, 'feature_fraction': 0.4109729664065151, 'bagging_fraction': 0.8500865889669804, 'bagging_freq': 7, 'min_child_samples': 76}. Best is trial 5 with value: 0.83256.\n"
     ]
    },
    {
     "name": "stdout",
     "output_type": "stream",
     "text": [
      "[LightGBM] [Warning] feature_fraction is set=0.6687361157055431, colsample_bytree=1.0 will be ignored. Current value: feature_fraction=0.6687361157055431\n",
      "[LightGBM] [Warning] lambda_l1 is set=3.341919070318744e-06, reg_alpha=0.0 will be ignored. Current value: lambda_l1=3.341919070318744e-06\n",
      "[LightGBM] [Warning] bagging_fraction is set=0.9451573018558573, subsample=1.0 will be ignored. Current value: bagging_fraction=0.9451573018558573\n",
      "[LightGBM] [Warning] lambda_l2 is set=0.12691529280491062, reg_lambda=0.0 will be ignored. Current value: lambda_l2=0.12691529280491062\n",
      "[LightGBM] [Warning] bagging_freq is set=3, subsample_freq=0 will be ignored. Current value: bagging_freq=3\n"
     ]
    },
    {
     "name": "stderr",
     "output_type": "stream",
     "text": [
      "[I 2023-11-11 18:05:31,436] Trial 6 finished with value: 0.81656 and parameters: {'lambda_l1': 3.341919070318744e-06, 'lambda_l2': 0.12691529280491062, 'num_leaves': 28, 'feature_fraction': 0.6687361157055431, 'bagging_fraction': 0.9451573018558573, 'bagging_freq': 3, 'min_child_samples': 32}. Best is trial 5 with value: 0.83256.\n"
     ]
    },
    {
     "name": "stdout",
     "output_type": "stream",
     "text": [
      "[LightGBM] [Warning] feature_fraction is set=0.5269768696000354, colsample_bytree=1.0 will be ignored. Current value: feature_fraction=0.5269768696000354\n",
      "[LightGBM] [Warning] lambda_l1 is set=1.4799844388224288e-07, reg_alpha=0.0 will be ignored. Current value: lambda_l1=1.4799844388224288e-07\n",
      "[LightGBM] [Warning] bagging_fraction is set=0.5593279956233357, subsample=1.0 will be ignored. Current value: bagging_fraction=0.5593279956233357\n",
      "[LightGBM] [Warning] lambda_l2 is set=1.493834966470408e-08, reg_lambda=0.0 will be ignored. Current value: lambda_l2=1.493834966470408e-08\n",
      "[LightGBM] [Warning] bagging_freq is set=4, subsample_freq=0 will be ignored. Current value: bagging_freq=4\n"
     ]
    },
    {
     "name": "stderr",
     "output_type": "stream",
     "text": [
      "[I 2023-11-11 18:06:16,079] Trial 7 finished with value: 0.82584 and parameters: {'lambda_l1': 1.4799844388224288e-07, 'lambda_l2': 1.493834966470408e-08, 'num_leaves': 175, 'feature_fraction': 0.5269768696000354, 'bagging_fraction': 0.5593279956233357, 'bagging_freq': 4, 'min_child_samples': 10}. Best is trial 5 with value: 0.83256.\n"
     ]
    },
    {
     "name": "stdout",
     "output_type": "stream",
     "text": [
      "[LightGBM] [Warning] feature_fraction is set=0.8198550160125587, colsample_bytree=1.0 will be ignored. Current value: feature_fraction=0.8198550160125587\n",
      "[LightGBM] [Warning] lambda_l1 is set=0.0014691239860705116, reg_alpha=0.0 will be ignored. Current value: lambda_l1=0.0014691239860705116\n",
      "[LightGBM] [Warning] bagging_fraction is set=0.46140065729669555, subsample=1.0 will be ignored. Current value: bagging_fraction=0.46140065729669555\n",
      "[LightGBM] [Warning] lambda_l2 is set=2.091978294467618e-07, reg_lambda=0.0 will be ignored. Current value: lambda_l2=2.091978294467618e-07\n",
      "[LightGBM] [Warning] bagging_freq is set=3, subsample_freq=0 will be ignored. Current value: bagging_freq=3\n"
     ]
    },
    {
     "name": "stderr",
     "output_type": "stream",
     "text": [
      "[I 2023-11-11 18:06:54,990] Trial 8 finished with value: 0.82744 and parameters: {'lambda_l1': 0.0014691239860705116, 'lambda_l2': 2.091978294467618e-07, 'num_leaves': 152, 'feature_fraction': 0.8198550160125587, 'bagging_fraction': 0.46140065729669555, 'bagging_freq': 3, 'min_child_samples': 71}. Best is trial 5 with value: 0.83256.\n"
     ]
    },
    {
     "name": "stdout",
     "output_type": "stream",
     "text": [
      "[LightGBM] [Warning] feature_fraction is set=0.7982767871318732, colsample_bytree=1.0 will be ignored. Current value: feature_fraction=0.7982767871318732\n",
      "[LightGBM] [Warning] lambda_l1 is set=5.340887446119036e-05, reg_alpha=0.0 will be ignored. Current value: lambda_l1=5.340887446119036e-05\n",
      "[LightGBM] [Warning] bagging_fraction is set=0.7089334672349852, subsample=1.0 will be ignored. Current value: bagging_fraction=0.7089334672349852\n",
      "[LightGBM] [Warning] lambda_l2 is set=2.8156659603215856e-08, reg_lambda=0.0 will be ignored. Current value: lambda_l2=2.8156659603215856e-08\n",
      "[LightGBM] [Warning] bagging_freq is set=7, subsample_freq=0 will be ignored. Current value: bagging_freq=7\n"
     ]
    },
    {
     "name": "stderr",
     "output_type": "stream",
     "text": [
      "[I 2023-11-11 18:07:32,775] Trial 9 finished with value: 0.82704 and parameters: {'lambda_l1': 5.340887446119036e-05, 'lambda_l2': 2.8156659603215856e-08, 'num_leaves': 138, 'feature_fraction': 0.7982767871318732, 'bagging_fraction': 0.7089334672349852, 'bagging_freq': 7, 'min_child_samples': 61}. Best is trial 5 with value: 0.83256.\n"
     ]
    },
    {
     "name": "stdout",
     "output_type": "stream",
     "text": [
      "[LightGBM] [Warning] feature_fraction is set=0.42363128013079204, colsample_bytree=1.0 will be ignored. Current value: feature_fraction=0.42363128013079204\n",
      "[LightGBM] [Warning] lambda_l1 is set=0.0029522590866082835, reg_alpha=0.0 will be ignored. Current value: lambda_l1=0.0029522590866082835\n",
      "[LightGBM] [Warning] bagging_fraction is set=0.7917733264802463, subsample=1.0 will be ignored. Current value: bagging_fraction=0.7917733264802463\n",
      "[LightGBM] [Warning] lambda_l2 is set=4.826385847167059, reg_lambda=0.0 will be ignored. Current value: lambda_l2=4.826385847167059\n",
      "[LightGBM] [Warning] bagging_freq is set=7, subsample_freq=0 will be ignored. Current value: bagging_freq=7\n"
     ]
    },
    {
     "name": "stderr",
     "output_type": "stream",
     "text": [
      "[I 2023-11-11 18:08:15,090] Trial 10 finished with value: 0.82832 and parameters: {'lambda_l1': 0.0029522590866082835, 'lambda_l2': 4.826385847167059, 'num_leaves': 248, 'feature_fraction': 0.42363128013079204, 'bagging_fraction': 0.7917733264802463, 'bagging_freq': 7, 'min_child_samples': 46}. Best is trial 5 with value: 0.83256.\n"
     ]
    },
    {
     "name": "stdout",
     "output_type": "stream",
     "text": [
      "[LightGBM] [Warning] feature_fraction is set=0.4175567281174416, colsample_bytree=1.0 will be ignored. Current value: feature_fraction=0.4175567281174416\n",
      "[LightGBM] [Warning] lambda_l1 is set=1.9379048385844075e-06, reg_alpha=0.0 will be ignored. Current value: lambda_l1=1.9379048385844075e-06\n",
      "[LightGBM] [Warning] bagging_fraction is set=0.8264148451314501, subsample=1.0 will be ignored. Current value: bagging_fraction=0.8264148451314501\n",
      "[LightGBM] [Warning] lambda_l2 is set=0.00013871569811411342, reg_lambda=0.0 will be ignored. Current value: lambda_l2=0.00013871569811411342\n",
      "[LightGBM] [Warning] bagging_freq is set=6, subsample_freq=0 will be ignored. Current value: bagging_freq=6\n"
     ]
    },
    {
     "name": "stderr",
     "output_type": "stream",
     "text": [
      "[I 2023-11-11 18:09:13,605] Trial 11 finished with value: 0.83136 and parameters: {'lambda_l1': 1.9379048385844075e-06, 'lambda_l2': 0.00013871569811411342, 'num_leaves': 243, 'feature_fraction': 0.4175567281174416, 'bagging_fraction': 0.8264148451314501, 'bagging_freq': 6, 'min_child_samples': 100}. Best is trial 5 with value: 0.83256.\n"
     ]
    },
    {
     "name": "stdout",
     "output_type": "stream",
     "text": [
      "[LightGBM] [Warning] feature_fraction is set=0.42899255539163994, colsample_bytree=1.0 will be ignored. Current value: feature_fraction=0.42899255539163994\n",
      "[LightGBM] [Warning] lambda_l1 is set=1.1603287197276274e-06, reg_alpha=0.0 will be ignored. Current value: lambda_l1=1.1603287197276274e-06\n",
      "[LightGBM] [Warning] bagging_fraction is set=0.837133847040843, subsample=1.0 will be ignored. Current value: bagging_fraction=0.837133847040843\n",
      "[LightGBM] [Warning] lambda_l2 is set=0.0011416554712565673, reg_lambda=0.0 will be ignored. Current value: lambda_l2=0.0011416554712565673\n",
      "[LightGBM] [Warning] bagging_freq is set=6, subsample_freq=0 will be ignored. Current value: bagging_freq=6\n"
     ]
    },
    {
     "name": "stderr",
     "output_type": "stream",
     "text": [
      "[I 2023-11-11 18:10:13,895] Trial 12 finished with value: 0.83152 and parameters: {'lambda_l1': 1.1603287197276274e-06, 'lambda_l2': 0.0011416554712565673, 'num_leaves': 247, 'feature_fraction': 0.42899255539163994, 'bagging_fraction': 0.837133847040843, 'bagging_freq': 6, 'min_child_samples': 98}. Best is trial 5 with value: 0.83256.\n"
     ]
    },
    {
     "name": "stdout",
     "output_type": "stream",
     "text": [
      "[LightGBM] [Warning] feature_fraction is set=0.48857260136110225, colsample_bytree=1.0 will be ignored. Current value: feature_fraction=0.48857260136110225\n",
      "[LightGBM] [Warning] lambda_l1 is set=2.694364336302213e-08, reg_alpha=0.0 will be ignored. Current value: lambda_l1=2.694364336302213e-08\n",
      "[LightGBM] [Warning] bagging_fraction is set=0.8765473800742325, subsample=1.0 will be ignored. Current value: bagging_fraction=0.8765473800742325\n",
      "[LightGBM] [Warning] lambda_l2 is set=0.003116568529076235, reg_lambda=0.0 will be ignored. Current value: lambda_l2=0.003116568529076235\n",
      "[LightGBM] [Warning] bagging_freq is set=6, subsample_freq=0 will be ignored. Current value: bagging_freq=6\n"
     ]
    },
    {
     "name": "stderr",
     "output_type": "stream",
     "text": [
      "[I 2023-11-11 18:10:35,154] Trial 13 finished with value: 0.83032 and parameters: {'lambda_l1': 2.694364336302213e-08, 'lambda_l2': 0.003116568529076235, 'num_leaves': 212, 'feature_fraction': 0.48857260136110225, 'bagging_fraction': 0.8765473800742325, 'bagging_freq': 6, 'min_child_samples': 100}. Best is trial 5 with value: 0.83256.\n"
     ]
    },
    {
     "name": "stdout",
     "output_type": "stream",
     "text": [
      "[LightGBM] [Warning] feature_fraction is set=0.4052973240522179, colsample_bytree=1.0 will be ignored. Current value: feature_fraction=0.4052973240522179\n",
      "[LightGBM] [Warning] lambda_l1 is set=1.003918169428895e-06, reg_alpha=0.0 will be ignored. Current value: lambda_l1=1.003918169428895e-06\n",
      "[LightGBM] [Warning] bagging_fraction is set=0.7238491209346329, subsample=1.0 will be ignored. Current value: bagging_fraction=0.7238491209346329\n",
      "[LightGBM] [Warning] lambda_l2 is set=0.0009904520767959868, reg_lambda=0.0 will be ignored. Current value: lambda_l2=0.0009904520767959868\n",
      "[LightGBM] [Warning] bagging_freq is set=6, subsample_freq=0 will be ignored. Current value: bagging_freq=6\n"
     ]
    },
    {
     "name": "stderr",
     "output_type": "stream",
     "text": [
      "[I 2023-11-11 18:10:47,898] Trial 14 finished with value: 0.82936 and parameters: {'lambda_l1': 1.003918169428895e-06, 'lambda_l2': 0.0009904520767959868, 'num_leaves': 211, 'feature_fraction': 0.4052973240522179, 'bagging_fraction': 0.7238491209346329, 'bagging_freq': 6, 'min_child_samples': 82}. Best is trial 5 with value: 0.83256.\n"
     ]
    },
    {
     "name": "stdout",
     "output_type": "stream",
     "text": [
      "[LightGBM] [Warning] feature_fraction is set=0.5051971888213371, colsample_bytree=1.0 will be ignored. Current value: feature_fraction=0.5051971888213371\n",
      "[LightGBM] [Warning] lambda_l1 is set=0.0002327483120418849, reg_alpha=0.0 will be ignored. Current value: lambda_l1=0.0002327483120418849\n",
      "[LightGBM] [Warning] bagging_fraction is set=0.8816863705931817, subsample=1.0 will be ignored. Current value: bagging_fraction=0.8816863705931817\n",
      "[LightGBM] [Warning] lambda_l2 is set=0.000642434399556575, reg_lambda=0.0 will be ignored. Current value: lambda_l2=0.000642434399556575\n",
      "[LightGBM] [Warning] bagging_freq is set=5, subsample_freq=0 will be ignored. Current value: bagging_freq=5\n"
     ]
    },
    {
     "name": "stderr",
     "output_type": "stream",
     "text": [
      "[I 2023-11-11 18:10:58,798] Trial 15 finished with value: 0.82896 and parameters: {'lambda_l1': 0.0002327483120418849, 'lambda_l2': 0.000642434399556575, 'num_leaves': 89, 'feature_fraction': 0.5051971888213371, 'bagging_fraction': 0.8816863705931817, 'bagging_freq': 5, 'min_child_samples': 52}. Best is trial 5 with value: 0.83256.\n"
     ]
    },
    {
     "name": "stdout",
     "output_type": "stream",
     "text": [
      "[LightGBM] [Warning] feature_fraction is set=0.5720548111149261, colsample_bytree=1.0 will be ignored. Current value: feature_fraction=0.5720548111149261\n",
      "[LightGBM] [Warning] lambda_l1 is set=1.6455691841213074e-07, reg_alpha=0.0 will be ignored. Current value: lambda_l1=1.6455691841213074e-07\n",
      "[LightGBM] [Warning] bagging_fraction is set=0.6230390639898935, subsample=1.0 will be ignored. Current value: bagging_fraction=0.6230390639898935\n",
      "[LightGBM] [Warning] lambda_l2 is set=0.10314276624455435, reg_lambda=0.0 will be ignored. Current value: lambda_l2=0.10314276624455435\n",
      "[LightGBM] [Warning] bagging_freq is set=7, subsample_freq=0 will be ignored. Current value: bagging_freq=7\n"
     ]
    },
    {
     "name": "stderr",
     "output_type": "stream",
     "text": [
      "[I 2023-11-11 18:11:12,784] Trial 16 finished with value: 0.82824 and parameters: {'lambda_l1': 1.6455691841213074e-07, 'lambda_l2': 0.10314276624455435, 'num_leaves': 218, 'feature_fraction': 0.5720548111149261, 'bagging_fraction': 0.6230390639898935, 'bagging_freq': 7, 'min_child_samples': 91}. Best is trial 5 with value: 0.83256.\n"
     ]
    },
    {
     "name": "stdout",
     "output_type": "stream",
     "text": [
      "[LightGBM] [Warning] feature_fraction is set=0.460330243087531, colsample_bytree=1.0 will be ignored. Current value: feature_fraction=0.460330243087531\n",
      "[LightGBM] [Warning] lambda_l1 is set=1.0695144646136052e-05, reg_alpha=0.0 will be ignored. Current value: lambda_l1=1.0695144646136052e-05\n",
      "[LightGBM] [Warning] bagging_fraction is set=0.7581790847966424, subsample=1.0 will be ignored. Current value: bagging_fraction=0.7581790847966424\n",
      "[LightGBM] [Warning] lambda_l2 is set=0.005775639800608074, reg_lambda=0.0 will be ignored. Current value: lambda_l2=0.005775639800608074\n",
      "[LightGBM] [Warning] bagging_freq is set=5, subsample_freq=0 will be ignored. Current value: bagging_freq=5\n"
     ]
    },
    {
     "name": "stderr",
     "output_type": "stream",
     "text": [
      "[I 2023-11-11 18:11:26,560] Trial 17 finished with value: 0.82696 and parameters: {'lambda_l1': 1.0695144646136052e-05, 'lambda_l2': 0.005775639800608074, 'num_leaves': 188, 'feature_fraction': 0.460330243087531, 'bagging_fraction': 0.7581790847966424, 'bagging_freq': 5, 'min_child_samples': 67}. Best is trial 5 with value: 0.83256.\n"
     ]
    },
    {
     "name": "stdout",
     "output_type": "stream",
     "text": [
      "[LightGBM] [Warning] feature_fraction is set=0.5477918000243716, colsample_bytree=1.0 will be ignored. Current value: feature_fraction=0.5477918000243716\n",
      "[LightGBM] [Warning] lambda_l1 is set=6.687372408934421e-07, reg_alpha=0.0 will be ignored. Current value: lambda_l1=6.687372408934421e-07\n",
      "[LightGBM] [Warning] bagging_fraction is set=0.8716927552664437, subsample=1.0 will be ignored. Current value: bagging_fraction=0.8716927552664437\n",
      "[LightGBM] [Warning] lambda_l2 is set=0.00012555038396812093, reg_lambda=0.0 will be ignored. Current value: lambda_l2=0.00012555038396812093\n",
      "[LightGBM] [Warning] bagging_freq is set=5, subsample_freq=0 will be ignored. Current value: bagging_freq=5\n"
     ]
    },
    {
     "name": "stderr",
     "output_type": "stream",
     "text": [
      "[I 2023-11-11 18:11:43,150] Trial 18 finished with value: 0.82984 and parameters: {'lambda_l1': 6.687372408934421e-07, 'lambda_l2': 0.00012555038396812093, 'num_leaves': 252, 'feature_fraction': 0.5477918000243716, 'bagging_fraction': 0.8716927552664437, 'bagging_freq': 5, 'min_child_samples': 79}. Best is trial 5 with value: 0.83256.\n"
     ]
    },
    {
     "name": "stdout",
     "output_type": "stream",
     "text": [
      "[LightGBM] [Warning] feature_fraction is set=0.4648806730205026, colsample_bytree=1.0 will be ignored. Current value: feature_fraction=0.4648806730205026\n",
      "[LightGBM] [Warning] lambda_l1 is set=1.3300152963059127e-08, reg_alpha=0.0 will be ignored. Current value: lambda_l1=1.3300152963059127e-08\n",
      "[LightGBM] [Warning] bagging_fraction is set=0.672706527722958, subsample=1.0 will be ignored. Current value: bagging_fraction=0.672706527722958\n",
      "[LightGBM] [Warning] lambda_l2 is set=0.029987326674546233, reg_lambda=0.0 will be ignored. Current value: lambda_l2=0.029987326674546233\n",
      "[LightGBM] [Warning] bagging_freq is set=6, subsample_freq=0 will be ignored. Current value: bagging_freq=6\n"
     ]
    },
    {
     "name": "stderr",
     "output_type": "stream",
     "text": [
      "[I 2023-11-11 18:11:52,012] Trial 19 finished with value: 0.82824 and parameters: {'lambda_l1': 1.3300152963059127e-08, 'lambda_l2': 0.029987326674546233, 'num_leaves': 79, 'feature_fraction': 0.4648806730205026, 'bagging_fraction': 0.672706527722958, 'bagging_freq': 6, 'min_child_samples': 43}. Best is trial 5 with value: 0.83256.\n"
     ]
    },
    {
     "name": "stdout",
     "output_type": "stream",
     "text": [
      "[LightGBM] [Warning] feature_fraction is set=0.5893187108062113, colsample_bytree=1.0 will be ignored. Current value: feature_fraction=0.5893187108062113\n",
      "[LightGBM] [Warning] lambda_l1 is set=3.013294884910177e-06, reg_alpha=0.0 will be ignored. Current value: lambda_l1=3.013294884910177e-06\n",
      "[LightGBM] [Warning] bagging_fraction is set=0.9894562361647804, subsample=1.0 will be ignored. Current value: bagging_fraction=0.9894562361647804\n",
      "[LightGBM] [Warning] lambda_l2 is set=0.0016535115232121649, reg_lambda=0.0 will be ignored. Current value: lambda_l2=0.0016535115232121649\n",
      "[LightGBM] [Warning] bagging_freq is set=7, subsample_freq=0 will be ignored. Current value: bagging_freq=7\n"
     ]
    },
    {
     "name": "stderr",
     "output_type": "stream",
     "text": [
      "[I 2023-11-11 18:12:12,927] Trial 20 finished with value: 0.8312 and parameters: {'lambda_l1': 3.013294884910177e-06, 'lambda_l2': 0.0016535115232121649, 'num_leaves': 225, 'feature_fraction': 0.5893187108062113, 'bagging_fraction': 0.9894562361647804, 'bagging_freq': 7, 'min_child_samples': 92}. Best is trial 5 with value: 0.83256.\n"
     ]
    },
    {
     "name": "stdout",
     "output_type": "stream",
     "text": [
      "[LightGBM] [Warning] feature_fraction is set=0.4008528544058448, colsample_bytree=1.0 will be ignored. Current value: feature_fraction=0.4008528544058448\n",
      "[LightGBM] [Warning] lambda_l1 is set=2.7096421423361544e-06, reg_alpha=0.0 will be ignored. Current value: lambda_l1=2.7096421423361544e-06\n",
      "[LightGBM] [Warning] bagging_fraction is set=0.8115164615931691, subsample=1.0 will be ignored. Current value: bagging_fraction=0.8115164615931691\n",
      "[LightGBM] [Warning] lambda_l2 is set=0.0002531768453066495, reg_lambda=0.0 will be ignored. Current value: lambda_l2=0.0002531768453066495\n",
      "[LightGBM] [Warning] bagging_freq is set=6, subsample_freq=0 will be ignored. Current value: bagging_freq=6\n"
     ]
    },
    {
     "name": "stderr",
     "output_type": "stream",
     "text": [
      "[I 2023-11-11 18:12:34,148] Trial 21 finished with value: 0.83096 and parameters: {'lambda_l1': 2.7096421423361544e-06, 'lambda_l2': 0.0002531768453066495, 'num_leaves': 255, 'feature_fraction': 0.4008528544058448, 'bagging_fraction': 0.8115164615931691, 'bagging_freq': 6, 'min_child_samples': 98}. Best is trial 5 with value: 0.83256.\n"
     ]
    },
    {
     "name": "stdout",
     "output_type": "stream",
     "text": [
      "[LightGBM] [Warning] feature_fraction is set=0.4628230685286908, colsample_bytree=1.0 will be ignored. Current value: feature_fraction=0.4628230685286908\n",
      "[LightGBM] [Warning] lambda_l1 is set=3.049523590679175e-07, reg_alpha=0.0 will be ignored. Current value: lambda_l1=3.049523590679175e-07\n",
      "[LightGBM] [Warning] bagging_fraction is set=0.8429611660441773, subsample=1.0 will be ignored. Current value: bagging_fraction=0.8429611660441773\n",
      "[LightGBM] [Warning] lambda_l2 is set=2.6369373415223657e-05, reg_lambda=0.0 will be ignored. Current value: lambda_l2=2.6369373415223657e-05\n",
      "[LightGBM] [Warning] bagging_freq is set=6, subsample_freq=0 will be ignored. Current value: bagging_freq=6\n"
     ]
    },
    {
     "name": "stderr",
     "output_type": "stream",
     "text": [
      "[I 2023-11-11 18:12:58,939] Trial 22 finished with value: 0.82984 and parameters: {'lambda_l1': 3.049523590679175e-07, 'lambda_l2': 2.6369373415223657e-05, 'num_leaves': 231, 'feature_fraction': 0.4628230685286908, 'bagging_fraction': 0.8429611660441773, 'bagging_freq': 6, 'min_child_samples': 100}. Best is trial 5 with value: 0.83256.\n"
     ]
    },
    {
     "name": "stdout",
     "output_type": "stream",
     "text": [
      "[LightGBM] [Warning] feature_fraction is set=0.44152429119513376, colsample_bytree=1.0 will be ignored. Current value: feature_fraction=0.44152429119513376\n",
      "[LightGBM] [Warning] lambda_l1 is set=2.3057010630484807e-05, reg_alpha=0.0 will be ignored. Current value: lambda_l1=2.3057010630484807e-05\n",
      "[LightGBM] [Warning] bagging_fraction is set=0.9095024881378132, subsample=1.0 will be ignored. Current value: bagging_fraction=0.9095024881378132\n",
      "[LightGBM] [Warning] lambda_l2 is set=0.00028456305119796107, reg_lambda=0.0 will be ignored. Current value: lambda_l2=0.00028456305119796107\n",
      "[LightGBM] [Warning] bagging_freq is set=5, subsample_freq=0 will be ignored. Current value: bagging_freq=5\n"
     ]
    },
    {
     "name": "stderr",
     "output_type": "stream",
     "text": [
      "[I 2023-11-11 18:13:53,542] Trial 23 finished with value: 0.83128 and parameters: {'lambda_l1': 2.3057010630484807e-05, 'lambda_l2': 0.00028456305119796107, 'num_leaves': 195, 'feature_fraction': 0.44152429119513376, 'bagging_fraction': 0.9095024881378132, 'bagging_freq': 5, 'min_child_samples': 84}. Best is trial 5 with value: 0.83256.\n"
     ]
    },
    {
     "name": "stdout",
     "output_type": "stream",
     "text": [
      "[LightGBM] [Warning] feature_fraction is set=0.5183363269169616, colsample_bytree=1.0 will be ignored. Current value: feature_fraction=0.5183363269169616\n",
      "[LightGBM] [Warning] lambda_l1 is set=5.799527988596815e-08, reg_alpha=0.0 will be ignored. Current value: lambda_l1=5.799527988596815e-08\n",
      "[LightGBM] [Warning] bagging_fraction is set=0.7693358075530563, subsample=1.0 will be ignored. Current value: bagging_fraction=0.7693358075530563\n",
      "[LightGBM] [Warning] lambda_l2 is set=0.003922385176076947, reg_lambda=0.0 will be ignored. Current value: lambda_l2=0.003922385176076947\n",
      "[LightGBM] [Warning] bagging_freq is set=7, subsample_freq=0 will be ignored. Current value: bagging_freq=7\n"
     ]
    },
    {
     "name": "stderr",
     "output_type": "stream",
     "text": [
      "[I 2023-11-11 18:14:19,067] Trial 24 finished with value: 0.8312 and parameters: {'lambda_l1': 5.799527988596815e-08, 'lambda_l2': 0.003922385176076947, 'num_leaves': 239, 'feature_fraction': 0.5183363269169616, 'bagging_fraction': 0.7693358075530563, 'bagging_freq': 7, 'min_child_samples': 62}. Best is trial 5 with value: 0.83256.\n"
     ]
    },
    {
     "name": "stdout",
     "output_type": "stream",
     "text": [
      "[LightGBM] [Warning] feature_fraction is set=0.43490027971595735, colsample_bytree=1.0 will be ignored. Current value: feature_fraction=0.43490027971595735\n",
      "[LightGBM] [Warning] lambda_l1 is set=2.32714776577485e-06, reg_alpha=0.0 will be ignored. Current value: lambda_l1=2.32714776577485e-06\n",
      "[LightGBM] [Warning] bagging_fraction is set=0.8349422655196435, subsample=1.0 will be ignored. Current value: bagging_fraction=0.8349422655196435\n",
      "[LightGBM] [Warning] lambda_l2 is set=2.2399903302167714e-06, reg_lambda=0.0 will be ignored. Current value: lambda_l2=2.2399903302167714e-06\n",
      "[LightGBM] [Warning] bagging_freq is set=6, subsample_freq=0 will be ignored. Current value: bagging_freq=6\n"
     ]
    },
    {
     "name": "stderr",
     "output_type": "stream",
     "text": [
      "[I 2023-11-11 18:14:40,955] Trial 25 finished with value: 0.82696 and parameters: {'lambda_l1': 2.32714776577485e-06, 'lambda_l2': 2.2399903302167714e-06, 'num_leaves': 161, 'feature_fraction': 0.43490027971595735, 'bagging_fraction': 0.8349422655196435, 'bagging_freq': 6, 'min_child_samples': 75}. Best is trial 5 with value: 0.83256.\n"
     ]
    },
    {
     "name": "stdout",
     "output_type": "stream",
     "text": [
      "[LightGBM] [Warning] feature_fraction is set=0.4047657111960993, colsample_bytree=1.0 will be ignored. Current value: feature_fraction=0.4047657111960993\n",
      "[LightGBM] [Warning] lambda_l1 is set=9.358171256863288e-08, reg_alpha=0.0 will be ignored. Current value: lambda_l1=9.358171256863288e-08\n",
      "[LightGBM] [Warning] bagging_fraction is set=0.7607028554592573, subsample=1.0 will be ignored. Current value: bagging_fraction=0.7607028554592573\n",
      "[LightGBM] [Warning] lambda_l2 is set=0.0008914837376788306, reg_lambda=0.0 will be ignored. Current value: lambda_l2=0.0008914837376788306\n",
      "[LightGBM] [Warning] bagging_freq is set=5, subsample_freq=0 will be ignored. Current value: bagging_freq=5\n"
     ]
    },
    {
     "name": "stderr",
     "output_type": "stream",
     "text": [
      "[I 2023-11-11 18:15:09,781] Trial 26 finished with value: 0.82896 and parameters: {'lambda_l1': 9.358171256863288e-08, 'lambda_l2': 0.0008914837376788306, 'num_leaves': 203, 'feature_fraction': 0.4047657111960993, 'bagging_fraction': 0.7607028554592573, 'bagging_freq': 5, 'min_child_samples': 90}. Best is trial 5 with value: 0.83256.\n"
     ]
    },
    {
     "name": "stdout",
     "output_type": "stream",
     "text": [
      "[LightGBM] [Warning] feature_fraction is set=0.48748765914956216, colsample_bytree=1.0 will be ignored. Current value: feature_fraction=0.48748765914956216\n",
      "[LightGBM] [Warning] lambda_l1 is set=4.815694874590332e-07, reg_alpha=0.0 will be ignored. Current value: lambda_l1=4.815694874590332e-07\n",
      "[LightGBM] [Warning] bagging_fraction is set=0.9105118813858761, subsample=1.0 will be ignored. Current value: bagging_fraction=0.9105118813858761\n",
      "[LightGBM] [Warning] lambda_l2 is set=0.00010391201173019168, reg_lambda=0.0 will be ignored. Current value: lambda_l2=0.00010391201173019168\n",
      "[LightGBM] [Warning] bagging_freq is set=7, subsample_freq=0 will be ignored. Current value: bagging_freq=7\n"
     ]
    },
    {
     "name": "stderr",
     "output_type": "stream",
     "text": [
      "[I 2023-11-11 18:15:28,765] Trial 27 finished with value: 0.82984 and parameters: {'lambda_l1': 4.815694874590332e-07, 'lambda_l2': 0.00010391201173019168, 'num_leaves': 237, 'feature_fraction': 0.48748765914956216, 'bagging_fraction': 0.9105118813858761, 'bagging_freq': 7, 'min_child_samples': 93}. Best is trial 5 with value: 0.83256.\n"
     ]
    },
    {
     "name": "stdout",
     "output_type": "stream",
     "text": [
      "[LightGBM] [Warning] feature_fraction is set=0.4860843129285265, colsample_bytree=1.0 will be ignored. Current value: feature_fraction=0.4860843129285265\n",
      "[LightGBM] [Warning] lambda_l1 is set=6.504089636538344e-06, reg_alpha=0.0 will be ignored. Current value: lambda_l1=6.504089636538344e-06\n",
      "[LightGBM] [Warning] bagging_fraction is set=0.8365438492914731, subsample=1.0 will be ignored. Current value: bagging_fraction=0.8365438492914731\n",
      "[LightGBM] [Warning] lambda_l2 is set=0.015582192369800765, reg_lambda=0.0 will be ignored. Current value: lambda_l2=0.015582192369800765\n",
      "[LightGBM] [Warning] bagging_freq is set=6, subsample_freq=0 will be ignored. Current value: bagging_freq=6\n"
     ]
    },
    {
     "name": "stderr",
     "output_type": "stream",
     "text": [
      "[I 2023-11-11 18:16:01,422] Trial 28 finished with value: 0.83296 and parameters: {'lambda_l1': 6.504089636538344e-06, 'lambda_l2': 0.015582192369800765, 'num_leaves': 232, 'feature_fraction': 0.4860843129285265, 'bagging_fraction': 0.8365438492914731, 'bagging_freq': 6, 'min_child_samples': 86}. Best is trial 28 with value: 0.83296.\n"
     ]
    },
    {
     "name": "stdout",
     "output_type": "stream",
     "text": [
      "[LightGBM] [Warning] feature_fraction is set=0.5417772706008931, colsample_bytree=1.0 will be ignored. Current value: feature_fraction=0.5417772706008931\n",
      "[LightGBM] [Warning] lambda_l1 is set=5.713313853962511e-05, reg_alpha=0.0 will be ignored. Current value: lambda_l1=5.713313853962511e-05\n",
      "[LightGBM] [Warning] bagging_fraction is set=0.85911606693137, subsample=1.0 will be ignored. Current value: bagging_fraction=0.85911606693137\n",
      "[LightGBM] [Warning] lambda_l2 is set=0.04298612284105191, reg_lambda=0.0 will be ignored. Current value: lambda_l2=0.04298612284105191\n",
      "[LightGBM] [Warning] bagging_freq is set=4, subsample_freq=0 will be ignored. Current value: bagging_freq=4\n"
     ]
    },
    {
     "name": "stderr",
     "output_type": "stream",
     "text": [
      "[I 2023-11-11 18:16:23,308] Trial 29 finished with value: 0.832 and parameters: {'lambda_l1': 5.713313853962511e-05, 'lambda_l2': 0.04298612284105191, 'num_leaves': 169, 'feature_fraction': 0.5417772706008931, 'bagging_fraction': 0.85911606693137, 'bagging_freq': 4, 'min_child_samples': 86}. Best is trial 28 with value: 0.83296.\n"
     ]
    },
    {
     "name": "stdout",
     "output_type": "stream",
     "text": [
      "[LightGBM] [Warning] feature_fraction is set=0.5957756219120723, colsample_bytree=1.0 will be ignored. Current value: feature_fraction=0.5957756219120723\n",
      "[LightGBM] [Warning] lambda_l1 is set=9.529130585639377e-05, reg_alpha=0.0 will be ignored. Current value: lambda_l1=9.529130585639377e-05\n",
      "[LightGBM] [Warning] bagging_fraction is set=0.869200097866641, subsample=1.0 will be ignored. Current value: bagging_fraction=0.869200097866641\n",
      "[LightGBM] [Warning] lambda_l2 is set=0.02876491200890911, reg_lambda=0.0 will be ignored. Current value: lambda_l2=0.02876491200890911\n",
      "[LightGBM] [Warning] bagging_freq is set=3, subsample_freq=0 will be ignored. Current value: bagging_freq=3\n"
     ]
    },
    {
     "name": "stderr",
     "output_type": "stream",
     "text": [
      "[I 2023-11-11 18:16:44,798] Trial 30 finished with value: 0.8312 and parameters: {'lambda_l1': 9.529130585639377e-05, 'lambda_l2': 0.02876491200890911, 'num_leaves': 118, 'feature_fraction': 0.5957756219120723, 'bagging_fraction': 0.869200097866641, 'bagging_freq': 3, 'min_child_samples': 59}. Best is trial 28 with value: 0.83296.\n"
     ]
    },
    {
     "name": "stdout",
     "output_type": "stream",
     "text": [
      "[LightGBM] [Warning] feature_fraction is set=0.48737948110790286, colsample_bytree=1.0 will be ignored. Current value: feature_fraction=0.48737948110790286\n",
      "[LightGBM] [Warning] lambda_l1 is set=1.157601716389298e-05, reg_alpha=0.0 will be ignored. Current value: lambda_l1=1.157601716389298e-05\n",
      "[LightGBM] [Warning] bagging_fraction is set=0.8420206341633748, subsample=1.0 will be ignored. Current value: bagging_fraction=0.8420206341633748\n",
      "[LightGBM] [Warning] lambda_l2 is set=0.013160396339855822, reg_lambda=0.0 will be ignored. Current value: lambda_l2=0.013160396339855822\n",
      "[LightGBM] [Warning] bagging_freq is set=4, subsample_freq=0 will be ignored. Current value: bagging_freq=4\n"
     ]
    },
    {
     "name": "stderr",
     "output_type": "stream",
     "text": [
      "[I 2023-11-11 18:17:13,872] Trial 31 finished with value: 0.8316 and parameters: {'lambda_l1': 1.157601716389298e-05, 'lambda_l2': 0.013160396339855822, 'num_leaves': 192, 'feature_fraction': 0.48737948110790286, 'bagging_fraction': 0.8420206341633748, 'bagging_freq': 4, 'min_child_samples': 84}. Best is trial 28 with value: 0.83296.\n"
     ]
    },
    {
     "name": "stdout",
     "output_type": "stream",
     "text": [
      "[LightGBM] [Warning] feature_fraction is set=0.5576604937038814, colsample_bytree=1.0 will be ignored. Current value: feature_fraction=0.5576604937038814\n",
      "[LightGBM] [Warning] lambda_l1 is set=1.1795023954324503e-05, reg_alpha=0.0 will be ignored. Current value: lambda_l1=1.1795023954324503e-05\n",
      "[LightGBM] [Warning] bagging_fraction is set=0.7939340214091171, subsample=1.0 will be ignored. Current value: bagging_fraction=0.7939340214091171\n",
      "[LightGBM] [Warning] lambda_l2 is set=0.14468945333067829, reg_lambda=0.0 will be ignored. Current value: lambda_l2=0.14468945333067829\n",
      "[LightGBM] [Warning] bagging_freq is set=4, subsample_freq=0 will be ignored. Current value: bagging_freq=4\n"
     ]
    },
    {
     "name": "stderr",
     "output_type": "stream",
     "text": [
      "[I 2023-11-11 18:17:39,301] Trial 32 finished with value: 0.82824 and parameters: {'lambda_l1': 1.1795023954324503e-05, 'lambda_l2': 0.14468945333067829, 'num_leaves': 171, 'feature_fraction': 0.5576604937038814, 'bagging_fraction': 0.7939340214091171, 'bagging_freq': 4, 'min_child_samples': 85}. Best is trial 28 with value: 0.83296.\n"
     ]
    },
    {
     "name": "stdout",
     "output_type": "stream",
     "text": [
      "[LightGBM] [Warning] feature_fraction is set=0.49503476332529606, colsample_bytree=1.0 will be ignored. Current value: feature_fraction=0.49503476332529606\n",
      "[LightGBM] [Warning] lambda_l1 is set=3.98916134510018e-05, reg_alpha=0.0 will be ignored. Current value: lambda_l1=3.98916134510018e-05\n",
      "[LightGBM] [Warning] bagging_fraction is set=0.9140490728295609, subsample=1.0 will be ignored. Current value: bagging_fraction=0.9140490728295609\n",
      "[LightGBM] [Warning] lambda_l2 is set=0.012991778161248156, reg_lambda=0.0 will be ignored. Current value: lambda_l2=0.012991778161248156\n",
      "[LightGBM] [Warning] bagging_freq is set=4, subsample_freq=0 will be ignored. Current value: bagging_freq=4\n"
     ]
    },
    {
     "name": "stderr",
     "output_type": "stream",
     "text": [
      "[I 2023-11-11 18:18:09,357] Trial 33 finished with value: 0.83184 and parameters: {'lambda_l1': 3.98916134510018e-05, 'lambda_l2': 0.012991778161248156, 'num_leaves': 192, 'feature_fraction': 0.49503476332529606, 'bagging_fraction': 0.9140490728295609, 'bagging_freq': 4, 'min_child_samples': 77}. Best is trial 28 with value: 0.83296.\n"
     ]
    },
    {
     "name": "stdout",
     "output_type": "stream",
     "text": [
      "[LightGBM] [Warning] feature_fraction is set=0.6127277750375099, colsample_bytree=1.0 will be ignored. Current value: feature_fraction=0.6127277750375099\n",
      "[LightGBM] [Warning] lambda_l1 is set=5.915497555867215e-05, reg_alpha=0.0 will be ignored. Current value: lambda_l1=5.915497555867215e-05\n",
      "[LightGBM] [Warning] bagging_fraction is set=0.9294826593569978, subsample=1.0 will be ignored. Current value: bagging_fraction=0.9294826593569978\n",
      "[LightGBM] [Warning] lambda_l2 is set=0.012603908518618973, reg_lambda=0.0 will be ignored. Current value: lambda_l2=0.012603908518618973\n",
      "[LightGBM] [Warning] bagging_freq is set=2, subsample_freq=0 will be ignored. Current value: bagging_freq=2\n"
     ]
    },
    {
     "name": "stderr",
     "output_type": "stream",
     "text": [
      "[I 2023-11-11 18:18:28,008] Trial 34 finished with value: 0.83048 and parameters: {'lambda_l1': 5.915497555867215e-05, 'lambda_l2': 0.012603908518618973, 'num_leaves': 147, 'feature_fraction': 0.6127277750375099, 'bagging_fraction': 0.9294826593569978, 'bagging_freq': 2, 'min_child_samples': 77}. Best is trial 28 with value: 0.83296.\n"
     ]
    },
    {
     "name": "stdout",
     "output_type": "stream",
     "text": [
      "[LightGBM] [Warning] feature_fraction is set=0.5325151150176186, colsample_bytree=1.0 will be ignored. Current value: feature_fraction=0.5325151150176186\n",
      "[LightGBM] [Warning] lambda_l1 is set=0.00036737853121012745, reg_alpha=0.0 will be ignored. Current value: lambda_l1=0.00036737853121012745\n",
      "[LightGBM] [Warning] bagging_fraction is set=0.9050431324383972, subsample=1.0 will be ignored. Current value: bagging_fraction=0.9050431324383972\n",
      "[LightGBM] [Warning] lambda_l2 is set=0.31630928941833863, reg_lambda=0.0 will be ignored. Current value: lambda_l2=0.31630928941833863\n",
      "[LightGBM] [Warning] bagging_freq is set=4, subsample_freq=0 will be ignored. Current value: bagging_freq=4\n"
     ]
    },
    {
     "name": "stderr",
     "output_type": "stream",
     "text": [
      "[I 2023-11-11 18:18:55,975] Trial 35 finished with value: 0.83016 and parameters: {'lambda_l1': 0.00036737853121012745, 'lambda_l2': 0.31630928941833863, 'num_leaves': 167, 'feature_fraction': 0.5325151150176186, 'bagging_fraction': 0.9050431324383972, 'bagging_freq': 4, 'min_child_samples': 71}. Best is trial 28 with value: 0.83296.\n"
     ]
    },
    {
     "name": "stdout",
     "output_type": "stream",
     "text": [
      "[LightGBM] [Warning] feature_fraction is set=0.6219100555099163, colsample_bytree=1.0 will be ignored. Current value: feature_fraction=0.6219100555099163\n",
      "[LightGBM] [Warning] lambda_l1 is set=7.170052595698863e-06, reg_alpha=0.0 will be ignored. Current value: lambda_l1=7.170052595698863e-06\n",
      "[LightGBM] [Warning] bagging_fraction is set=0.9987749945469565, subsample=1.0 will be ignored. Current value: bagging_fraction=0.9987749945469565\n",
      "[LightGBM] [Warning] lambda_l2 is set=0.06302369659511979, reg_lambda=0.0 will be ignored. Current value: lambda_l2=0.06302369659511979\n",
      "[LightGBM] [Warning] bagging_freq is set=3, subsample_freq=0 will be ignored. Current value: bagging_freq=3\n"
     ]
    },
    {
     "name": "stderr",
     "output_type": "stream",
     "text": [
      "[I 2023-11-11 18:19:34,061] Trial 36 finished with value: 0.83112 and parameters: {'lambda_l1': 7.170052595698863e-06, 'lambda_l2': 0.06302369659511979, 'num_leaves': 186, 'feature_fraction': 0.6219100555099163, 'bagging_fraction': 0.9987749945469565, 'bagging_freq': 3, 'min_child_samples': 74}. Best is trial 28 with value: 0.83296.\n"
     ]
    },
    {
     "name": "stdout",
     "output_type": "stream",
     "text": [
      "[LightGBM] [Warning] feature_fraction is set=0.5474829229898537, colsample_bytree=1.0 will be ignored. Current value: feature_fraction=0.5474829229898537\n",
      "[LightGBM] [Warning] lambda_l1 is set=3.591674507119127e-05, reg_alpha=0.0 will be ignored. Current value: lambda_l1=3.591674507119127e-05\n",
      "[LightGBM] [Warning] bagging_fraction is set=0.9605173293462632, subsample=1.0 will be ignored. Current value: bagging_fraction=0.9605173293462632\n",
      "[LightGBM] [Warning] lambda_l2 is set=0.7459824943769371, reg_lambda=0.0 will be ignored. Current value: lambda_l2=0.7459824943769371\n",
      "[LightGBM] [Warning] bagging_freq is set=4, subsample_freq=0 will be ignored. Current value: bagging_freq=4\n"
     ]
    },
    {
     "name": "stderr",
     "output_type": "stream",
     "text": [
      "[I 2023-11-11 18:20:12,586] Trial 37 finished with value: 0.83216 and parameters: {'lambda_l1': 3.591674507119127e-05, 'lambda_l2': 0.7459824943769371, 'num_leaves': 204, 'feature_fraction': 0.5474829229898537, 'bagging_fraction': 0.9605173293462632, 'bagging_freq': 4, 'min_child_samples': 65}. Best is trial 28 with value: 0.83296.\n"
     ]
    },
    {
     "name": "stdout",
     "output_type": "stream",
     "text": [
      "[LightGBM] [Warning] feature_fraction is set=0.5528789183863085, colsample_bytree=1.0 will be ignored. Current value: feature_fraction=0.5528789183863085\n",
      "[LightGBM] [Warning] lambda_l1 is set=0.00015145344167243519, reg_alpha=0.0 will be ignored. Current value: lambda_l1=0.00015145344167243519\n",
      "[LightGBM] [Warning] bagging_fraction is set=0.9565962117943242, subsample=1.0 will be ignored. Current value: bagging_fraction=0.9565962117943242\n",
      "[LightGBM] [Warning] lambda_l2 is set=0.7810697676443097, reg_lambda=0.0 will be ignored. Current value: lambda_l2=0.7810697676443097\n",
      "[LightGBM] [Warning] bagging_freq is set=1, subsample_freq=0 will be ignored. Current value: bagging_freq=1\n"
     ]
    },
    {
     "name": "stderr",
     "output_type": "stream",
     "text": [
      "[I 2023-11-11 18:20:40,074] Trial 38 finished with value: 0.83024 and parameters: {'lambda_l1': 0.00015145344167243519, 'lambda_l2': 0.7810697676443097, 'num_leaves': 204, 'feature_fraction': 0.5528789183863085, 'bagging_fraction': 0.9565962117943242, 'bagging_freq': 1, 'min_child_samples': 64}. Best is trial 28 with value: 0.83296.\n"
     ]
    },
    {
     "name": "stdout",
     "output_type": "stream",
     "text": [
      "[LightGBM] [Warning] feature_fraction is set=0.6766092306733985, colsample_bytree=1.0 will be ignored. Current value: feature_fraction=0.6766092306733985\n",
      "[LightGBM] [Warning] lambda_l1 is set=0.000701577738532088, reg_alpha=0.0 will be ignored. Current value: lambda_l1=0.000701577738532088\n",
      "[LightGBM] [Warning] bagging_fraction is set=0.9595834895919135, subsample=1.0 will be ignored. Current value: bagging_fraction=0.9595834895919135\n",
      "[LightGBM] [Warning] lambda_l2 is set=2.7251612567158445, reg_lambda=0.0 will be ignored. Current value: lambda_l2=2.7251612567158445\n",
      "[LightGBM] [Warning] bagging_freq is set=3, subsample_freq=0 will be ignored. Current value: bagging_freq=3\n"
     ]
    },
    {
     "name": "stderr",
     "output_type": "stream",
     "text": [
      "[I 2023-11-11 18:21:11,161] Trial 39 finished with value: 0.83128 and parameters: {'lambda_l1': 0.000701577738532088, 'lambda_l2': 2.7251612567158445, 'num_leaves': 222, 'feature_fraction': 0.6766092306733985, 'bagging_fraction': 0.9595834895919135, 'bagging_freq': 3, 'min_child_samples': 55}. Best is trial 28 with value: 0.83296.\n"
     ]
    },
    {
     "name": "stdout",
     "output_type": "stream",
     "text": [
      "[LightGBM] [Warning] feature_fraction is set=0.5265096247079498, colsample_bytree=1.0 will be ignored. Current value: feature_fraction=0.5265096247079498\n",
      "[LightGBM] [Warning] lambda_l1 is set=2.622746445153567e-05, reg_alpha=0.0 will be ignored. Current value: lambda_l1=2.622746445153567e-05\n",
      "[LightGBM] [Warning] bagging_fraction is set=0.9523738775259327, subsample=1.0 will be ignored. Current value: bagging_fraction=0.9523738775259327\n",
      "[LightGBM] [Warning] lambda_l2 is set=0.5630144332768781, reg_lambda=0.0 will be ignored. Current value: lambda_l2=0.5630144332768781\n",
      "[LightGBM] [Warning] bagging_freq is set=5, subsample_freq=0 will be ignored. Current value: bagging_freq=5\n"
     ]
    },
    {
     "name": "stderr",
     "output_type": "stream",
     "text": [
      "[I 2023-11-11 18:21:34,307] Trial 40 finished with value: 0.82992 and parameters: {'lambda_l1': 2.622746445153567e-05, 'lambda_l2': 0.5630144332768781, 'num_leaves': 126, 'feature_fraction': 0.5265096247079498, 'bagging_fraction': 0.9523738775259327, 'bagging_freq': 5, 'min_child_samples': 30}. Best is trial 28 with value: 0.83296.\n"
     ]
    },
    {
     "name": "stdout",
     "output_type": "stream",
     "text": [
      "[LightGBM] [Warning] feature_fraction is set=0.5134351544590372, colsample_bytree=1.0 will be ignored. Current value: feature_fraction=0.5134351544590372\n",
      "[LightGBM] [Warning] lambda_l1 is set=3.9607882191771784e-05, reg_alpha=0.0 will be ignored. Current value: lambda_l1=3.9607882191771784e-05\n",
      "[LightGBM] [Warning] bagging_fraction is set=0.9310656104275086, subsample=1.0 will be ignored. Current value: bagging_fraction=0.9310656104275086\n",
      "[LightGBM] [Warning] lambda_l2 is set=0.05572221301205952, reg_lambda=0.0 will be ignored. Current value: lambda_l2=0.05572221301205952\n",
      "[LightGBM] [Warning] bagging_freq is set=4, subsample_freq=0 will be ignored. Current value: bagging_freq=4\n"
     ]
    },
    {
     "name": "stderr",
     "output_type": "stream",
     "text": [
      "[I 2023-11-11 18:22:06,963] Trial 41 finished with value: 0.82976 and parameters: {'lambda_l1': 3.9607882191771784e-05, 'lambda_l2': 0.05572221301205952, 'num_leaves': 201, 'feature_fraction': 0.5134351544590372, 'bagging_fraction': 0.9310656104275086, 'bagging_freq': 4, 'min_child_samples': 67}. Best is trial 28 with value: 0.83296.\n"
     ]
    },
    {
     "name": "stdout",
     "output_type": "stream",
     "text": [
      "[LightGBM] [Warning] feature_fraction is set=0.46260382446438797, colsample_bytree=1.0 will be ignored. Current value: feature_fraction=0.46260382446438797\n",
      "[LightGBM] [Warning] lambda_l1 is set=0.00014982666995871701, reg_alpha=0.0 will be ignored. Current value: lambda_l1=0.00014982666995871701\n",
      "[LightGBM] [Warning] bagging_fraction is set=0.9733710541285312, subsample=1.0 will be ignored. Current value: bagging_fraction=0.9733710541285312\n",
      "[LightGBM] [Warning] lambda_l2 is set=0.30304394617297653, reg_lambda=0.0 will be ignored. Current value: lambda_l2=0.30304394617297653\n",
      "[LightGBM] [Warning] bagging_freq is set=4, subsample_freq=0 will be ignored. Current value: bagging_freq=4\n"
     ]
    },
    {
     "name": "stderr",
     "output_type": "stream",
     "text": [
      "[I 2023-11-11 18:22:25,712] Trial 42 finished with value: 0.82752 and parameters: {'lambda_l1': 0.00014982666995871701, 'lambda_l2': 0.30304394617297653, 'num_leaves': 184, 'feature_fraction': 0.46260382446438797, 'bagging_fraction': 0.9733710541285312, 'bagging_freq': 4, 'min_child_samples': 78}. Best is trial 28 with value: 0.83296.\n"
     ]
    },
    {
     "name": "stdout",
     "output_type": "stream",
     "text": [
      "[LightGBM] [Warning] feature_fraction is set=0.6313145044179591, colsample_bytree=1.0 will be ignored. Current value: feature_fraction=0.6313145044179591\n",
      "[LightGBM] [Warning] lambda_l1 is set=4.637638868793872e-06, reg_alpha=0.0 will be ignored. Current value: lambda_l1=4.637638868793872e-06\n",
      "[LightGBM] [Warning] bagging_fraction is set=0.9025030262303099, subsample=1.0 will be ignored. Current value: bagging_fraction=0.9025030262303099\n",
      "[LightGBM] [Warning] lambda_l2 is set=0.01336858088845037, reg_lambda=0.0 will be ignored. Current value: lambda_l2=0.01336858088845037\n",
      "[LightGBM] [Warning] bagging_freq is set=4, subsample_freq=0 will be ignored. Current value: bagging_freq=4\n"
     ]
    },
    {
     "name": "stderr",
     "output_type": "stream",
     "text": [
      "[I 2023-11-11 18:22:49,426] Trial 43 finished with value: 0.8316 and parameters: {'lambda_l1': 4.637638868793872e-06, 'lambda_l2': 0.01336858088845037, 'num_leaves': 156, 'feature_fraction': 0.6313145044179591, 'bagging_fraction': 0.9025030262303099, 'bagging_freq': 4, 'min_child_samples': 86}. Best is trial 28 with value: 0.83296.\n"
     ]
    },
    {
     "name": "stdout",
     "output_type": "stream",
     "text": [
      "[LightGBM] [Warning] feature_fraction is set=0.5811395471192232, colsample_bytree=1.0 will be ignored. Current value: feature_fraction=0.5811395471192232\n",
      "[LightGBM] [Warning] lambda_l1 is set=2.8225352278150046e-05, reg_alpha=0.0 will be ignored. Current value: lambda_l1=2.8225352278150046e-05\n",
      "[LightGBM] [Warning] bagging_fraction is set=0.8587522208503063, subsample=1.0 will be ignored. Current value: bagging_fraction=0.8587522208503063\n",
      "[LightGBM] [Warning] lambda_l2 is set=2.8573686141361025, reg_lambda=0.0 will be ignored. Current value: lambda_l2=2.8573686141361025\n",
      "[LightGBM] [Warning] bagging_freq is set=3, subsample_freq=0 will be ignored. Current value: bagging_freq=3\n"
     ]
    },
    {
     "name": "stderr",
     "output_type": "stream",
     "text": [
      "[I 2023-11-11 18:23:13,825] Trial 44 finished with value: 0.83152 and parameters: {'lambda_l1': 2.8225352278150046e-05, 'lambda_l2': 2.8573686141361025, 'num_leaves': 180, 'feature_fraction': 0.5811395471192232, 'bagging_fraction': 0.8587522208503063, 'bagging_freq': 3, 'min_child_samples': 70}. Best is trial 28 with value: 0.83296.\n"
     ]
    },
    {
     "name": "stdout",
     "output_type": "stream",
     "text": [
      "[LightGBM] [Warning] feature_fraction is set=0.4937952583486879, colsample_bytree=1.0 will be ignored. Current value: feature_fraction=0.4937952583486879\n",
      "[LightGBM] [Warning] lambda_l1 is set=0.004446679461280468, reg_alpha=0.0 will be ignored. Current value: lambda_l1=0.004446679461280468\n",
      "[LightGBM] [Warning] bagging_fraction is set=0.8888635201888279, subsample=1.0 will be ignored. Current value: bagging_fraction=0.8888635201888279\n",
      "[LightGBM] [Warning] lambda_l2 is set=9.364290256475767, reg_lambda=0.0 will be ignored. Current value: lambda_l2=9.364290256475767\n",
      "[LightGBM] [Warning] bagging_freq is set=3, subsample_freq=0 will be ignored. Current value: bagging_freq=3\n"
     ]
    },
    {
     "name": "stderr",
     "output_type": "stream",
     "text": [
      "[I 2023-11-11 18:23:27,975] Trial 45 finished with value: 0.828 and parameters: {'lambda_l1': 0.004446679461280468, 'lambda_l2': 9.364290256475767, 'num_leaves': 215, 'feature_fraction': 0.4937952583486879, 'bagging_fraction': 0.8888635201888279, 'bagging_freq': 3, 'min_child_samples': 88}. Best is trial 28 with value: 0.83296.\n"
     ]
    },
    {
     "name": "stdout",
     "output_type": "stream",
     "text": [
      "[LightGBM] [Warning] feature_fraction is set=0.559680933242951, colsample_bytree=1.0 will be ignored. Current value: feature_fraction=0.559680933242951\n",
      "[LightGBM] [Warning] lambda_l1 is set=5.403806922390856e-05, reg_alpha=0.0 will be ignored. Current value: lambda_l1=5.403806922390856e-05\n",
      "[LightGBM] [Warning] bagging_fraction is set=0.9253156007611069, subsample=1.0 will be ignored. Current value: bagging_fraction=0.9253156007611069\n",
      "[LightGBM] [Warning] lambda_l2 is set=0.029829503469755155, reg_lambda=0.0 will be ignored. Current value: lambda_l2=0.029829503469755155\n",
      "[LightGBM] [Warning] bagging_freq is set=4, subsample_freq=0 will be ignored. Current value: bagging_freq=4\n"
     ]
    },
    {
     "name": "stderr",
     "output_type": "stream",
     "text": [
      "[I 2023-11-11 18:24:01,112] Trial 46 finished with value: 0.8304 and parameters: {'lambda_l1': 5.403806922390856e-05, 'lambda_l2': 0.029829503469755155, 'num_leaves': 230, 'feature_fraction': 0.559680933242951, 'bagging_fraction': 0.9253156007611069, 'bagging_freq': 4, 'min_child_samples': 80}. Best is trial 28 with value: 0.83296.\n"
     ]
    },
    {
     "name": "stdout",
     "output_type": "stream",
     "text": [
      "[LightGBM] [Warning] feature_fraction is set=0.4394492622043588, colsample_bytree=1.0 will be ignored. Current value: feature_fraction=0.4394492622043588\n",
      "[LightGBM] [Warning] lambda_l1 is set=7.933717424264983e-06, reg_alpha=0.0 will be ignored. Current value: lambda_l1=7.933717424264983e-06\n",
      "[LightGBM] [Warning] bagging_fraction is set=0.810187184938747, subsample=1.0 will be ignored. Current value: bagging_fraction=0.810187184938747\n",
      "[LightGBM] [Warning] lambda_l2 is set=0.0056748688487610575, reg_lambda=0.0 will be ignored. Current value: lambda_l2=0.0056748688487610575\n",
      "[LightGBM] [Warning] bagging_freq is set=5, subsample_freq=0 will be ignored. Current value: bagging_freq=5\n"
     ]
    },
    {
     "name": "stderr",
     "output_type": "stream",
     "text": [
      "[I 2023-11-11 18:24:25,940] Trial 47 finished with value: 0.8252 and parameters: {'lambda_l1': 7.933717424264983e-06, 'lambda_l2': 0.0056748688487610575, 'num_leaves': 142, 'feature_fraction': 0.4394492622043588, 'bagging_fraction': 0.810187184938747, 'bagging_freq': 5, 'min_child_samples': 57}. Best is trial 28 with value: 0.83296.\n"
     ]
    },
    {
     "name": "stdout",
     "output_type": "stream",
     "text": [
      "[LightGBM] [Warning] feature_fraction is set=0.5370560410198625, colsample_bytree=1.0 will be ignored. Current value: feature_fraction=0.5370560410198625\n",
      "[LightGBM] [Warning] lambda_l1 is set=0.00046598507055980076, reg_alpha=0.0 will be ignored. Current value: lambda_l1=0.00046598507055980076\n",
      "[LightGBM] [Warning] bagging_fraction is set=0.8629871678845643, subsample=1.0 will be ignored. Current value: bagging_fraction=0.8629871678845643\n",
      "[LightGBM] [Warning] lambda_l2 is set=0.18193130446154543, reg_lambda=0.0 will be ignored. Current value: lambda_l2=0.18193130446154543\n",
      "[LightGBM] [Warning] bagging_freq is set=2, subsample_freq=0 will be ignored. Current value: bagging_freq=2\n"
     ]
    },
    {
     "name": "stderr",
     "output_type": "stream",
     "text": [
      "[I 2023-11-11 18:24:33,656] Trial 48 finished with value: 0.81472 and parameters: {'lambda_l1': 0.00046598507055980076, 'lambda_l2': 0.18193130446154543, 'num_leaves': 24, 'feature_fraction': 0.5370560410198625, 'bagging_fraction': 0.8629871678845643, 'bagging_freq': 2, 'min_child_samples': 50}. Best is trial 28 with value: 0.83296.\n"
     ]
    },
    {
     "name": "stdout",
     "output_type": "stream",
     "text": [
      "[LightGBM] [Warning] feature_fraction is set=0.5092928879963271, colsample_bytree=1.0 will be ignored. Current value: feature_fraction=0.5092928879963271\n",
      "[LightGBM] [Warning] lambda_l1 is set=1.8952394791216432e-05, reg_alpha=0.0 will be ignored. Current value: lambda_l1=1.8952394791216432e-05\n",
      "[LightGBM] [Warning] bagging_fraction is set=0.9373532533004384, subsample=1.0 will be ignored. Current value: bagging_fraction=0.9373532533004384\n",
      "[LightGBM] [Warning] lambda_l2 is set=0.06298810840025068, reg_lambda=0.0 will be ignored. Current value: lambda_l2=0.06298810840025068\n",
      "[LightGBM] [Warning] bagging_freq is set=4, subsample_freq=0 will be ignored. Current value: bagging_freq=4\n"
     ]
    },
    {
     "name": "stderr",
     "output_type": "stream",
     "text": [
      "[I 2023-11-11 18:24:49,829] Trial 49 finished with value: 0.832 and parameters: {'lambda_l1': 1.8952394791216432e-05, 'lambda_l2': 0.06298810840025068, 'num_leaves': 207, 'feature_fraction': 0.5092928879963271, 'bagging_fraction': 0.9373532533004384, 'bagging_freq': 4, 'min_child_samples': 73}. Best is trial 28 with value: 0.83296.\n"
     ]
    },
    {
     "name": "stdout",
     "output_type": "stream",
     "text": [
      "[LightGBM] [Warning] feature_fraction is set=0.47350129350236014, colsample_bytree=1.0 will be ignored. Current value: feature_fraction=0.47350129350236014\n",
      "[LightGBM] [Warning] lambda_l1 is set=1.047084957966634e-06, reg_alpha=0.0 will be ignored. Current value: lambda_l1=1.047084957966634e-06\n",
      "[LightGBM] [Warning] bagging_fraction is set=0.9457436776185563, subsample=1.0 will be ignored. Current value: bagging_fraction=0.9457436776185563\n",
      "[LightGBM] [Warning] lambda_l2 is set=0.07391012127337825, reg_lambda=0.0 will be ignored. Current value: lambda_l2=0.07391012127337825\n",
      "[LightGBM] [Warning] bagging_freq is set=7, subsample_freq=0 will be ignored. Current value: bagging_freq=7\n"
     ]
    },
    {
     "name": "stderr",
     "output_type": "stream",
     "text": [
      "[I 2023-11-11 18:25:04,721] Trial 50 finished with value: 0.83088 and parameters: {'lambda_l1': 1.047084957966634e-06, 'lambda_l2': 0.07391012127337825, 'num_leaves': 206, 'feature_fraction': 0.47350129350236014, 'bagging_fraction': 0.9457436776185563, 'bagging_freq': 7, 'min_child_samples': 72}. Best is trial 28 with value: 0.83296.\n"
     ]
    },
    {
     "name": "stdout",
     "output_type": "stream",
     "text": [
      "[LightGBM] [Warning] feature_fraction is set=0.5028753266398819, colsample_bytree=1.0 will be ignored. Current value: feature_fraction=0.5028753266398819\n",
      "[LightGBM] [Warning] lambda_l1 is set=1.968688455065029e-05, reg_alpha=0.0 will be ignored. Current value: lambda_l1=1.968688455065029e-05\n",
      "[LightGBM] [Warning] bagging_fraction is set=0.8942225636352008, subsample=1.0 will be ignored. Current value: bagging_fraction=0.8942225636352008\n",
      "[LightGBM] [Warning] lambda_l2 is set=0.024691586900057207, reg_lambda=0.0 will be ignored. Current value: lambda_l2=0.024691586900057207\n",
      "[LightGBM] [Warning] bagging_freq is set=4, subsample_freq=0 will be ignored. Current value: bagging_freq=4\n"
     ]
    },
    {
     "name": "stderr",
     "output_type": "stream",
     "text": [
      "[I 2023-11-11 18:25:22,306] Trial 51 finished with value: 0.83 and parameters: {'lambda_l1': 1.968688455065029e-05, 'lambda_l2': 0.024691586900057207, 'num_leaves': 195, 'feature_fraction': 0.5028753266398819, 'bagging_fraction': 0.8942225636352008, 'bagging_freq': 4, 'min_child_samples': 66}. Best is trial 28 with value: 0.83296.\n"
     ]
    },
    {
     "name": "stdout",
     "output_type": "stream",
     "text": [
      "[LightGBM] [Warning] feature_fraction is set=0.449080380104551, colsample_bytree=1.0 will be ignored. Current value: feature_fraction=0.449080380104551\n",
      "[LightGBM] [Warning] lambda_l1 is set=9.272758722412432e-05, reg_alpha=0.0 will be ignored. Current value: lambda_l1=9.272758722412432e-05\n",
      "[LightGBM] [Warning] bagging_fraction is set=0.9850816906419301, subsample=1.0 will be ignored. Current value: bagging_fraction=0.9850816906419301\n",
      "[LightGBM] [Warning] lambda_l2 is set=0.0030480773856348823, reg_lambda=0.0 will be ignored. Current value: lambda_l2=0.0030480773856348823\n",
      "[LightGBM] [Warning] bagging_freq is set=4, subsample_freq=0 will be ignored. Current value: bagging_freq=4\n"
     ]
    },
    {
     "name": "stderr",
     "output_type": "stream",
     "text": [
      "[I 2023-11-11 18:25:37,869] Trial 52 finished with value: 0.83176 and parameters: {'lambda_l1': 9.272758722412432e-05, 'lambda_l2': 0.0030480773856348823, 'num_leaves': 215, 'feature_fraction': 0.449080380104551, 'bagging_fraction': 0.9850816906419301, 'bagging_freq': 4, 'min_child_samples': 80}. Best is trial 28 with value: 0.83296.\n"
     ]
    },
    {
     "name": "stdout",
     "output_type": "stream",
     "text": [
      "[LightGBM] [Warning] feature_fraction is set=0.42621223949201864, colsample_bytree=1.0 will be ignored. Current value: feature_fraction=0.42621223949201864\n",
      "[LightGBM] [Warning] lambda_l1 is set=7.4284521230099935e-06, reg_alpha=0.0 will be ignored. Current value: lambda_l1=7.4284521230099935e-06\n",
      "[LightGBM] [Warning] bagging_fraction is set=0.93107737953299, subsample=1.0 will be ignored. Current value: bagging_fraction=0.93107737953299\n",
      "[LightGBM] [Warning] lambda_l2 is set=0.064748600675302, reg_lambda=0.0 will be ignored. Current value: lambda_l2=0.064748600675302\n",
      "[LightGBM] [Warning] bagging_freq is set=5, subsample_freq=0 will be ignored. Current value: bagging_freq=5\n"
     ]
    },
    {
     "name": "stderr",
     "output_type": "stream",
     "text": [
      "[I 2023-11-11 18:25:51,510] Trial 53 finished with value: 0.82992 and parameters: {'lambda_l1': 7.4284521230099935e-06, 'lambda_l2': 0.064748600675302, 'num_leaves': 172, 'feature_fraction': 0.42621223949201864, 'bagging_fraction': 0.93107737953299, 'bagging_freq': 5, 'min_child_samples': 75}. Best is trial 28 with value: 0.83296.\n"
     ]
    },
    {
     "name": "stdout",
     "output_type": "stream",
     "text": [
      "[LightGBM] [Warning] feature_fraction is set=0.5112916997938545, colsample_bytree=1.0 will be ignored. Current value: feature_fraction=0.5112916997938545\n",
      "[LightGBM] [Warning] lambda_l1 is set=3.7737243551288277e-06, reg_alpha=0.0 will be ignored. Current value: lambda_l1=3.7737243551288277e-06\n",
      "[LightGBM] [Warning] bagging_fraction is set=0.9713638067863468, subsample=1.0 will be ignored. Current value: bagging_fraction=0.9713638067863468\n",
      "[LightGBM] [Warning] lambda_l2 is set=0.007997810845461114, reg_lambda=0.0 will be ignored. Current value: lambda_l2=0.007997810845461114\n",
      "[LightGBM] [Warning] bagging_freq is set=3, subsample_freq=0 will be ignored. Current value: bagging_freq=3\n"
     ]
    },
    {
     "name": "stderr",
     "output_type": "stream",
     "text": [
      "[I 2023-11-11 18:26:10,324] Trial 54 finished with value: 0.8296 and parameters: {'lambda_l1': 3.7737243551288277e-06, 'lambda_l2': 0.007997810845461114, 'num_leaves': 225, 'feature_fraction': 0.5112916997938545, 'bagging_fraction': 0.9713638067863468, 'bagging_freq': 3, 'min_child_samples': 83}. Best is trial 28 with value: 0.83296.\n"
     ]
    },
    {
     "name": "stdout",
     "output_type": "stream",
     "text": [
      "[LightGBM] [Warning] feature_fraction is set=0.5376594860835975, colsample_bytree=1.0 will be ignored. Current value: feature_fraction=0.5376594860835975\n",
      "[LightGBM] [Warning] lambda_l1 is set=1.9009599223848964e-05, reg_alpha=0.0 will be ignored. Current value: lambda_l1=1.9009599223848964e-05\n",
      "[LightGBM] [Warning] bagging_fraction is set=0.8838004561591917, subsample=1.0 will be ignored. Current value: bagging_fraction=0.8838004561591917\n",
      "[LightGBM] [Warning] lambda_l2 is set=0.2122060112838715, reg_lambda=0.0 will be ignored. Current value: lambda_l2=0.2122060112838715\n",
      "[LightGBM] [Warning] bagging_freq is set=4, subsample_freq=0 will be ignored. Current value: bagging_freq=4\n"
     ]
    },
    {
     "name": "stderr",
     "output_type": "stream",
     "text": [
      "[I 2023-11-11 18:26:43,631] Trial 55 finished with value: 0.83016 and parameters: {'lambda_l1': 1.9009599223848964e-05, 'lambda_l2': 0.2122060112838715, 'num_leaves': 236, 'feature_fraction': 0.5376594860835975, 'bagging_fraction': 0.8838004561591917, 'bagging_freq': 4, 'min_child_samples': 95}. Best is trial 28 with value: 0.83296.\n"
     ]
    },
    {
     "name": "stdout",
     "output_type": "stream",
     "text": [
      "[LightGBM] [Warning] feature_fraction is set=0.48482991521094, colsample_bytree=1.0 will be ignored. Current value: feature_fraction=0.48482991521094\n",
      "[LightGBM] [Warning] lambda_l1 is set=5.4039193936375547e-05, reg_alpha=0.0 will be ignored. Current value: lambda_l1=5.4039193936375547e-05\n",
      "[LightGBM] [Warning] bagging_fraction is set=0.8588099406565952, subsample=1.0 will be ignored. Current value: bagging_fraction=0.8588099406565952\n",
      "[LightGBM] [Warning] lambda_l2 is set=0.002593410398122366, reg_lambda=0.0 will be ignored. Current value: lambda_l2=0.002593410398122366\n",
      "[LightGBM] [Warning] bagging_freq is set=5, subsample_freq=0 will be ignored. Current value: bagging_freq=5\n"
     ]
    },
    {
     "name": "stderr",
     "output_type": "stream",
     "text": [
      "[I 2023-11-11 18:27:03,074] Trial 56 finished with value: 0.8304 and parameters: {'lambda_l1': 5.4039193936375547e-05, 'lambda_l2': 0.002593410398122366, 'num_leaves': 98, 'feature_fraction': 0.48482991521094, 'bagging_fraction': 0.8588099406565952, 'bagging_freq': 5, 'min_child_samples': 68}. Best is trial 28 with value: 0.83296.\n"
     ]
    },
    {
     "name": "stdout",
     "output_type": "stream",
     "text": [
      "[LightGBM] [Warning] feature_fraction is set=0.47181387182212825, colsample_bytree=1.0 will be ignored. Current value: feature_fraction=0.47181387182212825\n",
      "[LightGBM] [Warning] lambda_l1 is set=1.614473084955609e-06, reg_alpha=0.0 will be ignored. Current value: lambda_l1=1.614473084955609e-06\n",
      "[LightGBM] [Warning] bagging_fraction is set=0.9216052368851453, subsample=1.0 will be ignored. Current value: bagging_fraction=0.9216052368851453\n",
      "[LightGBM] [Warning] lambda_l2 is set=1.217323707388679, reg_lambda=0.0 will be ignored. Current value: lambda_l2=1.217323707388679\n",
      "[LightGBM] [Warning] bagging_freq is set=3, subsample_freq=0 will be ignored. Current value: bagging_freq=3\n"
     ]
    },
    {
     "name": "stderr",
     "output_type": "stream",
     "text": [
      "[I 2023-11-11 18:27:19,763] Trial 57 finished with value: 0.83048 and parameters: {'lambda_l1': 1.614473084955609e-06, 'lambda_l2': 1.217323707388679, 'num_leaves': 178, 'feature_fraction': 0.47181387182212825, 'bagging_fraction': 0.9216052368851453, 'bagging_freq': 3, 'min_child_samples': 88}. Best is trial 28 with value: 0.83296.\n"
     ]
    },
    {
     "name": "stdout",
     "output_type": "stream",
     "text": [
      "[LightGBM] [Warning] feature_fraction is set=0.5708685774128436, colsample_bytree=1.0 will be ignored. Current value: feature_fraction=0.5708685774128436\n",
      "[LightGBM] [Warning] lambda_l1 is set=0.0002011672905255735, reg_alpha=0.0 will be ignored. Current value: lambda_l1=0.0002011672905255735\n",
      "[LightGBM] [Warning] bagging_fraction is set=0.9500484086763091, subsample=1.0 will be ignored. Current value: bagging_fraction=0.9500484086763091\n",
      "[LightGBM] [Warning] lambda_l2 is set=0.10819213272408552, reg_lambda=0.0 will be ignored. Current value: lambda_l2=0.10819213272408552\n",
      "[LightGBM] [Warning] bagging_freq is set=5, subsample_freq=0 will be ignored. Current value: bagging_freq=5\n"
     ]
    },
    {
     "name": "stderr",
     "output_type": "stream",
     "text": [
      "[I 2023-11-11 18:27:30,836] Trial 58 finished with value: 0.82656 and parameters: {'lambda_l1': 0.0002011672905255735, 'lambda_l2': 0.10819213272408552, 'num_leaves': 63, 'feature_fraction': 0.5708685774128436, 'bagging_fraction': 0.9500484086763091, 'bagging_freq': 5, 'min_child_samples': 95}. Best is trial 28 with value: 0.83296.\n"
     ]
    },
    {
     "name": "stdout",
     "output_type": "stream",
     "text": [
      "[LightGBM] [Warning] feature_fraction is set=0.41299136748826193, colsample_bytree=1.0 will be ignored. Current value: feature_fraction=0.41299136748826193\n",
      "[LightGBM] [Warning] lambda_l1 is set=4.260424664009298e-06, reg_alpha=0.0 will be ignored. Current value: lambda_l1=4.260424664009298e-06\n",
      "[LightGBM] [Warning] bagging_fraction is set=0.8203864039070573, subsample=1.0 will be ignored. Current value: bagging_fraction=0.8203864039070573\n",
      "[LightGBM] [Warning] lambda_l2 is set=0.4721362748616641, reg_lambda=0.0 will be ignored. Current value: lambda_l2=0.4721362748616641\n",
      "[LightGBM] [Warning] bagging_freq is set=4, subsample_freq=0 will be ignored. Current value: bagging_freq=4\n"
     ]
    },
    {
     "name": "stderr",
     "output_type": "stream",
     "text": [
      "[I 2023-11-11 18:27:46,155] Trial 59 finished with value: 0.83104 and parameters: {'lambda_l1': 4.260424664009298e-06, 'lambda_l2': 0.4721362748616641, 'num_leaves': 247, 'feature_fraction': 0.41299136748826193, 'bagging_fraction': 0.8203864039070573, 'bagging_freq': 4, 'min_child_samples': 77}. Best is trial 28 with value: 0.83296.\n"
     ]
    },
    {
     "name": "stdout",
     "output_type": "stream",
     "text": [
      "[LightGBM] [Warning] feature_fraction is set=0.44777569077586027, colsample_bytree=1.0 will be ignored. Current value: feature_fraction=0.44777569077586027\n",
      "[LightGBM] [Warning] lambda_l1 is set=1.5087639764254443e-05, reg_alpha=0.0 will be ignored. Current value: lambda_l1=1.5087639764254443e-05\n",
      "[LightGBM] [Warning] bagging_fraction is set=0.9987999716858083, subsample=1.0 will be ignored. Current value: bagging_fraction=0.9987999716858083\n",
      "[LightGBM] [Warning] lambda_l2 is set=0.017023614552922506, reg_lambda=0.0 will be ignored. Current value: lambda_l2=0.017023614552922506\n",
      "[LightGBM] [Warning] bagging_freq is set=7, subsample_freq=0 will be ignored. Current value: bagging_freq=7\n"
     ]
    },
    {
     "name": "stderr",
     "output_type": "stream",
     "text": [
      "[I 2023-11-11 18:28:02,707] Trial 60 finished with value: 0.82992 and parameters: {'lambda_l1': 1.5087639764254443e-05, 'lambda_l2': 0.017023614552922506, 'num_leaves': 194, 'feature_fraction': 0.44777569077586027, 'bagging_fraction': 0.9987999716858083, 'bagging_freq': 7, 'min_child_samples': 42}. Best is trial 28 with value: 0.83296.\n"
     ]
    },
    {
     "name": "stdout",
     "output_type": "stream",
     "text": [
      "[LightGBM] [Warning] feature_fraction is set=0.44110377162425773, colsample_bytree=1.0 will be ignored. Current value: feature_fraction=0.44110377162425773\n",
      "[LightGBM] [Warning] lambda_l1 is set=7.850869493181548e-05, reg_alpha=0.0 will be ignored. Current value: lambda_l1=7.850869493181548e-05\n",
      "[LightGBM] [Warning] bagging_fraction is set=0.9729470501662526, subsample=1.0 will be ignored. Current value: bagging_fraction=0.9729470501662526\n",
      "[LightGBM] [Warning] lambda_l2 is set=0.0072490214092757995, reg_lambda=0.0 will be ignored. Current value: lambda_l2=0.0072490214092757995\n",
      "[LightGBM] [Warning] bagging_freq is set=4, subsample_freq=0 will be ignored. Current value: bagging_freq=4\n"
     ]
    },
    {
     "name": "stderr",
     "output_type": "stream",
     "text": [
      "[I 2023-11-11 18:28:21,881] Trial 61 finished with value: 0.83 and parameters: {'lambda_l1': 7.850869493181548e-05, 'lambda_l2': 0.0072490214092757995, 'num_leaves': 216, 'feature_fraction': 0.44110377162425773, 'bagging_fraction': 0.9729470501662526, 'bagging_freq': 4, 'min_child_samples': 81}. Best is trial 28 with value: 0.83296.\n"
     ]
    },
    {
     "name": "stdout",
     "output_type": "stream",
     "text": [
      "[LightGBM] [Warning] feature_fraction is set=0.4535929581812706, colsample_bytree=1.0 will be ignored. Current value: feature_fraction=0.4535929581812706\n",
      "[LightGBM] [Warning] lambda_l1 is set=9.445587453025876e-05, reg_alpha=0.0 will be ignored. Current value: lambda_l1=9.445587453025876e-05\n",
      "[LightGBM] [Warning] bagging_fraction is set=0.8959899207139783, subsample=1.0 will be ignored. Current value: bagging_fraction=0.8959899207139783\n",
      "[LightGBM] [Warning] lambda_l2 is set=0.0026127814036904194, reg_lambda=0.0 will be ignored. Current value: lambda_l2=0.0026127814036904194\n",
      "[LightGBM] [Warning] bagging_freq is set=4, subsample_freq=0 will be ignored. Current value: bagging_freq=4\n"
     ]
    },
    {
     "name": "stderr",
     "output_type": "stream",
     "text": [
      "[I 2023-11-11 18:28:40,285] Trial 62 finished with value: 0.82848 and parameters: {'lambda_l1': 9.445587453025876e-05, 'lambda_l2': 0.0026127814036904194, 'num_leaves': 211, 'feature_fraction': 0.4535929581812706, 'bagging_fraction': 0.8959899207139783, 'bagging_freq': 4, 'min_child_samples': 73}. Best is trial 28 with value: 0.83296.\n"
     ]
    },
    {
     "name": "stdout",
     "output_type": "stream",
     "text": [
      "[LightGBM] [Warning] feature_fraction is set=0.5010989674403596, colsample_bytree=1.0 will be ignored. Current value: feature_fraction=0.5010989674403596\n",
      "[LightGBM] [Warning] lambda_l1 is set=3.961463090188524e-05, reg_alpha=0.0 will be ignored. Current value: lambda_l1=3.961463090188524e-05\n",
      "[LightGBM] [Warning] bagging_fraction is set=0.9757763404046426, subsample=1.0 will be ignored. Current value: bagging_fraction=0.9757763404046426\n",
      "[LightGBM] [Warning] lambda_l2 is set=0.03874085599193412, reg_lambda=0.0 will be ignored. Current value: lambda_l2=0.03874085599193412\n",
      "[LightGBM] [Warning] bagging_freq is set=4, subsample_freq=0 will be ignored. Current value: bagging_freq=4\n"
     ]
    },
    {
     "name": "stderr",
     "output_type": "stream",
     "text": [
      "[I 2023-11-11 18:28:58,568] Trial 63 finished with value: 0.83016 and parameters: {'lambda_l1': 3.961463090188524e-05, 'lambda_l2': 0.03874085599193412, 'num_leaves': 226, 'feature_fraction': 0.5010989674403596, 'bagging_fraction': 0.9757763404046426, 'bagging_freq': 4, 'min_child_samples': 61}. Best is trial 28 with value: 0.83296.\n"
     ]
    },
    {
     "name": "stdout",
     "output_type": "stream",
     "text": [
      "[LightGBM] [Warning] feature_fraction is set=0.4259299074819162, colsample_bytree=1.0 will be ignored. Current value: feature_fraction=0.4259299074819162\n",
      "[LightGBM] [Warning] lambda_l1 is set=1.61594385684007e-05, reg_alpha=0.0 will be ignored. Current value: lambda_l1=1.61594385684007e-05\n",
      "[LightGBM] [Warning] bagging_fraction is set=0.9141433188220757, subsample=1.0 will be ignored. Current value: bagging_fraction=0.9141433188220757\n",
      "[LightGBM] [Warning] lambda_l2 is set=0.004298144226329952, reg_lambda=0.0 will be ignored. Current value: lambda_l2=0.004298144226329952\n",
      "[LightGBM] [Warning] bagging_freq is set=5, subsample_freq=0 will be ignored. Current value: bagging_freq=5\n"
     ]
    },
    {
     "name": "stderr",
     "output_type": "stream",
     "text": [
      "[I 2023-11-11 18:29:14,357] Trial 64 finished with value: 0.8312 and parameters: {'lambda_l1': 1.61594385684007e-05, 'lambda_l2': 0.004298144226329952, 'num_leaves': 200, 'feature_fraction': 0.4259299074819162, 'bagging_fraction': 0.9141433188220757, 'bagging_freq': 5, 'min_child_samples': 81}. Best is trial 28 with value: 0.83296.\n"
     ]
    },
    {
     "name": "stdout",
     "output_type": "stream",
     "text": [
      "[LightGBM] [Warning] feature_fraction is set=0.4786590512185631, colsample_bytree=1.0 will be ignored. Current value: feature_fraction=0.4786590512185631\n",
      "[LightGBM] [Warning] lambda_l1 is set=0.00010143943815911846, reg_alpha=0.0 will be ignored. Current value: lambda_l1=0.00010143943815911846\n",
      "[LightGBM] [Warning] bagging_fraction is set=0.8470770191736673, subsample=1.0 will be ignored. Current value: bagging_fraction=0.8470770191736673\n",
      "[LightGBM] [Warning] lambda_l2 is set=0.0015342110447426694, reg_lambda=0.0 will be ignored. Current value: lambda_l2=0.0015342110447426694\n",
      "[LightGBM] [Warning] bagging_freq is set=6, subsample_freq=0 will be ignored. Current value: bagging_freq=6\n"
     ]
    },
    {
     "name": "stderr",
     "output_type": "stream",
     "text": [
      "[I 2023-11-11 18:29:29,667] Trial 65 finished with value: 0.83096 and parameters: {'lambda_l1': 0.00010143943815911846, 'lambda_l2': 0.0015342110447426694, 'num_leaves': 211, 'feature_fraction': 0.4786590512185631, 'bagging_fraction': 0.8470770191736673, 'bagging_freq': 6, 'min_child_samples': 87}. Best is trial 28 with value: 0.83296.\n"
     ]
    },
    {
     "name": "stdout",
     "output_type": "stream",
     "text": [
      "[LightGBM] [Warning] feature_fraction is set=0.5146513778376431, colsample_bytree=1.0 will be ignored. Current value: feature_fraction=0.5146513778376431\n",
      "[LightGBM] [Warning] lambda_l1 is set=5.9568807387903816e-06, reg_alpha=0.0 will be ignored. Current value: lambda_l1=5.9568807387903816e-06\n",
      "[LightGBM] [Warning] bagging_fraction is set=0.940223047394624, subsample=1.0 will be ignored. Current value: bagging_fraction=0.940223047394624\n",
      "[LightGBM] [Warning] lambda_l2 is set=0.024130266741038048, reg_lambda=0.0 will be ignored. Current value: lambda_l2=0.024130266741038048\n",
      "[LightGBM] [Warning] bagging_freq is set=4, subsample_freq=0 will be ignored. Current value: bagging_freq=4\n"
     ]
    },
    {
     "name": "stderr",
     "output_type": "stream",
     "text": [
      "[I 2023-11-11 18:29:55,883] Trial 66 finished with value: 0.83272 and parameters: {'lambda_l1': 5.9568807387903816e-06, 'lambda_l2': 0.024130266741038048, 'num_leaves': 240, 'feature_fraction': 0.5146513778376431, 'bagging_fraction': 0.940223047394624, 'bagging_freq': 4, 'min_child_samples': 78}. Best is trial 28 with value: 0.83296.\n"
     ]
    },
    {
     "name": "stdout",
     "output_type": "stream",
     "text": [
      "[LightGBM] [Warning] feature_fraction is set=0.5417597143615457, colsample_bytree=1.0 will be ignored. Current value: feature_fraction=0.5417597143615457\n",
      "[LightGBM] [Warning] lambda_l1 is set=5.741275425066337e-06, reg_alpha=0.0 will be ignored. Current value: lambda_l1=5.741275425066337e-06\n",
      "[LightGBM] [Warning] bagging_fraction is set=0.9382211058731486, subsample=1.0 will be ignored. Current value: bagging_fraction=0.9382211058731486\n",
      "[LightGBM] [Warning] lambda_l2 is set=0.020204975434747738, reg_lambda=0.0 will be ignored. Current value: lambda_l2=0.020204975434747738\n",
      "[LightGBM] [Warning] bagging_freq is set=4, subsample_freq=0 will be ignored. Current value: bagging_freq=4\n"
     ]
    },
    {
     "name": "stderr",
     "output_type": "stream",
     "text": [
      "[I 2023-11-11 18:30:22,090] Trial 67 finished with value: 0.82992 and parameters: {'lambda_l1': 5.741275425066337e-06, 'lambda_l2': 0.020204975434747738, 'num_leaves': 243, 'feature_fraction': 0.5417597143615457, 'bagging_fraction': 0.9382211058731486, 'bagging_freq': 4, 'min_child_samples': 10}. Best is trial 28 with value: 0.83296.\n"
     ]
    },
    {
     "name": "stdout",
     "output_type": "stream",
     "text": [
      "[LightGBM] [Warning] feature_fraction is set=0.5201415796844461, colsample_bytree=1.0 will be ignored. Current value: feature_fraction=0.5201415796844461\n",
      "[LightGBM] [Warning] lambda_l1 is set=1.1916872482630987e-06, reg_alpha=0.0 will be ignored. Current value: lambda_l1=1.1916872482630987e-06\n",
      "[LightGBM] [Warning] bagging_fraction is set=0.8867149015400455, subsample=1.0 will be ignored. Current value: bagging_fraction=0.8867149015400455\n",
      "[LightGBM] [Warning] lambda_l2 is set=0.10252317801778649, reg_lambda=0.0 will be ignored. Current value: lambda_l2=0.10252317801778649\n",
      "[LightGBM] [Warning] bagging_freq is set=5, subsample_freq=0 will be ignored. Current value: bagging_freq=5\n"
     ]
    },
    {
     "name": "stderr",
     "output_type": "stream",
     "text": [
      "[I 2023-11-11 18:30:39,846] Trial 68 finished with value: 0.83104 and parameters: {'lambda_l1': 1.1916872482630987e-06, 'lambda_l2': 0.10252317801778649, 'num_leaves': 256, 'feature_fraction': 0.5201415796844461, 'bagging_fraction': 0.8867149015400455, 'bagging_freq': 5, 'min_child_samples': 69}. Best is trial 28 with value: 0.83296.\n"
     ]
    },
    {
     "name": "stdout",
     "output_type": "stream",
     "text": [
      "[LightGBM] [Warning] feature_fraction is set=0.5954527186916889, colsample_bytree=1.0 will be ignored. Current value: feature_fraction=0.5954527186916889\n",
      "[LightGBM] [Warning] lambda_l1 is set=2.5614469287790473e-06, reg_alpha=0.0 will be ignored. Current value: lambda_l1=2.5614469287790473e-06\n",
      "[LightGBM] [Warning] bagging_fraction is set=0.8686349264921596, subsample=1.0 will be ignored. Current value: bagging_fraction=0.8686349264921596\n",
      "[LightGBM] [Warning] lambda_l2 is set=0.04451368956394925, reg_lambda=0.0 will be ignored. Current value: lambda_l2=0.04451368956394925\n",
      "[LightGBM] [Warning] bagging_freq is set=3, subsample_freq=0 will be ignored. Current value: bagging_freq=3\n"
     ]
    },
    {
     "name": "stderr",
     "output_type": "stream",
     "text": [
      "[I 2023-11-11 18:30:55,166] Trial 69 finished with value: 0.83184 and parameters: {'lambda_l1': 2.5614469287790473e-06, 'lambda_l2': 0.04451368956394925, 'num_leaves': 231, 'feature_fraction': 0.5954527186916889, 'bagging_fraction': 0.8686349264921596, 'bagging_freq': 3, 'min_child_samples': 64}. Best is trial 28 with value: 0.83296.\n"
     ]
    },
    {
     "name": "stdout",
     "output_type": "stream",
     "text": [
      "[LightGBM] [Warning] feature_fraction is set=0.5051229609284684, colsample_bytree=1.0 will be ignored. Current value: feature_fraction=0.5051229609284684\n",
      "[LightGBM] [Warning] lambda_l1 is set=9.422976871157364e-06, reg_alpha=0.0 will be ignored. Current value: lambda_l1=9.422976871157364e-06\n",
      "[LightGBM] [Warning] bagging_fraction is set=0.9124073176816943, subsample=1.0 will be ignored. Current value: bagging_fraction=0.9124073176816943\n",
      "[LightGBM] [Warning] lambda_l2 is set=0.009455172371012953, reg_lambda=0.0 will be ignored. Current value: lambda_l2=0.009455172371012953\n",
      "[LightGBM] [Warning] bagging_freq is set=3, subsample_freq=0 will be ignored. Current value: bagging_freq=3\n"
     ]
    },
    {
     "name": "stderr",
     "output_type": "stream",
     "text": [
      "[I 2023-11-11 18:31:13,828] Trial 70 finished with value: 0.83248 and parameters: {'lambda_l1': 9.422976871157364e-06, 'lambda_l2': 0.009455172371012953, 'num_leaves': 235, 'feature_fraction': 0.5051229609284684, 'bagging_fraction': 0.9124073176816943, 'bagging_freq': 3, 'min_child_samples': 76}. Best is trial 28 with value: 0.83296.\n"
     ]
    },
    {
     "name": "stdout",
     "output_type": "stream",
     "text": [
      "[LightGBM] [Warning] feature_fraction is set=0.5028430970004061, colsample_bytree=1.0 will be ignored. Current value: feature_fraction=0.5028430970004061\n",
      "[LightGBM] [Warning] lambda_l1 is set=1.1338826845422846e-05, reg_alpha=0.0 will be ignored. Current value: lambda_l1=1.1338826845422846e-05\n",
      "[LightGBM] [Warning] bagging_fraction is set=0.9396395625241671, subsample=1.0 will be ignored. Current value: bagging_fraction=0.9396395625241671\n",
      "[LightGBM] [Warning] lambda_l2 is set=0.009752507069835019, reg_lambda=0.0 will be ignored. Current value: lambda_l2=0.009752507069835019\n",
      "[LightGBM] [Warning] bagging_freq is set=2, subsample_freq=0 will be ignored. Current value: bagging_freq=2\n"
     ]
    },
    {
     "name": "stderr",
     "output_type": "stream",
     "text": [
      "[I 2023-11-11 18:31:41,797] Trial 71 finished with value: 0.83048 and parameters: {'lambda_l1': 1.1338826845422846e-05, 'lambda_l2': 0.009752507069835019, 'num_leaves': 238, 'feature_fraction': 0.5028430970004061, 'bagging_fraction': 0.9396395625241671, 'bagging_freq': 2, 'min_child_samples': 76}. Best is trial 28 with value: 0.83296.\n"
     ]
    },
    {
     "name": "stdout",
     "output_type": "stream",
     "text": [
      "[LightGBM] [Warning] feature_fraction is set=0.5247900787282774, colsample_bytree=1.0 will be ignored. Current value: feature_fraction=0.5247900787282774\n",
      "[LightGBM] [Warning] lambda_l1 is set=3.2660189633178154e-05, reg_alpha=0.0 will be ignored. Current value: lambda_l1=3.2660189633178154e-05\n",
      "[LightGBM] [Warning] bagging_fraction is set=0.9177509713474254, subsample=1.0 will be ignored. Current value: bagging_fraction=0.9177509713474254\n",
      "[LightGBM] [Warning] lambda_l2 is set=0.016863200154296543, reg_lambda=0.0 will be ignored. Current value: lambda_l2=0.016863200154296543\n",
      "[LightGBM] [Warning] bagging_freq is set=3, subsample_freq=0 will be ignored. Current value: bagging_freq=3\n"
     ]
    },
    {
     "name": "stderr",
     "output_type": "stream",
     "text": [
      "[I 2023-11-11 18:32:04,944] Trial 72 finished with value: 0.8308 and parameters: {'lambda_l1': 3.2660189633178154e-05, 'lambda_l2': 0.016863200154296543, 'num_leaves': 224, 'feature_fraction': 0.5247900787282774, 'bagging_fraction': 0.9177509713474254, 'bagging_freq': 3, 'min_child_samples': 73}. Best is trial 28 with value: 0.83296.\n"
     ]
    },
    {
     "name": "stdout",
     "output_type": "stream",
     "text": [
      "[LightGBM] [Warning] feature_fraction is set=0.5520041165163728, colsample_bytree=1.0 will be ignored. Current value: feature_fraction=0.5520041165163728\n",
      "[LightGBM] [Warning] lambda_l1 is set=6.375678239640531e-06, reg_alpha=0.0 will be ignored. Current value: lambda_l1=6.375678239640531e-06\n",
      "[LightGBM] [Warning] bagging_fraction is set=0.9038796887335615, subsample=1.0 will be ignored. Current value: bagging_fraction=0.9038796887335615\n",
      "[LightGBM] [Warning] lambda_l2 is set=0.04006739023141609, reg_lambda=0.0 will be ignored. Current value: lambda_l2=0.04006739023141609\n",
      "[LightGBM] [Warning] bagging_freq is set=4, subsample_freq=0 will be ignored. Current value: bagging_freq=4\n"
     ]
    },
    {
     "name": "stderr",
     "output_type": "stream",
     "text": [
      "[I 2023-11-11 18:32:23,490] Trial 73 finished with value: 0.83128 and parameters: {'lambda_l1': 6.375678239640531e-06, 'lambda_l2': 0.04006739023141609, 'num_leaves': 163, 'feature_fraction': 0.5520041165163728, 'bagging_fraction': 0.9038796887335615, 'bagging_freq': 4, 'min_child_samples': 19}. Best is trial 28 with value: 0.83296.\n"
     ]
    },
    {
     "name": "stdout",
     "output_type": "stream",
     "text": [
      "[LightGBM] [Warning] feature_fraction is set=0.4713255083469683, colsample_bytree=1.0 will be ignored. Current value: feature_fraction=0.4713255083469683\n",
      "[LightGBM] [Warning] lambda_l1 is set=1.8266296922764806e-06, reg_alpha=0.0 will be ignored. Current value: lambda_l1=1.8266296922764806e-06\n",
      "[LightGBM] [Warning] bagging_fraction is set=0.8735747821958157, subsample=1.0 will be ignored. Current value: bagging_fraction=0.8735747821958157\n",
      "[LightGBM] [Warning] lambda_l2 is set=0.008651449641850582, reg_lambda=0.0 will be ignored. Current value: lambda_l2=0.008651449641850582\n",
      "[LightGBM] [Warning] bagging_freq is set=6, subsample_freq=0 will be ignored. Current value: bagging_freq=6\n"
     ]
    },
    {
     "name": "stderr",
     "output_type": "stream",
     "text": [
      "[I 2023-11-11 18:32:43,426] Trial 74 finished with value: 0.83 and parameters: {'lambda_l1': 1.8266296922764806e-06, 'lambda_l2': 0.008651449641850582, 'num_leaves': 248, 'feature_fraction': 0.4713255083469683, 'bagging_fraction': 0.8735747821958157, 'bagging_freq': 6, 'min_child_samples': 83}. Best is trial 28 with value: 0.83296.\n"
     ]
    },
    {
     "name": "stdout",
     "output_type": "stream",
     "text": [
      "[LightGBM] [Warning] feature_fraction is set=0.48935153522793884, colsample_bytree=1.0 will be ignored. Current value: feature_fraction=0.48935153522793884\n",
      "[LightGBM] [Warning] lambda_l1 is set=2.7083510647358025e-05, reg_alpha=0.0 will be ignored. Current value: lambda_l1=2.7083510647358025e-05\n",
      "[LightGBM] [Warning] bagging_fraction is set=0.9612508508963711, subsample=1.0 will be ignored. Current value: bagging_fraction=0.9612508508963711\n",
      "[LightGBM] [Warning] lambda_l2 is set=0.13143176819576025, reg_lambda=0.0 will be ignored. Current value: lambda_l2=0.13143176819576025\n",
      "[LightGBM] [Warning] bagging_freq is set=1, subsample_freq=0 will be ignored. Current value: bagging_freq=1\n"
     ]
    },
    {
     "name": "stderr",
     "output_type": "stream",
     "text": [
      "[I 2023-11-11 18:32:56,062] Trial 75 finished with value: 0.83128 and parameters: {'lambda_l1': 2.7083510647358025e-05, 'lambda_l2': 0.13143176819576025, 'num_leaves': 207, 'feature_fraction': 0.48935153522793884, 'bagging_fraction': 0.9612508508963711, 'bagging_freq': 1, 'min_child_samples': 91}. Best is trial 28 with value: 0.83296.\n"
     ]
    },
    {
     "name": "stdout",
     "output_type": "stream",
     "text": [
      "[LightGBM] [Warning] feature_fraction is set=0.5715491594309235, colsample_bytree=1.0 will be ignored. Current value: feature_fraction=0.5715491594309235\n",
      "[LightGBM] [Warning] lambda_l1 is set=1.0354886937714416e-05, reg_alpha=0.0 will be ignored. Current value: lambda_l1=1.0354886937714416e-05\n",
      "[LightGBM] [Warning] bagging_fraction is set=0.8299798903472668, subsample=1.0 will be ignored. Current value: bagging_fraction=0.8299798903472668\n",
      "[LightGBM] [Warning] lambda_l2 is set=0.0006386696369497235, reg_lambda=0.0 will be ignored. Current value: lambda_l2=0.0006386696369497235\n",
      "[LightGBM] [Warning] bagging_freq is set=3, subsample_freq=0 will be ignored. Current value: bagging_freq=3\n"
     ]
    },
    {
     "name": "stderr",
     "output_type": "stream",
     "text": [
      "[I 2023-11-11 18:33:10,138] Trial 76 finished with value: 0.8328 and parameters: {'lambda_l1': 1.0354886937714416e-05, 'lambda_l2': 0.0006386696369497235, 'num_leaves': 190, 'feature_fraction': 0.5715491594309235, 'bagging_fraction': 0.8299798903472668, 'bagging_freq': 3, 'min_child_samples': 85}. Best is trial 28 with value: 0.83296.\n"
     ]
    },
    {
     "name": "stdout",
     "output_type": "stream",
     "text": [
      "[LightGBM] [Warning] feature_fraction is set=0.576840436293655, colsample_bytree=1.0 will be ignored. Current value: feature_fraction=0.576840436293655\n",
      "[LightGBM] [Warning] lambda_l1 is set=7.616012308851559e-07, reg_alpha=0.0 will be ignored. Current value: lambda_l1=7.616012308851559e-07\n",
      "[LightGBM] [Warning] bagging_fraction is set=0.8303503151613519, subsample=1.0 will be ignored. Current value: bagging_fraction=0.8303503151613519\n",
      "[LightGBM] [Warning] lambda_l2 is set=0.0013927338487374845, reg_lambda=0.0 will be ignored. Current value: lambda_l2=0.0013927338487374845\n",
      "[LightGBM] [Warning] bagging_freq is set=3, subsample_freq=0 will be ignored. Current value: bagging_freq=3\n"
     ]
    },
    {
     "name": "stderr",
     "output_type": "stream",
     "text": [
      "[I 2023-11-11 18:33:25,543] Trial 77 finished with value: 0.8308 and parameters: {'lambda_l1': 7.616012308851559e-07, 'lambda_l2': 0.0013927338487374845, 'num_leaves': 218, 'feature_fraction': 0.576840436293655, 'bagging_fraction': 0.8303503151613519, 'bagging_freq': 3, 'min_child_samples': 94}. Best is trial 28 with value: 0.83296.\n"
     ]
    },
    {
     "name": "stdout",
     "output_type": "stream",
     "text": [
      "[LightGBM] [Warning] feature_fraction is set=0.5669906533426277, colsample_bytree=1.0 will be ignored. Current value: feature_fraction=0.5669906533426277\n",
      "[LightGBM] [Warning] lambda_l1 is set=4.0099146326039e-06, reg_alpha=0.0 will be ignored. Current value: lambda_l1=4.0099146326039e-06\n",
      "[LightGBM] [Warning] bagging_fraction is set=0.847047631509011, subsample=1.0 will be ignored. Current value: bagging_fraction=0.847047631509011\n",
      "[LightGBM] [Warning] lambda_l2 is set=0.0007031535817781468, reg_lambda=0.0 will be ignored. Current value: lambda_l2=0.0007031535817781468\n",
      "[LightGBM] [Warning] bagging_freq is set=2, subsample_freq=0 will be ignored. Current value: bagging_freq=2\n"
     ]
    },
    {
     "name": "stderr",
     "output_type": "stream",
     "text": [
      "[I 2023-11-11 18:33:39,874] Trial 78 finished with value: 0.83096 and parameters: {'lambda_l1': 4.0099146326039e-06, 'lambda_l2': 0.0007031535817781468, 'num_leaves': 184, 'feature_fraction': 0.5669906533426277, 'bagging_fraction': 0.847047631509011, 'bagging_freq': 2, 'min_child_samples': 90}. Best is trial 28 with value: 0.83296.\n"
     ]
    },
    {
     "name": "stdout",
     "output_type": "stream",
     "text": [
      "[LightGBM] [Warning] feature_fraction is set=0.5402487264964961, colsample_bytree=1.0 will be ignored. Current value: feature_fraction=0.5402487264964961\n",
      "[LightGBM] [Warning] lambda_l1 is set=1.203617909039741e-05, reg_alpha=0.0 will be ignored. Current value: lambda_l1=1.203617909039741e-05\n",
      "[LightGBM] [Warning] bagging_fraction is set=0.7919279170588325, subsample=1.0 will be ignored. Current value: bagging_fraction=0.7919279170588325\n",
      "[LightGBM] [Warning] lambda_l2 is set=0.005068695111673743, reg_lambda=0.0 will be ignored. Current value: lambda_l2=0.005068695111673743\n",
      "[LightGBM] [Warning] bagging_freq is set=3, subsample_freq=0 will be ignored. Current value: bagging_freq=3\n"
     ]
    },
    {
     "name": "stderr",
     "output_type": "stream",
     "text": [
      "[I 2023-11-11 18:33:55,232] Trial 79 finished with value: 0.83192 and parameters: {'lambda_l1': 1.203617909039741e-05, 'lambda_l2': 0.005068695111673743, 'num_leaves': 234, 'feature_fraction': 0.5402487264964961, 'bagging_fraction': 0.7919279170588325, 'bagging_freq': 3, 'min_child_samples': 83}. Best is trial 28 with value: 0.83296.\n"
     ]
    },
    {
     "name": "stdout",
     "output_type": "stream",
     "text": [
      "[LightGBM] [Warning] feature_fraction is set=0.5221510377655277, colsample_bytree=1.0 will be ignored. Current value: feature_fraction=0.5221510377655277\n",
      "[LightGBM] [Warning] lambda_l1 is set=2.6121491654195256e-06, reg_alpha=0.0 will be ignored. Current value: lambda_l1=2.6121491654195256e-06\n",
      "[LightGBM] [Warning] bagging_fraction is set=0.879403464610581, subsample=1.0 will be ignored. Current value: bagging_fraction=0.879403464610581\n",
      "[LightGBM] [Warning] lambda_l2 is set=0.02404535472991715, reg_lambda=0.0 will be ignored. Current value: lambda_l2=0.02404535472991715\n",
      "[LightGBM] [Warning] bagging_freq is set=3, subsample_freq=0 will be ignored. Current value: bagging_freq=3\n"
     ]
    },
    {
     "name": "stderr",
     "output_type": "stream",
     "text": [
      "[I 2023-11-11 18:34:11,881] Trial 80 finished with value: 0.83208 and parameters: {'lambda_l1': 2.6121491654195256e-06, 'lambda_l2': 0.02404535472991715, 'num_leaves': 244, 'feature_fraction': 0.5221510377655277, 'bagging_fraction': 0.879403464610581, 'bagging_freq': 3, 'min_child_samples': 79}. Best is trial 28 with value: 0.83296.\n"
     ]
    },
    {
     "name": "stdout",
     "output_type": "stream",
     "text": [
      "[LightGBM] [Warning] feature_fraction is set=0.5057271009454171, colsample_bytree=1.0 will be ignored. Current value: feature_fraction=0.5057271009454171\n",
      "[LightGBM] [Warning] lambda_l1 is set=8.116711188138025e-06, reg_alpha=0.0 will be ignored. Current value: lambda_l1=8.116711188138025e-06\n",
      "[LightGBM] [Warning] bagging_fraction is set=0.8880555976204214, subsample=1.0 will be ignored. Current value: bagging_fraction=0.8880555976204214\n",
      "[LightGBM] [Warning] lambda_l2 is set=0.02258611568877862, reg_lambda=0.0 will be ignored. Current value: lambda_l2=0.02258611568877862\n",
      "[LightGBM] [Warning] bagging_freq is set=3, subsample_freq=0 will be ignored. Current value: bagging_freq=3\n"
     ]
    },
    {
     "name": "stderr",
     "output_type": "stream",
     "text": [
      "[I 2023-11-11 18:34:28,221] Trial 81 finished with value: 0.82984 and parameters: {'lambda_l1': 8.116711188138025e-06, 'lambda_l2': 0.02258611568877862, 'num_leaves': 246, 'feature_fraction': 0.5057271009454171, 'bagging_fraction': 0.8880555976204214, 'bagging_freq': 3, 'min_child_samples': 79}. Best is trial 28 with value: 0.83296.\n"
     ]
    },
    {
     "name": "stdout",
     "output_type": "stream",
     "text": [
      "[LightGBM] [Warning] feature_fraction is set=0.5538988423702245, colsample_bytree=1.0 will be ignored. Current value: feature_fraction=0.5538988423702245\n",
      "[LightGBM] [Warning] lambda_l1 is set=3.297883622395036e-06, reg_alpha=0.0 will be ignored. Current value: lambda_l1=3.297883622395036e-06\n",
      "[LightGBM] [Warning] bagging_fraction is set=0.8558757486126879, subsample=1.0 will be ignored. Current value: bagging_fraction=0.8558757486126879\n",
      "[LightGBM] [Warning] lambda_l2 is set=0.06906392787178646, reg_lambda=0.0 will be ignored. Current value: lambda_l2=0.06906392787178646\n",
      "[LightGBM] [Warning] bagging_freq is set=3, subsample_freq=0 will be ignored. Current value: bagging_freq=3\n"
     ]
    },
    {
     "name": "stderr",
     "output_type": "stream",
     "text": [
      "[I 2023-11-11 18:34:43,436] Trial 82 finished with value: 0.83192 and parameters: {'lambda_l1': 3.297883622395036e-06, 'lambda_l2': 0.06906392787178646, 'num_leaves': 222, 'feature_fraction': 0.5538988423702245, 'bagging_fraction': 0.8558757486126879, 'bagging_freq': 3, 'min_child_samples': 74}. Best is trial 28 with value: 0.83296.\n"
     ]
    },
    {
     "name": "stdout",
     "output_type": "stream",
     "text": [
      "[LightGBM] [Warning] feature_fraction is set=0.5192483770245431, colsample_bytree=1.0 will be ignored. Current value: feature_fraction=0.5192483770245431\n",
      "[LightGBM] [Warning] lambda_l1 is set=2.5548892271702107e-06, reg_alpha=0.0 will be ignored. Current value: lambda_l1=2.5548892271702107e-06\n",
      "[LightGBM] [Warning] bagging_fraction is set=0.8085686646128772, subsample=1.0 will be ignored. Current value: bagging_fraction=0.8085686646128772\n",
      "[LightGBM] [Warning] lambda_l2 is set=0.03167694219028322, reg_lambda=0.0 will be ignored. Current value: lambda_l2=0.03167694219028322\n",
      "[LightGBM] [Warning] bagging_freq is set=2, subsample_freq=0 will be ignored. Current value: bagging_freq=2\n"
     ]
    },
    {
     "name": "stderr",
     "output_type": "stream",
     "text": [
      "[I 2023-11-11 18:34:59,958] Trial 83 finished with value: 0.82864 and parameters: {'lambda_l1': 2.5548892271702107e-06, 'lambda_l2': 0.03167694219028322, 'num_leaves': 252, 'feature_fraction': 0.5192483770245431, 'bagging_fraction': 0.8085686646128772, 'bagging_freq': 2, 'min_child_samples': 86}. Best is trial 28 with value: 0.83296.\n"
     ]
    },
    {
     "name": "stdout",
     "output_type": "stream",
     "text": [
      "[LightGBM] [Warning] feature_fraction is set=0.5279277296688937, colsample_bytree=1.0 will be ignored. Current value: feature_fraction=0.5279277296688937\n",
      "[LightGBM] [Warning] lambda_l1 is set=1.681086535442464e-05, reg_alpha=0.0 will be ignored. Current value: lambda_l1=1.681086535442464e-05\n",
      "[LightGBM] [Warning] bagging_fraction is set=0.8283072315012933, subsample=1.0 will be ignored. Current value: bagging_fraction=0.8283072315012933\n",
      "[LightGBM] [Warning] lambda_l2 is set=0.19982410181565508, reg_lambda=0.0 will be ignored. Current value: lambda_l2=0.19982410181565508\n",
      "[LightGBM] [Warning] bagging_freq is set=7, subsample_freq=0 will be ignored. Current value: bagging_freq=7\n"
     ]
    },
    {
     "name": "stderr",
     "output_type": "stream",
     "text": [
      "[I 2023-11-11 18:35:15,519] Trial 84 finished with value: 0.8292 and parameters: {'lambda_l1': 1.681086535442464e-05, 'lambda_l2': 0.19982410181565508, 'num_leaves': 239, 'feature_fraction': 0.5279277296688937, 'bagging_fraction': 0.8283072315012933, 'bagging_freq': 7, 'min_child_samples': 70}. Best is trial 28 with value: 0.83296.\n"
     ]
    },
    {
     "name": "stdout",
     "output_type": "stream",
     "text": [
      "[LightGBM] [Warning] feature_fraction is set=0.4602400911910549, colsample_bytree=1.0 will be ignored. Current value: feature_fraction=0.4602400911910549\n",
      "[LightGBM] [Warning] lambda_l1 is set=1.5018093992264249e-06, reg_alpha=0.0 will be ignored. Current value: lambda_l1=1.5018093992264249e-06\n",
      "[LightGBM] [Warning] bagging_fraction is set=0.8781027619756779, subsample=1.0 will be ignored. Current value: bagging_fraction=0.8781027619756779\n",
      "[LightGBM] [Warning] lambda_l2 is set=0.0004475012780963969, reg_lambda=0.0 will be ignored. Current value: lambda_l2=0.0004475012780963969\n",
      "[LightGBM] [Warning] bagging_freq is set=3, subsample_freq=0 will be ignored. Current value: bagging_freq=3\n"
     ]
    },
    {
     "name": "stderr",
     "output_type": "stream",
     "text": [
      "[I 2023-11-11 18:35:31,139] Trial 85 finished with value: 0.8284 and parameters: {'lambda_l1': 1.5018093992264249e-06, 'lambda_l2': 0.0004475012780963969, 'num_leaves': 230, 'feature_fraction': 0.4602400911910549, 'bagging_fraction': 0.8781027619756779, 'bagging_freq': 3, 'min_child_samples': 65}. Best is trial 28 with value: 0.83296.\n"
     ]
    },
    {
     "name": "stdout",
     "output_type": "stream",
     "text": [
      "[LightGBM] [Warning] feature_fraction is set=0.5847339263672736, colsample_bytree=1.0 will be ignored. Current value: feature_fraction=0.5847339263672736\n",
      "[LightGBM] [Warning] lambda_l1 is set=5.891116414811357e-07, reg_alpha=0.0 will be ignored. Current value: lambda_l1=5.891116414811357e-07\n",
      "[LightGBM] [Warning] bagging_fraction is set=0.9010968290810369, subsample=1.0 will be ignored. Current value: bagging_fraction=0.9010968290810369\n",
      "[LightGBM] [Warning] lambda_l2 is set=0.009873413831336931, reg_lambda=0.0 will be ignored. Current value: lambda_l2=0.009873413831336931\n",
      "[LightGBM] [Warning] bagging_freq is set=4, subsample_freq=0 will be ignored. Current value: bagging_freq=4\n"
     ]
    },
    {
     "name": "stderr",
     "output_type": "stream",
     "text": [
      "[I 2023-11-11 18:35:46,465] Trial 86 finished with value: 0.83024 and parameters: {'lambda_l1': 5.891116414811357e-07, 'lambda_l2': 0.009873413831336931, 'num_leaves': 208, 'feature_fraction': 0.5847339263672736, 'bagging_fraction': 0.9010968290810369, 'bagging_freq': 4, 'min_child_samples': 78}. Best is trial 28 with value: 0.83296.\n"
     ]
    },
    {
     "name": "stdout",
     "output_type": "stream",
     "text": [
      "[LightGBM] [Warning] feature_fraction is set=0.5611977545973065, colsample_bytree=1.0 will be ignored. Current value: feature_fraction=0.5611977545973065\n",
      "[LightGBM] [Warning] lambda_l1 is set=9.216279868991002e-06, reg_alpha=0.0 will be ignored. Current value: lambda_l1=9.216279868991002e-06\n",
      "[LightGBM] [Warning] bagging_fraction is set=0.9415134236787482, subsample=1.0 will be ignored. Current value: bagging_fraction=0.9415134236787482\n",
      "[LightGBM] [Warning] lambda_l2 is set=0.01769444914031883, reg_lambda=0.0 will be ignored. Current value: lambda_l2=0.01769444914031883\n",
      "[LightGBM] [Warning] bagging_freq is set=3, subsample_freq=0 will be ignored. Current value: bagging_freq=3\n"
     ]
    },
    {
     "name": "stderr",
     "output_type": "stream",
     "text": [
      "[I 2023-11-11 18:36:03,288] Trial 87 finished with value: 0.83128 and parameters: {'lambda_l1': 9.216279868991002e-06, 'lambda_l2': 0.01769444914031883, 'num_leaves': 220, 'feature_fraction': 0.5611977545973065, 'bagging_fraction': 0.9415134236787482, 'bagging_freq': 3, 'min_child_samples': 85}. Best is trial 28 with value: 0.83296.\n"
     ]
    },
    {
     "name": "stdout",
     "output_type": "stream",
     "text": [
      "[LightGBM] [Warning] feature_fraction is set=0.606773610653303, colsample_bytree=1.0 will be ignored. Current value: feature_fraction=0.606773610653303\n",
      "[LightGBM] [Warning] lambda_l1 is set=5.117571145089835e-06, reg_alpha=0.0 will be ignored. Current value: lambda_l1=5.117571145089835e-06\n",
      "[LightGBM] [Warning] bagging_fraction is set=0.8462643326394661, subsample=1.0 will be ignored. Current value: bagging_fraction=0.8462643326394661\n",
      "[LightGBM] [Warning] lambda_l2 is set=0.08753895882464374, reg_lambda=0.0 will be ignored. Current value: lambda_l2=0.08753895882464374\n",
      "[LightGBM] [Warning] bagging_freq is set=2, subsample_freq=0 will be ignored. Current value: bagging_freq=2\n"
     ]
    },
    {
     "name": "stderr",
     "output_type": "stream",
     "text": [
      "[I 2023-11-11 18:36:17,585] Trial 88 finished with value: 0.834 and parameters: {'lambda_l1': 5.117571145089835e-06, 'lambda_l2': 0.08753895882464374, 'num_leaves': 199, 'feature_fraction': 0.606773610653303, 'bagging_fraction': 0.8462643326394661, 'bagging_freq': 2, 'min_child_samples': 89}. Best is trial 88 with value: 0.834.\n"
     ]
    },
    {
     "name": "stdout",
     "output_type": "stream",
     "text": [
      "[LightGBM] [Warning] feature_fraction is set=0.5899832316989416, colsample_bytree=1.0 will be ignored. Current value: feature_fraction=0.5899832316989416\n",
      "[LightGBM] [Warning] lambda_l1 is set=4.974624678323072e-06, reg_alpha=0.0 will be ignored. Current value: lambda_l1=4.974624678323072e-06\n",
      "[LightGBM] [Warning] bagging_fraction is set=0.8499264140144958, subsample=1.0 will be ignored. Current value: bagging_fraction=0.8499264140144958\n",
      "[LightGBM] [Warning] lambda_l2 is set=0.004934527815203677, reg_lambda=0.0 will be ignored. Current value: lambda_l2=0.004934527815203677\n",
      "[LightGBM] [Warning] bagging_freq is set=1, subsample_freq=0 will be ignored. Current value: bagging_freq=1\n"
     ]
    },
    {
     "name": "stderr",
     "output_type": "stream",
     "text": [
      "[I 2023-11-11 18:36:30,722] Trial 89 finished with value: 0.8332 and parameters: {'lambda_l1': 4.974624678323072e-06, 'lambda_l2': 0.004934527815203677, 'num_leaves': 199, 'feature_fraction': 0.5899832316989416, 'bagging_fraction': 0.8499264140144958, 'bagging_freq': 1, 'min_child_samples': 90}. Best is trial 88 with value: 0.834.\n"
     ]
    },
    {
     "name": "stdout",
     "output_type": "stream",
     "text": [
      "[LightGBM] [Warning] feature_fraction is set=0.602511542707814, colsample_bytree=1.0 will be ignored. Current value: feature_fraction=0.602511542707814\n",
      "[LightGBM] [Warning] lambda_l1 is set=3.1700899374990744e-07, reg_alpha=0.0 will be ignored. Current value: lambda_l1=3.1700899374990744e-07\n",
      "[LightGBM] [Warning] bagging_fraction is set=0.8427126403321621, subsample=1.0 will be ignored. Current value: bagging_fraction=0.8427126403321621\n",
      "[LightGBM] [Warning] lambda_l2 is set=0.005061664515994096, reg_lambda=0.0 will be ignored. Current value: lambda_l2=0.005061664515994096\n",
      "[LightGBM] [Warning] bagging_freq is set=1, subsample_freq=0 will be ignored. Current value: bagging_freq=1\n"
     ]
    },
    {
     "name": "stderr",
     "output_type": "stream",
     "text": [
      "[I 2023-11-11 18:36:42,989] Trial 90 finished with value: 0.83296 and parameters: {'lambda_l1': 3.1700899374990744e-07, 'lambda_l2': 0.005061664515994096, 'num_leaves': 196, 'feature_fraction': 0.602511542707814, 'bagging_fraction': 0.8427126403321621, 'bagging_freq': 1, 'min_child_samples': 96}. Best is trial 88 with value: 0.834.\n"
     ]
    },
    {
     "name": "stdout",
     "output_type": "stream",
     "text": [
      "[LightGBM] [Warning] feature_fraction is set=0.6011595317679443, colsample_bytree=1.0 will be ignored. Current value: feature_fraction=0.6011595317679443\n",
      "[LightGBM] [Warning] lambda_l1 is set=4.3149758888053406e-07, reg_alpha=0.0 will be ignored. Current value: lambda_l1=4.3149758888053406e-07\n",
      "[LightGBM] [Warning] bagging_fraction is set=0.8450485952419786, subsample=1.0 will be ignored. Current value: bagging_fraction=0.8450485952419786\n",
      "[LightGBM] [Warning] lambda_l2 is set=0.004018524850012295, reg_lambda=0.0 will be ignored. Current value: lambda_l2=0.004018524850012295\n",
      "[LightGBM] [Warning] bagging_freq is set=1, subsample_freq=0 will be ignored. Current value: bagging_freq=1\n"
     ]
    },
    {
     "name": "stderr",
     "output_type": "stream",
     "text": [
      "[I 2023-11-11 18:36:57,846] Trial 91 finished with value: 0.83192 and parameters: {'lambda_l1': 4.3149758888053406e-07, 'lambda_l2': 0.004018524850012295, 'num_leaves': 201, 'feature_fraction': 0.6011595317679443, 'bagging_fraction': 0.8450485952419786, 'bagging_freq': 1, 'min_child_samples': 99}. Best is trial 88 with value: 0.834.\n"
     ]
    },
    {
     "name": "stdout",
     "output_type": "stream",
     "text": [
      "[LightGBM] [Warning] feature_fraction is set=0.6147814120074989, colsample_bytree=1.0 will be ignored. Current value: feature_fraction=0.6147814120074989\n",
      "[LightGBM] [Warning] lambda_l1 is set=5.1783922514373724e-06, reg_alpha=0.0 will be ignored. Current value: lambda_l1=5.1783922514373724e-06\n",
      "[LightGBM] [Warning] bagging_fraction is set=0.7779127538861573, subsample=1.0 will be ignored. Current value: bagging_fraction=0.7779127538861573\n",
      "[LightGBM] [Warning] lambda_l2 is set=0.002185853982570811, reg_lambda=0.0 will be ignored. Current value: lambda_l2=0.002185853982570811\n",
      "[LightGBM] [Warning] bagging_freq is set=1, subsample_freq=0 will be ignored. Current value: bagging_freq=1\n"
     ]
    },
    {
     "name": "stderr",
     "output_type": "stream",
     "text": [
      "[I 2023-11-11 18:37:10,208] Trial 92 finished with value: 0.832 and parameters: {'lambda_l1': 5.1783922514373724e-06, 'lambda_l2': 0.002185853982570811, 'num_leaves': 187, 'feature_fraction': 0.6147814120074989, 'bagging_fraction': 0.7779127538861573, 'bagging_freq': 1, 'min_child_samples': 96}. Best is trial 88 with value: 0.834.\n"
     ]
    },
    {
     "name": "stdout",
     "output_type": "stream",
     "text": [
      "[LightGBM] [Warning] feature_fraction is set=0.6332831768849718, colsample_bytree=1.0 will be ignored. Current value: feature_fraction=0.6332831768849718\n",
      "[LightGBM] [Warning] lambda_l1 is set=2.6393209558153035e-07, reg_alpha=0.0 will be ignored. Current value: lambda_l1=2.6393209558153035e-07\n",
      "[LightGBM] [Warning] bagging_fraction is set=0.8190881087307839, subsample=1.0 will be ignored. Current value: bagging_fraction=0.8190881087307839\n",
      "[LightGBM] [Warning] lambda_l2 is set=0.007420410495706536, reg_lambda=0.0 will be ignored. Current value: lambda_l2=0.007420410495706536\n",
      "[LightGBM] [Warning] bagging_freq is set=2, subsample_freq=0 will be ignored. Current value: bagging_freq=2\n"
     ]
    },
    {
     "name": "stderr",
     "output_type": "stream",
     "text": [
      "[I 2023-11-11 18:37:23,716] Trial 93 finished with value: 0.8296 and parameters: {'lambda_l1': 2.6393209558153035e-07, 'lambda_l2': 0.007420410495706536, 'num_leaves': 229, 'feature_fraction': 0.6332831768849718, 'bagging_fraction': 0.8190881087307839, 'bagging_freq': 2, 'min_child_samples': 89}. Best is trial 88 with value: 0.834.\n"
     ]
    },
    {
     "name": "stdout",
     "output_type": "stream",
     "text": [
      "[LightGBM] [Warning] feature_fraction is set=0.5854737454934298, colsample_bytree=1.0 will be ignored. Current value: feature_fraction=0.5854737454934298\n",
      "[LightGBM] [Warning] lambda_l1 is set=1.985863029622915e-06, reg_alpha=0.0 will be ignored. Current value: lambda_l1=1.985863029622915e-06\n",
      "[LightGBM] [Warning] bagging_fraction is set=0.8371986069925693, subsample=1.0 will be ignored. Current value: bagging_fraction=0.8371986069925693\n",
      "[LightGBM] [Warning] lambda_l2 is set=0.0009022821724738798, reg_lambda=0.0 will be ignored. Current value: lambda_l2=0.0009022821724738798\n",
      "[LightGBM] [Warning] bagging_freq is set=1, subsample_freq=0 will be ignored. Current value: bagging_freq=1\n"
     ]
    },
    {
     "name": "stderr",
     "output_type": "stream",
     "text": [
      "[I 2023-11-11 18:37:36,153] Trial 94 finished with value: 0.83304 and parameters: {'lambda_l1': 1.985863029622915e-06, 'lambda_l2': 0.0009022821724738798, 'num_leaves': 216, 'feature_fraction': 0.5854737454934298, 'bagging_fraction': 0.8371986069925693, 'bagging_freq': 1, 'min_child_samples': 91}. Best is trial 88 with value: 0.834.\n"
     ]
    },
    {
     "name": "stdout",
     "output_type": "stream",
     "text": [
      "[LightGBM] [Warning] feature_fraction is set=0.6023814811171738, colsample_bytree=1.0 will be ignored. Current value: feature_fraction=0.6023814811171738\n",
      "[LightGBM] [Warning] lambda_l1 is set=7.377363804859357e-07, reg_alpha=0.0 will be ignored. Current value: lambda_l1=7.377363804859357e-07\n",
      "[LightGBM] [Warning] bagging_fraction is set=0.8360738462669015, subsample=1.0 will be ignored. Current value: bagging_fraction=0.8360738462669015\n",
      "[LightGBM] [Warning] lambda_l2 is set=0.0010707277539658982, reg_lambda=0.0 will be ignored. Current value: lambda_l2=0.0010707277539658982\n",
      "[LightGBM] [Warning] bagging_freq is set=1, subsample_freq=0 will be ignored. Current value: bagging_freq=1\n"
     ]
    },
    {
     "name": "stderr",
     "output_type": "stream",
     "text": [
      "[I 2023-11-11 18:37:47,863] Trial 95 finished with value: 0.8308 and parameters: {'lambda_l1': 7.377363804859357e-07, 'lambda_l2': 0.0010707277539658982, 'num_leaves': 199, 'feature_fraction': 0.6023814811171738, 'bagging_fraction': 0.8360738462669015, 'bagging_freq': 1, 'min_child_samples': 92}. Best is trial 88 with value: 0.834.\n"
     ]
    },
    {
     "name": "stdout",
     "output_type": "stream",
     "text": [
      "[LightGBM] [Warning] feature_fraction is set=0.5843371184787763, colsample_bytree=1.0 will be ignored. Current value: feature_fraction=0.5843371184787763\n",
      "[LightGBM] [Warning] lambda_l1 is set=1.1242613446004256e-06, reg_alpha=0.0 will be ignored. Current value: lambda_l1=1.1242613446004256e-06\n",
      "[LightGBM] [Warning] bagging_fraction is set=0.8515555952850076, subsample=1.0 will be ignored. Current value: bagging_fraction=0.8515555952850076\n",
      "[LightGBM] [Warning] lambda_l2 is set=0.0023086646236338184, reg_lambda=0.0 will be ignored. Current value: lambda_l2=0.0023086646236338184\n",
      "[LightGBM] [Warning] bagging_freq is set=1, subsample_freq=0 will be ignored. Current value: bagging_freq=1\n"
     ]
    },
    {
     "name": "stderr",
     "output_type": "stream",
     "text": [
      "[I 2023-11-11 18:38:00,370] Trial 96 finished with value: 0.83096 and parameters: {'lambda_l1': 1.1242613446004256e-06, 'lambda_l2': 0.0023086646236338184, 'num_leaves': 194, 'feature_fraction': 0.5843371184787763, 'bagging_fraction': 0.8515555952850076, 'bagging_freq': 1, 'min_child_samples': 97}. Best is trial 88 with value: 0.834.\n"
     ]
    },
    {
     "name": "stdout",
     "output_type": "stream",
     "text": [
      "[LightGBM] [Warning] feature_fraction is set=0.5702859273059621, colsample_bytree=1.0 will be ignored. Current value: feature_fraction=0.5702859273059621\n",
      "[LightGBM] [Warning] lambda_l1 is set=1.7176499297317556e-06, reg_alpha=0.0 will be ignored. Current value: lambda_l1=1.7176499297317556e-06\n",
      "[LightGBM] [Warning] bagging_fraction is set=0.8671862689968822, subsample=1.0 will be ignored. Current value: bagging_fraction=0.8671862689968822\n",
      "[LightGBM] [Warning] lambda_l2 is set=0.0005037715328509848, reg_lambda=0.0 will be ignored. Current value: lambda_l2=0.0005037715328509848\n",
      "[LightGBM] [Warning] bagging_freq is set=1, subsample_freq=0 will be ignored. Current value: bagging_freq=1\n"
     ]
    },
    {
     "name": "stderr",
     "output_type": "stream",
     "text": [
      "[I 2023-11-11 18:38:12,663] Trial 97 finished with value: 0.83392 and parameters: {'lambda_l1': 1.7176499297317556e-06, 'lambda_l2': 0.0005037715328509848, 'num_leaves': 178, 'feature_fraction': 0.5702859273059621, 'bagging_fraction': 0.8671862689968822, 'bagging_freq': 1, 'min_child_samples': 89}. Best is trial 88 with value: 0.834.\n"
     ]
    },
    {
     "name": "stdout",
     "output_type": "stream",
     "text": [
      "[LightGBM] [Warning] feature_fraction is set=0.647941187681265, colsample_bytree=1.0 will be ignored. Current value: feature_fraction=0.647941187681265\n",
      "[LightGBM] [Warning] lambda_l1 is set=1.7991604800762506e-06, reg_alpha=0.0 will be ignored. Current value: lambda_l1=1.7991604800762506e-06\n",
      "[LightGBM] [Warning] bagging_fraction is set=0.8150894638151924, subsample=1.0 will be ignored. Current value: bagging_fraction=0.8150894638151924\n",
      "[LightGBM] [Warning] lambda_l2 is set=0.00046509357387192825, reg_lambda=0.0 will be ignored. Current value: lambda_l2=0.00046509357387192825\n",
      "[LightGBM] [Warning] bagging_freq is set=1, subsample_freq=0 will be ignored. Current value: bagging_freq=1\n"
     ]
    },
    {
     "name": "stderr",
     "output_type": "stream",
     "text": [
      "[I 2023-11-11 18:38:23,258] Trial 98 finished with value: 0.83056 and parameters: {'lambda_l1': 1.7991604800762506e-06, 'lambda_l2': 0.00046509357387192825, 'num_leaves': 189, 'feature_fraction': 0.647941187681265, 'bagging_fraction': 0.8150894638151924, 'bagging_freq': 1, 'min_child_samples': 89}. Best is trial 88 with value: 0.834.\n"
     ]
    },
    {
     "name": "stdout",
     "output_type": "stream",
     "text": [
      "[LightGBM] [Warning] feature_fraction is set=0.5791238419903681, colsample_bytree=1.0 will be ignored. Current value: feature_fraction=0.5791238419903681\n",
      "[LightGBM] [Warning] lambda_l1 is set=8.071385459330233e-07, reg_alpha=0.0 will be ignored. Current value: lambda_l1=8.071385459330233e-07\n",
      "[LightGBM] [Warning] bagging_fraction is set=0.8005734735777174, subsample=1.0 will be ignored. Current value: bagging_fraction=0.8005734735777174\n",
      "[LightGBM] [Warning] lambda_l2 is set=0.00022328907293740454, reg_lambda=0.0 will be ignored. Current value: lambda_l2=0.00022328907293740454\n",
      "[LightGBM] [Warning] bagging_freq is set=1, subsample_freq=0 will be ignored. Current value: bagging_freq=1\n"
     ]
    },
    {
     "name": "stderr",
     "output_type": "stream",
     "text": [
      "[I 2023-11-11 18:38:35,926] Trial 99 finished with value: 0.83184 and parameters: {'lambda_l1': 8.071385459330233e-07, 'lambda_l2': 0.00022328907293740454, 'num_leaves': 178, 'feature_fraction': 0.5791238419903681, 'bagging_fraction': 0.8005734735777174, 'bagging_freq': 1, 'min_child_samples': 94}. Best is trial 88 with value: 0.834.\n"
     ]
    }
   ],
   "source": [
    "sampler = TPESampler(seed=1)\n",
    "study = optuna.create_study(study_name=\"lightgbm\", direction=\"maximize\", sampler=sampler)\n",
    "study.optimize(objective, n_trials=100)"
   ]
  },
  {
   "cell_type": "code",
   "execution_count": 24,
   "metadata": {},
   "outputs": [
    {
     "name": "stdout",
     "output_type": "stream",
     "text": [
      "Best parameters: {'lambda_l1': 5.117571145089835e-06, 'lambda_l2': 0.08753895882464374, 'num_leaves': 199, 'feature_fraction': 0.606773610653303, 'bagging_fraction': 0.8462643326394661, 'bagging_freq': 2, 'min_child_samples': 89}\n",
      "Best value: 0.834\n",
      "Best trial: FrozenTrial(number=88, state=TrialState.COMPLETE, values=[0.834], datetime_start=datetime.datetime(2023, 11, 11, 18, 36, 3, 289516), datetime_complete=datetime.datetime(2023, 11, 11, 18, 36, 17, 585252), params={'lambda_l1': 5.117571145089835e-06, 'lambda_l2': 0.08753895882464374, 'num_leaves': 199, 'feature_fraction': 0.606773610653303, 'bagging_fraction': 0.8462643326394661, 'bagging_freq': 2, 'min_child_samples': 89}, user_attrs={}, system_attrs={}, intermediate_values={}, distributions={'lambda_l1': FloatDistribution(high=10.0, log=True, low=1e-08, step=None), 'lambda_l2': FloatDistribution(high=10.0, log=True, low=1e-08, step=None), 'num_leaves': IntDistribution(high=256, log=False, low=2, step=1), 'feature_fraction': FloatDistribution(high=1.0, log=False, low=0.4, step=None), 'bagging_fraction': FloatDistribution(high=1.0, log=False, low=0.4, step=None), 'bagging_freq': IntDistribution(high=7, log=False, low=1, step=1), 'min_child_samples': IntDistribution(high=100, log=False, low=5, step=1)}, trial_id=88, value=None)\n"
     ]
    }
   ],
   "source": [
    "print('Best parameters:', study.best_params)\n",
    "print('Best value:', study.best_value)\n",
    "print('Best trial:', study.best_trial)"
   ]
  },
  {
   "cell_type": "code",
   "execution_count": null,
   "metadata": {},
   "outputs": [],
   "source": [
    "model = lgb.LGBMClassifier(**study.best_params)\n",
    "model.fit(X_train, y_train)"
   ]
  },
  {
   "cell_type": "code",
   "execution_count": 18,
   "metadata": {},
   "outputs": [
    {
     "name": "stdout",
     "output_type": "stream",
     "text": [
      "Accuracy_train_lgb: 0.88686\n",
      "Accuracy_test_lgb: 0.81808\n",
      "              precision    recall  f1-score   support\n",
      "\n",
      "           1       0.28      0.44      0.34       380\n",
      "           2       0.70      0.76      0.73      3320\n",
      "           3       0.50      0.46      0.48      1598\n",
      "           4       0.53      0.40      0.46       553\n",
      "           5       0.96      0.94      0.95       552\n",
      "           6       0.91      0.91      0.91      2935\n",
      "           7       0.52      0.41      0.46       542\n",
      "           8       0.84      0.80      0.82      1630\n",
      "           9       0.74      0.69      0.71       990\n",
      "\n",
      "    accuracy                           0.73     12500\n",
      "   macro avg       0.66      0.65      0.65     12500\n",
      "weighted avg       0.73      0.73      0.72     12500\n",
      "\n"
     ]
    }
   ],
   "source": [
    "\n",
    "\n",
    "lgb_model = lgb.LGBMClassifier(max_depth = 20, random_state = 10 )\n",
    "lgb_model.fit(X_train, y_train)\n",
    "lgb_acc_test = accuracy_score(y_test, lgb_model.predict(X_test))\n",
    "lgb_acc_train = accuracy_score(y_train, lgb_model.predict(X_train))\n",
    "print(f'Accuracy_train_lgb: {lgb_acc_train}')\n",
    "print(f'Accuracy_test_lgb: {lgb_acc_test}')\n",
    "print(classification_report(y_test, predicted))\n",
    "\n"
   ]
  },
  {
   "cell_type": "code",
   "execution_count": 19,
   "metadata": {},
   "outputs": [
    {
     "name": "stdout",
     "output_type": "stream",
     "text": [
      "[0.00183886 0.00287428 0.00187997 0.00560923 0.00014278 0.00313246\n",
      " 0.00676519 0.01522094 0.00184234 0.00288005 0.04619127 0.00907794\n",
      " 0.00409414 0.00306626 0.00215261 0.03481173 0.08277721 0.00084703\n",
      " 0.01430054 0.00083695 0.0058883  0.00280326 0.01245659 0.00701483\n",
      " 0.01762227 0.00341795 0.00359264 0.00400087 0.009093   0.00151632\n",
      " 0.00139221 0.00054098 0.0083129  0.0005539  0.00167134 0.00345557\n",
      " 0.01646711 0.00501026 0.0042887  0.00495989 0.12715101 0.00144156\n",
      " 0.00822337 0.01664554 0.01498165 0.00162774 0.01494102 0.00292175\n",
      " 0.00276374 0.01245839 0.00056277 0.01101508 0.00250037 0.00231407\n",
      " 0.00521758 0.00367247 0.0095252  0.02539614 0.00526785 0.00222111\n",
      " 0.00080327 0.01857202 0.00421131 0.00261613 0.00127509 0.0034541\n",
      " 0.00823805 0.00799757 0.00306092 0.01657831 0.01171003 0.01433093\n",
      " 0.00964932 0.01928516 0.00127744 0.01675398 0.00342382 0.0035905\n",
      " 0.00188804 0.00379237 0.04104618 0.0003224  0.00642379 0.00315472\n",
      " 0.00188713 0.00789919 0.00477782 0.00121749 0.00326338 0.00208624\n",
      " 0.00125562 0.00283553 0.01070243 0.00339335 0.00407711 0.00185583\n",
      " 0.00363038 0.05809431 0.00313384 0.00558404 0.00576597 0.00256621\n",
      " 0.02375698 0.00478159 0.00240715 0.00140015 0.00342746 0.01149627]\n"
     ]
    }
   ],
   "source": [
    "print(model.feature_importances_)"
   ]
  },
  {
   "cell_type": "code",
   "execution_count": 20,
   "metadata": {},
   "outputs": [
    {
     "ename": "TypeError",
     "evalue": "from_bounds() missing 1 required positional argument: 'height'",
     "output_type": "error",
     "traceback": [
      "\u001b[0;31m---------------------------------------------------------------------------\u001b[0m",
      "\u001b[0;31mTypeError\u001b[0m                                 Traceback (most recent call last)",
      "\u001b[1;32m/Users/stopdemir/Documents/GitHub/SWC-ML-Case/SWC.ipynb Cell 16\u001b[0m line \u001b[0;36m2\n\u001b[1;32m      <a href='vscode-notebook-cell:/Users/stopdemir/Documents/GitHub/SWC-ML-Case/SWC.ipynb#X21sZmlsZQ%3D%3D?line=0'>1</a>\u001b[0m classes \u001b[39m=\u001b[39m [\u001b[39mstr\u001b[39m(x) \u001b[39mfor\u001b[39;00m x \u001b[39min\u001b[39;00m train_data[\u001b[39m'\u001b[39m\u001b[39my\u001b[39m\u001b[39m'\u001b[39m]\u001b[39m.\u001b[39munique()\u001b[39m.\u001b[39mtolist()]\n\u001b[0;32m----> <a href='vscode-notebook-cell:/Users/stopdemir/Documents/GitHub/SWC-ML-Case/SWC.ipynb#X21sZmlsZQ%3D%3D?line=1'>2</a>\u001b[0m fig \u001b[39m=\u001b[39m plt\u001b[39m.\u001b[39;49mfigure(figsize \u001b[39m=\u001b[39;49m (\u001b[39m20\u001b[39;49m, ))\n\u001b[1;32m      <a href='vscode-notebook-cell:/Users/stopdemir/Documents/GitHub/SWC-ML-Case/SWC.ipynb#X21sZmlsZQ%3D%3D?line=2'>3</a>\u001b[0m _ \u001b[39m=\u001b[39m tree\u001b[39m.\u001b[39mplot_tree(model, feature_names \u001b[39m=\u001b[39m X\u001b[39m.\u001b[39mcolumns\u001b[39m.\u001b[39mvalues\u001b[39m.\u001b[39mtolist(),\n\u001b[1;32m      <a href='vscode-notebook-cell:/Users/stopdemir/Documents/GitHub/SWC-ML-Case/SWC.ipynb#X21sZmlsZQ%3D%3D?line=3'>4</a>\u001b[0m               class_names \u001b[39m=\u001b[39m classes, filled \u001b[39m=\u001b[39m \u001b[39mTrue\u001b[39;00m)\n\u001b[1;32m      <a href='vscode-notebook-cell:/Users/stopdemir/Documents/GitHub/SWC-ML-Case/SWC.ipynb#X21sZmlsZQ%3D%3D?line=4'>5</a>\u001b[0m fig\u001b[39m.\u001b[39msavefig(\u001b[39m\"\u001b[39m\u001b[39mdecision_tree.png\u001b[39m\u001b[39m\"\u001b[39m)\n",
      "File \u001b[0;32m/Library/anaconda3/lib/python3.8/site-packages/matplotlib/_api/deprecation.py:454\u001b[0m, in \u001b[0;36mmake_keyword_only.<locals>.wrapper\u001b[0;34m(*args, **kwargs)\u001b[0m\n\u001b[1;32m    448\u001b[0m \u001b[39mif\u001b[39;00m \u001b[39mlen\u001b[39m(args) \u001b[39m>\u001b[39m name_idx:\n\u001b[1;32m    449\u001b[0m     warn_deprecated(\n\u001b[1;32m    450\u001b[0m         since, message\u001b[39m=\u001b[39m\u001b[39m\"\u001b[39m\u001b[39mPassing the \u001b[39m\u001b[39m%(name)s\u001b[39;00m\u001b[39m \u001b[39m\u001b[39m%(obj_type)s\u001b[39;00m\u001b[39m \u001b[39m\u001b[39m\"\u001b[39m\n\u001b[1;32m    451\u001b[0m         \u001b[39m\"\u001b[39m\u001b[39mpositionally is deprecated since Matplotlib \u001b[39m\u001b[39m%(since)s\u001b[39;00m\u001b[39m; the \u001b[39m\u001b[39m\"\u001b[39m\n\u001b[1;32m    452\u001b[0m         \u001b[39m\"\u001b[39m\u001b[39mparameter will become keyword-only \u001b[39m\u001b[39m%(removal)s\u001b[39;00m\u001b[39m.\u001b[39m\u001b[39m\"\u001b[39m,\n\u001b[1;32m    453\u001b[0m         name\u001b[39m=\u001b[39mname, obj_type\u001b[39m=\u001b[39m\u001b[39mf\u001b[39m\u001b[39m\"\u001b[39m\u001b[39mparameter of \u001b[39m\u001b[39m{\u001b[39;00mfunc\u001b[39m.\u001b[39m\u001b[39m__name__\u001b[39m\u001b[39m}\u001b[39;00m\u001b[39m()\u001b[39m\u001b[39m\"\u001b[39m)\n\u001b[0;32m--> 454\u001b[0m \u001b[39mreturn\u001b[39;00m func(\u001b[39m*\u001b[39;49margs, \u001b[39m*\u001b[39;49m\u001b[39m*\u001b[39;49mkwargs)\n",
      "File \u001b[0;32m/Library/anaconda3/lib/python3.8/site-packages/matplotlib/pyplot.py:840\u001b[0m, in \u001b[0;36mfigure\u001b[0;34m(num, figsize, dpi, facecolor, edgecolor, frameon, FigureClass, clear, **kwargs)\u001b[0m\n\u001b[1;32m    830\u001b[0m \u001b[39mif\u001b[39;00m \u001b[39mlen\u001b[39m(allnums) \u001b[39m==\u001b[39m max_open_warning \u001b[39m>\u001b[39m\u001b[39m=\u001b[39m \u001b[39m1\u001b[39m:\n\u001b[1;32m    831\u001b[0m     _api\u001b[39m.\u001b[39mwarn_external(\n\u001b[1;32m    832\u001b[0m         \u001b[39mf\u001b[39m\u001b[39m\"\u001b[39m\u001b[39mMore than \u001b[39m\u001b[39m{\u001b[39;00mmax_open_warning\u001b[39m}\u001b[39;00m\u001b[39m figures have been opened. \u001b[39m\u001b[39m\"\u001b[39m\n\u001b[1;32m    833\u001b[0m         \u001b[39mf\u001b[39m\u001b[39m\"\u001b[39m\u001b[39mFigures created through the pyplot interface \u001b[39m\u001b[39m\"\u001b[39m\n\u001b[0;32m   (...)\u001b[0m\n\u001b[1;32m    837\u001b[0m         \u001b[39mf\u001b[39m\u001b[39m\"\u001b[39m\u001b[39mConsider using `matplotlib.pyplot.close()`.\u001b[39m\u001b[39m\"\u001b[39m,\n\u001b[1;32m    838\u001b[0m         \u001b[39mRuntimeWarning\u001b[39;00m)\n\u001b[0;32m--> 840\u001b[0m manager \u001b[39m=\u001b[39m new_figure_manager(\n\u001b[1;32m    841\u001b[0m     num, figsize\u001b[39m=\u001b[39;49mfigsize, dpi\u001b[39m=\u001b[39;49mdpi,\n\u001b[1;32m    842\u001b[0m     facecolor\u001b[39m=\u001b[39;49mfacecolor, edgecolor\u001b[39m=\u001b[39;49medgecolor, frameon\u001b[39m=\u001b[39;49mframeon,\n\u001b[1;32m    843\u001b[0m     FigureClass\u001b[39m=\u001b[39;49mFigureClass, \u001b[39m*\u001b[39;49m\u001b[39m*\u001b[39;49mkwargs)\n\u001b[1;32m    844\u001b[0m fig \u001b[39m=\u001b[39m manager\u001b[39m.\u001b[39mcanvas\u001b[39m.\u001b[39mfigure\n\u001b[1;32m    845\u001b[0m \u001b[39mif\u001b[39;00m fig_label:\n",
      "File \u001b[0;32m/Library/anaconda3/lib/python3.8/site-packages/matplotlib/pyplot.py:384\u001b[0m, in \u001b[0;36mnew_figure_manager\u001b[0;34m(*args, **kwargs)\u001b[0m\n\u001b[1;32m    382\u001b[0m \u001b[39m\u001b[39m\u001b[39m\"\"\"Create a new figure manager instance.\"\"\"\u001b[39;00m\n\u001b[1;32m    383\u001b[0m _warn_if_gui_out_of_main_thread()\n\u001b[0;32m--> 384\u001b[0m \u001b[39mreturn\u001b[39;00m _get_backend_mod()\u001b[39m.\u001b[39;49mnew_figure_manager(\u001b[39m*\u001b[39;49margs, \u001b[39m*\u001b[39;49m\u001b[39m*\u001b[39;49mkwargs)\n",
      "File \u001b[0;32m/Library/anaconda3/lib/python3.8/site-packages/matplotlib_inline/backend_inline.py:27\u001b[0m, in \u001b[0;36mnew_figure_manager\u001b[0;34m(num, FigureClass, *args, **kwargs)\u001b[0m\n\u001b[1;32m     21\u001b[0m \u001b[39mdef\u001b[39;00m \u001b[39mnew_figure_manager\u001b[39m(num, \u001b[39m*\u001b[39margs, FigureClass\u001b[39m=\u001b[39mFigure, \u001b[39m*\u001b[39m\u001b[39m*\u001b[39mkwargs):\n\u001b[1;32m     22\u001b[0m \u001b[39m    \u001b[39m\u001b[39m\"\"\"\u001b[39;00m\n\u001b[1;32m     23\u001b[0m \u001b[39m    Return a new figure manager for a new figure instance.\u001b[39;00m\n\u001b[1;32m     24\u001b[0m \n\u001b[1;32m     25\u001b[0m \u001b[39m    This function is part of the API expected by Matplotlib backends.\u001b[39;00m\n\u001b[1;32m     26\u001b[0m \u001b[39m    \"\"\"\u001b[39;00m\n\u001b[0;32m---> 27\u001b[0m     \u001b[39mreturn\u001b[39;00m new_figure_manager_given_figure(num, FigureClass(\u001b[39m*\u001b[39;49margs, \u001b[39m*\u001b[39;49m\u001b[39m*\u001b[39;49mkwargs))\n",
      "File \u001b[0;32m/Library/anaconda3/lib/python3.8/site-packages/matplotlib/_api/deprecation.py:454\u001b[0m, in \u001b[0;36mmake_keyword_only.<locals>.wrapper\u001b[0;34m(*args, **kwargs)\u001b[0m\n\u001b[1;32m    448\u001b[0m \u001b[39mif\u001b[39;00m \u001b[39mlen\u001b[39m(args) \u001b[39m>\u001b[39m name_idx:\n\u001b[1;32m    449\u001b[0m     warn_deprecated(\n\u001b[1;32m    450\u001b[0m         since, message\u001b[39m=\u001b[39m\u001b[39m\"\u001b[39m\u001b[39mPassing the \u001b[39m\u001b[39m%(name)s\u001b[39;00m\u001b[39m \u001b[39m\u001b[39m%(obj_type)s\u001b[39;00m\u001b[39m \u001b[39m\u001b[39m\"\u001b[39m\n\u001b[1;32m    451\u001b[0m         \u001b[39m\"\u001b[39m\u001b[39mpositionally is deprecated since Matplotlib \u001b[39m\u001b[39m%(since)s\u001b[39;00m\u001b[39m; the \u001b[39m\u001b[39m\"\u001b[39m\n\u001b[1;32m    452\u001b[0m         \u001b[39m\"\u001b[39m\u001b[39mparameter will become keyword-only \u001b[39m\u001b[39m%(removal)s\u001b[39;00m\u001b[39m.\u001b[39m\u001b[39m\"\u001b[39m,\n\u001b[1;32m    453\u001b[0m         name\u001b[39m=\u001b[39mname, obj_type\u001b[39m=\u001b[39m\u001b[39mf\u001b[39m\u001b[39m\"\u001b[39m\u001b[39mparameter of \u001b[39m\u001b[39m{\u001b[39;00mfunc\u001b[39m.\u001b[39m\u001b[39m__name__\u001b[39m\u001b[39m}\u001b[39;00m\u001b[39m()\u001b[39m\u001b[39m\"\u001b[39m)\n\u001b[0;32m--> 454\u001b[0m \u001b[39mreturn\u001b[39;00m func(\u001b[39m*\u001b[39;49margs, \u001b[39m*\u001b[39;49m\u001b[39m*\u001b[39;49mkwargs)\n",
      "File \u001b[0;32m/Library/anaconda3/lib/python3.8/site-packages/matplotlib/figure.py:2571\u001b[0m, in \u001b[0;36mFigure.__init__\u001b[0;34m(self, figsize, dpi, facecolor, edgecolor, linewidth, frameon, subplotpars, tight_layout, constrained_layout, layout, **kwargs)\u001b[0m\n\u001b[1;32m   2568\u001b[0m \u001b[39mif\u001b[39;00m \u001b[39mnot\u001b[39;00m np\u001b[39m.\u001b[39misfinite(figsize)\u001b[39m.\u001b[39mall() \u001b[39mor\u001b[39;00m (np\u001b[39m.\u001b[39marray(figsize) \u001b[39m<\u001b[39m \u001b[39m0\u001b[39m)\u001b[39m.\u001b[39many():\n\u001b[1;32m   2569\u001b[0m     \u001b[39mraise\u001b[39;00m \u001b[39mValueError\u001b[39;00m(\u001b[39m'\u001b[39m\u001b[39mfigure size must be positive finite not \u001b[39m\u001b[39m'\u001b[39m\n\u001b[1;32m   2570\u001b[0m                      \u001b[39mf\u001b[39m\u001b[39m'\u001b[39m\u001b[39m{\u001b[39;00mfigsize\u001b[39m}\u001b[39;00m\u001b[39m'\u001b[39m)\n\u001b[0;32m-> 2571\u001b[0m \u001b[39mself\u001b[39m\u001b[39m.\u001b[39mbbox_inches \u001b[39m=\u001b[39m Bbox\u001b[39m.\u001b[39;49mfrom_bounds(\u001b[39m0\u001b[39;49m, \u001b[39m0\u001b[39;49m, \u001b[39m*\u001b[39;49mfigsize)\n\u001b[1;32m   2573\u001b[0m \u001b[39mself\u001b[39m\u001b[39m.\u001b[39mdpi_scale_trans \u001b[39m=\u001b[39m Affine2D()\u001b[39m.\u001b[39mscale(dpi)\n\u001b[1;32m   2574\u001b[0m \u001b[39m# do not use property as it will trigger\u001b[39;00m\n",
      "\u001b[0;31mTypeError\u001b[0m: from_bounds() missing 1 required positional argument: 'height'"
     ]
    }
   ],
   "source": [
    "classes = [str(x) for x in train_data['y'].unique().tolist()]\n",
    "fig = plt.figure(figsize = (20, ))\n",
    "_ = tree.plot_tree(model, feature_names = X.columns.values.tolist(),\n",
    "              class_names = classes, filled = True)\n",
    "fig.savefig(\"decision_tree.png\")"
   ]
  }
 ],
 "metadata": {
  "kernelspec": {
   "display_name": "Python 3 (ipykernel)",
   "language": "python",
   "name": "python3"
  },
  "language_info": {
   "codemirror_mode": {
    "name": "ipython",
    "version": 3
   },
   "file_extension": ".py",
   "mimetype": "text/x-python",
   "name": "python",
   "nbconvert_exporter": "python",
   "pygments_lexer": "ipython3",
   "version": "3.8.18"
  }
 },
 "nbformat": 4,
 "nbformat_minor": 4
}
