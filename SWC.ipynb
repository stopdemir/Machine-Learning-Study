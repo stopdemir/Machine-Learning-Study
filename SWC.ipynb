{
 "cells": [
  {
   "cell_type": "markdown",
   "metadata": {},
   "source": [
    "# SWC Case"
   ]
  },
  {
   "cell_type": "code",
   "execution_count": 1,
   "metadata": {},
   "outputs": [],
   "source": [
    "import pandas as pd\n",
    "import seaborn as sns\n",
    "import matplotlib.pyplot as plt\n",
    "import numpy as np\n",
    "import warnings\n",
    "warnings.filterwarnings('ignore')\n",
    "pd.options.display.float_format = '{:.10f}'.format\n",
    "\n",
    "from sklearn import tree\n",
    "import lightgbm as lgb\n",
    "from sklearn.tree import DecisionTreeClassifier\n",
    "from sklearn.svm import SVC\n",
    "from sklearn.neighbors import KNeighborsClassifier \n",
    "from sklearn.naive_bayes import GaussianNB \n",
    "from sklearn.linear_model import LogisticRegression\n",
    "\n",
    "from sklearn.ensemble import StackingClassifier\n",
    "\n",
    "\n",
    "from sklearn.model_selection import train_test_split\n",
    "from sklearn.metrics import classification_report\n",
    "from sklearn.metrics import confusion_matrix \n",
    "from sklearn.metrics import accuracy_score, log_loss, roc_auc_score, roc_curve\n",
    "\n",
    "from sklearn.manifold import TSNE\n",
    "import optuna #Optuna is an automatic hyperparameter optimization software framework, particularly designed for machine learning.\n",
    "from optuna.samplers import TPESampler\n",
    "import pickle\n",
    "from sklearn.feature_selection import VarianceThreshold\n"
   ]
  },
  {
   "cell_type": "code",
   "execution_count": 2,
   "metadata": {},
   "outputs": [],
   "source": [
    "train_data = pd.read_csv('train_data_swc.csv')\n",
    "test_data = pd.read_csv('test_data_swc.csv') # this is not validation data\n",
    "example_data = pd.read_csv('example.csv')"
   ]
  },
  {
   "cell_type": "code",
   "execution_count": 3,
   "metadata": {},
   "outputs": [
    {
     "name": "stdout",
     "output_type": "stream",
     "text": [
      "number of data points in the train data:  62500\n",
      "number of data points in the test data:  150000\n"
     ]
    }
   ],
   "source": [
    "print('number of data points in the train data: ' , len(train_data))\n",
    "print('number of data points in the test data: ' , len(test_data))"
   ]
  },
  {
   "cell_type": "code",
   "execution_count": 5,
   "metadata": {},
   "outputs": [
    {
     "data": {
      "text/html": [
       "<div>\n",
       "<style scoped>\n",
       "    .dataframe tbody tr th:only-of-type {\n",
       "        vertical-align: middle;\n",
       "    }\n",
       "\n",
       "    .dataframe tbody tr th {\n",
       "        vertical-align: top;\n",
       "    }\n",
       "\n",
       "    .dataframe thead th {\n",
       "        text-align: right;\n",
       "    }\n",
       "</style>\n",
       "<table border=\"1\" class=\"dataframe\">\n",
       "  <thead>\n",
       "    <tr style=\"text-align: right;\">\n",
       "      <th></th>\n",
       "      <th>x_1</th>\n",
       "      <th>x_2</th>\n",
       "      <th>x_3</th>\n",
       "      <th>x_4</th>\n",
       "      <th>x_5</th>\n",
       "      <th>x_6</th>\n",
       "      <th>x_7</th>\n",
       "      <th>x_8</th>\n",
       "      <th>x_9</th>\n",
       "      <th>x_10</th>\n",
       "      <th>...</th>\n",
       "      <th>x_100</th>\n",
       "      <th>x_101</th>\n",
       "      <th>x_102</th>\n",
       "      <th>x_103</th>\n",
       "      <th>x_104</th>\n",
       "      <th>x_105</th>\n",
       "      <th>x_106</th>\n",
       "      <th>x_107</th>\n",
       "      <th>x_108</th>\n",
       "      <th>y</th>\n",
       "    </tr>\n",
       "  </thead>\n",
       "  <tbody>\n",
       "    <tr>\n",
       "      <th>0</th>\n",
       "      <td>0.0000000000</td>\n",
       "      <td>0.0000000000</td>\n",
       "      <td>0.0000000000</td>\n",
       "      <td>0.2000000000</td>\n",
       "      <td>0.0000000000</td>\n",
       "      <td>0.0000000000</td>\n",
       "      <td>0.0000000000</td>\n",
       "      <td>0.0000000000</td>\n",
       "      <td>0.0000000000</td>\n",
       "      <td>0.0000000000</td>\n",
       "      <td>...</td>\n",
       "      <td>0.0000000000</td>\n",
       "      <td>0.0000000000</td>\n",
       "      <td>0.2000000000</td>\n",
       "      <td>0.0000000000</td>\n",
       "      <td>0.0000000000</td>\n",
       "      <td>0.0000000000</td>\n",
       "      <td>0.0000000000</td>\n",
       "      <td>0.0000000000</td>\n",
       "      <td>0.0000000000</td>\n",
       "      <td>3</td>\n",
       "    </tr>\n",
       "    <tr>\n",
       "      <th>1</th>\n",
       "      <td>0.2000000000</td>\n",
       "      <td>0.8000000000</td>\n",
       "      <td>0.0000000000</td>\n",
       "      <td>0.0000000000</td>\n",
       "      <td>0.0000000000</td>\n",
       "      <td>0.0000000000</td>\n",
       "      <td>0.6000000000</td>\n",
       "      <td>0.2000000000</td>\n",
       "      <td>0.0000000000</td>\n",
       "      <td>0.0000000000</td>\n",
       "      <td>...</td>\n",
       "      <td>0.2000000000</td>\n",
       "      <td>0.0000000000</td>\n",
       "      <td>0.8000000000</td>\n",
       "      <td>0.0000000000</td>\n",
       "      <td>0.0000000000</td>\n",
       "      <td>0.0000000000</td>\n",
       "      <td>0.0000000000</td>\n",
       "      <td>0.0000000000</td>\n",
       "      <td>0.0000000000</td>\n",
       "      <td>9</td>\n",
       "    </tr>\n",
       "    <tr>\n",
       "      <th>2</th>\n",
       "      <td>0.0000000000</td>\n",
       "      <td>0.0000000000</td>\n",
       "      <td>0.0000000000</td>\n",
       "      <td>0.4000000000</td>\n",
       "      <td>0.0000000000</td>\n",
       "      <td>0.0000000000</td>\n",
       "      <td>3.2000000000</td>\n",
       "      <td>0.0000000000</td>\n",
       "      <td>0.0000000000</td>\n",
       "      <td>0.0000000000</td>\n",
       "      <td>...</td>\n",
       "      <td>0.0000000000</td>\n",
       "      <td>0.0000000000</td>\n",
       "      <td>0.6000000000</td>\n",
       "      <td>0.0000000000</td>\n",
       "      <td>0.0000000000</td>\n",
       "      <td>0.0000000000</td>\n",
       "      <td>0.0000000000</td>\n",
       "      <td>0.0000000000</td>\n",
       "      <td>0.0000000000</td>\n",
       "      <td>3</td>\n",
       "    </tr>\n",
       "    <tr>\n",
       "      <th>3</th>\n",
       "      <td>0.0000000000</td>\n",
       "      <td>0.0000000000</td>\n",
       "      <td>0.2000000000</td>\n",
       "      <td>0.0000000000</td>\n",
       "      <td>0.0000000000</td>\n",
       "      <td>0.0000000000</td>\n",
       "      <td>0.2000000000</td>\n",
       "      <td>0.0000000000</td>\n",
       "      <td>0.0000000000</td>\n",
       "      <td>0.0000000000</td>\n",
       "      <td>...</td>\n",
       "      <td>0.0000000000</td>\n",
       "      <td>0.0000000000</td>\n",
       "      <td>0.0000000000</td>\n",
       "      <td>0.0000000000</td>\n",
       "      <td>0.0000000000</td>\n",
       "      <td>0.0000000000</td>\n",
       "      <td>0.0000000000</td>\n",
       "      <td>0.0000000000</td>\n",
       "      <td>0.0000000000</td>\n",
       "      <td>3</td>\n",
       "    </tr>\n",
       "    <tr>\n",
       "      <th>4</th>\n",
       "      <td>0.0000000000</td>\n",
       "      <td>0.0000000000</td>\n",
       "      <td>0.4000000000</td>\n",
       "      <td>0.0000000000</td>\n",
       "      <td>0.0000000000</td>\n",
       "      <td>0.0000000000</td>\n",
       "      <td>0.4000000000</td>\n",
       "      <td>0.0000000000</td>\n",
       "      <td>0.0000000000</td>\n",
       "      <td>0.6000000000</td>\n",
       "      <td>...</td>\n",
       "      <td>0.0000000000</td>\n",
       "      <td>0.0000000000</td>\n",
       "      <td>0.0000000000</td>\n",
       "      <td>0.6000000000</td>\n",
       "      <td>0.2000000000</td>\n",
       "      <td>0.0000000000</td>\n",
       "      <td>0.0000000000</td>\n",
       "      <td>0.2000000000</td>\n",
       "      <td>0.0000000000</td>\n",
       "      <td>9</td>\n",
       "    </tr>\n",
       "  </tbody>\n",
       "</table>\n",
       "<p>5 rows × 109 columns</p>\n",
       "</div>"
      ],
      "text/plain": [
       "           x_1          x_2          x_3          x_4          x_5  \\\n",
       "0 0.0000000000 0.0000000000 0.0000000000 0.2000000000 0.0000000000   \n",
       "1 0.2000000000 0.8000000000 0.0000000000 0.0000000000 0.0000000000   \n",
       "2 0.0000000000 0.0000000000 0.0000000000 0.4000000000 0.0000000000   \n",
       "3 0.0000000000 0.0000000000 0.2000000000 0.0000000000 0.0000000000   \n",
       "4 0.0000000000 0.0000000000 0.4000000000 0.0000000000 0.0000000000   \n",
       "\n",
       "           x_6          x_7          x_8          x_9         x_10  ...  \\\n",
       "0 0.0000000000 0.0000000000 0.0000000000 0.0000000000 0.0000000000  ...   \n",
       "1 0.0000000000 0.6000000000 0.2000000000 0.0000000000 0.0000000000  ...   \n",
       "2 0.0000000000 3.2000000000 0.0000000000 0.0000000000 0.0000000000  ...   \n",
       "3 0.0000000000 0.2000000000 0.0000000000 0.0000000000 0.0000000000  ...   \n",
       "4 0.0000000000 0.4000000000 0.0000000000 0.0000000000 0.6000000000  ...   \n",
       "\n",
       "         x_100        x_101        x_102        x_103        x_104  \\\n",
       "0 0.0000000000 0.0000000000 0.2000000000 0.0000000000 0.0000000000   \n",
       "1 0.2000000000 0.0000000000 0.8000000000 0.0000000000 0.0000000000   \n",
       "2 0.0000000000 0.0000000000 0.6000000000 0.0000000000 0.0000000000   \n",
       "3 0.0000000000 0.0000000000 0.0000000000 0.0000000000 0.0000000000   \n",
       "4 0.0000000000 0.0000000000 0.0000000000 0.6000000000 0.2000000000   \n",
       "\n",
       "         x_105        x_106        x_107        x_108  y  \n",
       "0 0.0000000000 0.0000000000 0.0000000000 0.0000000000  3  \n",
       "1 0.0000000000 0.0000000000 0.0000000000 0.0000000000  9  \n",
       "2 0.0000000000 0.0000000000 0.0000000000 0.0000000000  3  \n",
       "3 0.0000000000 0.0000000000 0.0000000000 0.0000000000  3  \n",
       "4 0.0000000000 0.0000000000 0.2000000000 0.0000000000  9  \n",
       "\n",
       "[5 rows x 109 columns]"
      ]
     },
     "execution_count": 5,
     "metadata": {},
     "output_type": "execute_result"
    }
   ],
   "source": [
    "train_data.head(5)"
   ]
  },
  {
   "cell_type": "code",
   "execution_count": null,
   "metadata": {},
   "outputs": [],
   "source": [
    "test_data.head(5)"
   ]
  },
  {
   "cell_type": "code",
   "execution_count": 4,
   "metadata": {},
   "outputs": [
    {
     "data": {
      "image/png": "[encoded data removed]",
      "text/plain": [
       "<Figure size 640x480 with 1 Axes>"
      ]
     },
     "metadata": {},
     "output_type": "display_data"
    }
   ],
   "source": [
    "class_counts = train_data['y'].value_counts()\n",
    "class_percentages = class_counts / len(train_data) * 100\n",
    "plt.bar(class_percentages.index, class_percentages)\n",
    "plt.xlabel('Class')\n",
    "plt.ylabel('Percentage')\n",
    "plt.title('Class Distribution in the Dataset')\n",
    "plt.show()"
   ]
  },
  {
   "cell_type": "markdown",
   "metadata": {},
   "source": [
    "## Preprocessing"
   ]
  },
  {
   "cell_type": "markdown",
   "metadata": {},
   "source": [
    "### Correlation among Features"
   ]
  },
  {
   "cell_type": "code",
   "execution_count": 26,
   "metadata": {},
   "outputs": [
    {
     "data": {
      "image/png": "[encoded data removed]",
      "text/plain": [
       "<Figure size 1000x1000 with 2 Axes>"
      ]
     },
     "metadata": {},
     "output_type": "display_data"
    }
   ],
   "source": [
    "corr_matrix = train_data.corr()\n",
    "plt.figure(figsize=(10, 10))\n",
    "sns.heatmap(corr_matrix, annot=False, cmap='coolwarm')\n",
    "plt.title('Correlation Heatmap')\n",
    "plt.show()"
   ]
  },
  {
   "cell_type": "code",
   "execution_count": 21,
   "metadata": {},
   "outputs": [
    {
     "data": {
      "text/plain": [
       "y       1.0000000000\n",
       "x_87    0.2613618183\n",
       "x_50    0.2538531503\n",
       "x_76    0.2415303223\n",
       "x_53    0.2352737384\n",
       "            ...     \n",
       "x_81   -0.2587749542\n",
       "x_24   -0.2659279636\n",
       "x_47   -0.2939078539\n",
       "x_72   -0.3300052143\n",
       "x_11   -0.3650183009\n",
       "Name: y, Length: 108, dtype: float64"
      ]
     },
     "execution_count": 21,
     "metadata": {},
     "output_type": "execute_result"
    }
   ],
   "source": [
    "train_data[train_data.columns[1:]].corr()['y'][:].sort_values(ascending=False)"
   ]
  },
  {
   "cell_type": "markdown",
   "metadata": {},
   "source": [
    "## Feature Engineering"
   ]
  },
  {
   "cell_type": "markdown",
   "metadata": {},
   "source": [
    "### Variance Threshold"
   ]
  },
  {
   "cell_type": "code",
   "execution_count": 4,
   "metadata": {},
   "outputs": [
    {
     "name": "stdout",
     "output_type": "stream",
     "text": [
      "Chosen features:  ['x_2', 'x_3', 'x_4', 'x_5', 'x_6', 'x_7', 'x_8', 'x_9', 'x_10', 'x_11', 'x_12', 'x_13', 'x_14', 'x_15', 'x_16', 'x_17', 'x_19', 'x_20', 'x_21', 'x_23', 'x_24', 'x_25', 'x_26', 'x_27', 'x_28', 'x_29', 'x_30', 'x_31', 'x_32', 'x_33', 'x_35', 'x_36', 'x_37', 'x_38', 'x_39', 'x_40', 'x_41', 'x_43', 'x_44', 'x_45', 'x_46', 'x_47', 'x_49', 'x_50', 'x_52', 'x_53', 'x_54', 'x_55', 'x_56', 'x_57', 'x_58', 'x_59', 'x_60', 'x_61', 'x_62', 'x_63', 'x_64', 'x_66', 'x_67', 'x_68', 'x_69', 'x_70', 'x_71', 'x_72', 'x_73', 'x_74', 'x_75', 'x_76', 'x_77', 'x_78', 'x_79', 'x_80', 'x_81', 'x_83', 'x_84', 'x_85', 'x_86', 'x_87', 'x_88', 'x_89', 'x_90', 'x_91', 'x_92', 'x_93', 'x_94', 'x_95', 'x_97', 'x_98', 'x_100', 'x_101', 'x_102', 'x_103', 'x_104', 'x_105', 'x_106', 'x_107']\n",
      "Removed features:  ['x_1', 'x_18', 'x_22', 'x_34', 'x_42', 'x_48', 'x_51', 'x_65', 'x_82', 'x_96', 'x_99']\n"
     ]
    }
   ],
   "source": [
    "X = train_data.iloc[:,0:107]\n",
    "vt = VarianceThreshold(threshold=0.03)\n",
    "vt.fit(X)\n",
    "\n",
    "# find the features that meet the variance threshold\n",
    "mask = vt.get_support()\n",
    "chosen_features = list(X.loc[:, mask].columns)\n",
    "removed_features = [feature for feature in X.columns if feature not in chosen_features]\n",
    "\n",
    "# show the chosen and removed features\n",
    "print('Chosen features: ', chosen_features)\n",
    "print('Removed features: ', removed_features)"
   ]
  },
  {
   "cell_type": "code",
   "execution_count": 9,
   "metadata": {},
   "outputs": [
    {
     "ename": "KeyError",
     "evalue": "\"['y'] not in index\"",
     "output_type": "error",
     "traceback": [
      "\u001b[0;31m---------------------------------------------------------------------------\u001b[0m",
      "\u001b[0;31mKeyError\u001b[0m                                  Traceback (most recent call last)",
      "\u001b[1;32m/Users/stopdemir/Documents/GitHub/SWC-ML-Case/SWC.ipynb Cell 15\u001b[0m line \u001b[0;36m2\n\u001b[1;32m      <a href='vscode-notebook-cell:/Users/stopdemir/Documents/GitHub/SWC-ML-Case/SWC.ipynb#X20sZmlsZQ%3D%3D?line=0'>1</a>\u001b[0m \u001b[39mif\u001b[39;00m(\u001b[39mTrue\u001b[39;00m):    \n\u001b[0;32m----> <a href='vscode-notebook-cell:/Users/stopdemir/Documents/GitHub/SWC-ML-Case/SWC.ipynb#X20sZmlsZQ%3D%3D?line=1'>2</a>\u001b[0m     test_data \u001b[39m=\u001b[39m test_data[chosen_features]\n\u001b[1;32m      <a href='vscode-notebook-cell:/Users/stopdemir/Documents/GitHub/SWC-ML-Case/SWC.ipynb#X20sZmlsZQ%3D%3D?line=2'>3</a>\u001b[0m     \u001b[39mprint\u001b[39m(\u001b[39mlen\u001b[39m(chosen_features))\n\u001b[1;32m      <a href='vscode-notebook-cell:/Users/stopdemir/Documents/GitHub/SWC-ML-Case/SWC.ipynb#X20sZmlsZQ%3D%3D?line=3'>4</a>\u001b[0m     chosen_features\u001b[39m.\u001b[39mappend(\u001b[39m'\u001b[39m\u001b[39my\u001b[39m\u001b[39m'\u001b[39m)\n",
      "File \u001b[0;32m/Library/anaconda3/lib/python3.8/site-packages/pandas/core/frame.py:3767\u001b[0m, in \u001b[0;36mDataFrame.__getitem__\u001b[0;34m(self, key)\u001b[0m\n\u001b[1;32m   3765\u001b[0m     \u001b[39mif\u001b[39;00m is_iterator(key):\n\u001b[1;32m   3766\u001b[0m         key \u001b[39m=\u001b[39m \u001b[39mlist\u001b[39m(key)\n\u001b[0;32m-> 3767\u001b[0m     indexer \u001b[39m=\u001b[39m \u001b[39mself\u001b[39;49m\u001b[39m.\u001b[39;49mcolumns\u001b[39m.\u001b[39;49m_get_indexer_strict(key, \u001b[39m\"\u001b[39;49m\u001b[39mcolumns\u001b[39;49m\u001b[39m\"\u001b[39;49m)[\u001b[39m1\u001b[39m]\n\u001b[1;32m   3769\u001b[0m \u001b[39m# take() does not accept boolean indexers\u001b[39;00m\n\u001b[1;32m   3770\u001b[0m \u001b[39mif\u001b[39;00m \u001b[39mgetattr\u001b[39m(indexer, \u001b[39m\"\u001b[39m\u001b[39mdtype\u001b[39m\u001b[39m\"\u001b[39m, \u001b[39mNone\u001b[39;00m) \u001b[39m==\u001b[39m \u001b[39mbool\u001b[39m:\n",
      "File \u001b[0;32m/Library/anaconda3/lib/python3.8/site-packages/pandas/core/indexes/base.py:5877\u001b[0m, in \u001b[0;36mIndex._get_indexer_strict\u001b[0;34m(self, key, axis_name)\u001b[0m\n\u001b[1;32m   5874\u001b[0m \u001b[39melse\u001b[39;00m:\n\u001b[1;32m   5875\u001b[0m     keyarr, indexer, new_indexer \u001b[39m=\u001b[39m \u001b[39mself\u001b[39m\u001b[39m.\u001b[39m_reindex_non_unique(keyarr)\n\u001b[0;32m-> 5877\u001b[0m \u001b[39mself\u001b[39;49m\u001b[39m.\u001b[39;49m_raise_if_missing(keyarr, indexer, axis_name)\n\u001b[1;32m   5879\u001b[0m keyarr \u001b[39m=\u001b[39m \u001b[39mself\u001b[39m\u001b[39m.\u001b[39mtake(indexer)\n\u001b[1;32m   5880\u001b[0m \u001b[39mif\u001b[39;00m \u001b[39misinstance\u001b[39m(key, Index):\n\u001b[1;32m   5881\u001b[0m     \u001b[39m# GH 42790 - Preserve name from an Index\u001b[39;00m\n",
      "File \u001b[0;32m/Library/anaconda3/lib/python3.8/site-packages/pandas/core/indexes/base.py:5941\u001b[0m, in \u001b[0;36mIndex._raise_if_missing\u001b[0;34m(self, key, indexer, axis_name)\u001b[0m\n\u001b[1;32m   5938\u001b[0m     \u001b[39mraise\u001b[39;00m \u001b[39mKeyError\u001b[39;00m(\u001b[39mf\u001b[39m\u001b[39m\"\u001b[39m\u001b[39mNone of [\u001b[39m\u001b[39m{\u001b[39;00mkey\u001b[39m}\u001b[39;00m\u001b[39m] are in the [\u001b[39m\u001b[39m{\u001b[39;00maxis_name\u001b[39m}\u001b[39;00m\u001b[39m]\u001b[39m\u001b[39m\"\u001b[39m)\n\u001b[1;32m   5940\u001b[0m not_found \u001b[39m=\u001b[39m \u001b[39mlist\u001b[39m(ensure_index(key)[missing_mask\u001b[39m.\u001b[39mnonzero()[\u001b[39m0\u001b[39m]]\u001b[39m.\u001b[39munique())\n\u001b[0;32m-> 5941\u001b[0m \u001b[39mraise\u001b[39;00m \u001b[39mKeyError\u001b[39;00m(\u001b[39mf\u001b[39m\u001b[39m\"\u001b[39m\u001b[39m{\u001b[39;00mnot_found\u001b[39m}\u001b[39;00m\u001b[39m not in index\u001b[39m\u001b[39m\"\u001b[39m)\n",
      "\u001b[0;31mKeyError\u001b[0m: \"['y'] not in index\""
     ]
    }
   ],
   "source": [
    "if(True):    \n",
    "    test_data = test_data[chosen_features]\n",
    "    print(len(chosen_features))\n",
    "    chosen_features.append('y')\n",
    "    print(len(chosen_features))\n",
    "    #train_data = train_data[g]\n",
    "     "
   ]
  },
  {
   "cell_type": "markdown",
   "metadata": {},
   "source": [
    "### TSNE"
   ]
  },
  {
   "cell_type": "code",
   "execution_count": 5,
   "metadata": {},
   "outputs": [
    {
     "ename": "NameError",
     "evalue": "name 'figure' is not defined",
     "output_type": "error",
     "traceback": [
      "\u001b[0;31m---------------------------------------------------------------------------\u001b[0m",
      "\u001b[0;31mNameError\u001b[0m                                 Traceback (most recent call last)",
      "\u001b[1;32m/Users/stopdemir/Documents/GitHub/SWC-ML-Case/SWC.ipynb Cell 11\u001b[0m line \u001b[0;36m2\n\u001b[1;32m      <a href='vscode-notebook-cell:/Users/stopdemir/Documents/GitHub/SWC-ML-Case/SWC.ipynb#X26sZmlsZQ%3D%3D?line=0'>1</a>\u001b[0m X_tsne \u001b[39m=\u001b[39m TSNE(learning_rate\u001b[39m=\u001b[39m\u001b[39m100\u001b[39m)\u001b[39m.\u001b[39mfit_transform(train_data\u001b[39m.\u001b[39mdrop([\u001b[39m'\u001b[39m\u001b[39my\u001b[39m\u001b[39m'\u001b[39m], axis \u001b[39m=\u001b[39m \u001b[39m1\u001b[39m))\n\u001b[0;32m----> <a href='vscode-notebook-cell:/Users/stopdemir/Documents/GitHub/SWC-ML-Case/SWC.ipynb#X26sZmlsZQ%3D%3D?line=1'>2</a>\u001b[0m figure(figsize\u001b[39m=\u001b[39m(\u001b[39m10\u001b[39m, \u001b[39m5\u001b[39m))\n\u001b[1;32m      <a href='vscode-notebook-cell:/Users/stopdemir/Documents/GitHub/SWC-ML-Case/SWC.ipynb#X26sZmlsZQ%3D%3D?line=2'>3</a>\u001b[0m scatter(X_tsne[:, \u001b[39m0\u001b[39m], X_tsne[:, \u001b[39m1\u001b[39m], c\u001b[39m=\u001b[39mtrain_data[\u001b[39m'\u001b[39m\u001b[39my\u001b[39m\u001b[39m'\u001b[39m])\n",
      "\u001b[0;31mNameError\u001b[0m: name 'figure' is not defined"
     ]
    }
   ],
   "source": [
    "\n",
    "X_tsne = TSNE(learning_rate=100).fit_transform(train_data.drop(['y'], axis = 1))\n",
    "figure(figsize=(10, 5))\n",
    "scatter(X_tsne[:, 0], X_tsne[:, 1], c=train_data['y'])"
   ]
  },
  {
   "cell_type": "code",
   "execution_count": 1,
   "metadata": {},
   "outputs": [
    {
     "ename": "NameError",
     "evalue": "name 'plt' is not defined",
     "output_type": "error",
     "traceback": [
      "\u001b[0;31m---------------------------------------------------------------------------\u001b[0m",
      "\u001b[0;31mNameError\u001b[0m                                 Traceback (most recent call last)",
      "\u001b[1;32m/Users/stopdemir/Documents/GitHub/SWC-ML-Case/SWC.ipynb Cell 13\u001b[0m line \u001b[0;36m1\n\u001b[0;32m----> <a href='vscode-notebook-cell:/Users/stopdemir/Documents/GitHub/SWC-ML-Case/SWC.ipynb#X15sZmlsZQ%3D%3D?line=0'>1</a>\u001b[0m plt\u001b[39m.\u001b[39mscatter(X_tsne[:, \u001b[39m0\u001b[39m], X_tsne[:, \u001b[39m1\u001b[39m], c\u001b[39m=\u001b[39mtrain_data[\u001b[39m'\u001b[39m\u001b[39my\u001b[39m\u001b[39m'\u001b[39m])\n",
      "\u001b[0;31mNameError\u001b[0m: name 'plt' is not defined"
     ]
    }
   ],
   "source": [
    "\n",
    "plt.scatter(X_tsne[:, 0], X_tsne[:, 1], c=train_data['y'])"
   ]
  },
  {
   "cell_type": "markdown",
   "metadata": {},
   "source": [
    "## ML Models"
   ]
  },
  {
   "cell_type": "code",
   "execution_count": 29,
   "metadata": {},
   "outputs": [
    {
     "ename": "KeyError",
     "evalue": "\"['y'] not found in axis\"",
     "output_type": "error",
     "traceback": [
      "\u001b[0;31m---------------------------------------------------------------------------\u001b[0m",
      "\u001b[0;31mKeyError\u001b[0m                                  Traceback (most recent call last)",
      "\u001b[1;32m/Users/stopdemir/Documents/GitHub/SWC-ML-Case/SWC.ipynb Cell 20\u001b[0m line \u001b[0;36m1\n\u001b[0;32m----> <a href='vscode-notebook-cell:/Users/stopdemir/Documents/GitHub/SWC-ML-Case/SWC.ipynb#X25sZmlsZQ%3D%3D?line=0'>1</a>\u001b[0m X \u001b[39m=\u001b[39m train_data\u001b[39m.\u001b[39;49mdrop([\u001b[39m'\u001b[39;49m\u001b[39my\u001b[39;49m\u001b[39m'\u001b[39;49m], axis \u001b[39m=\u001b[39;49m \u001b[39m1\u001b[39;49m)\n\u001b[1;32m      <a href='vscode-notebook-cell:/Users/stopdemir/Documents/GitHub/SWC-ML-Case/SWC.ipynb#X25sZmlsZQ%3D%3D?line=1'>2</a>\u001b[0m y \u001b[39m=\u001b[39m train_data[\u001b[39m'\u001b[39m\u001b[39my\u001b[39m\u001b[39m'\u001b[39m]\n\u001b[1;32m      <a href='vscode-notebook-cell:/Users/stopdemir/Documents/GitHub/SWC-ML-Case/SWC.ipynb#X25sZmlsZQ%3D%3D?line=2'>3</a>\u001b[0m number_f_class \u001b[39m=\u001b[39m \u001b[39mlen\u001b[39m(y\u001b[39m.\u001b[39munique())\n",
      "File \u001b[0;32m/Library/anaconda3/lib/python3.8/site-packages/pandas/core/frame.py:5258\u001b[0m, in \u001b[0;36mDataFrame.drop\u001b[0;34m(self, labels, axis, index, columns, level, inplace, errors)\u001b[0m\n\u001b[1;32m   5110\u001b[0m \u001b[39mdef\u001b[39;00m \u001b[39mdrop\u001b[39m(\n\u001b[1;32m   5111\u001b[0m     \u001b[39mself\u001b[39m,\n\u001b[1;32m   5112\u001b[0m     labels: IndexLabel \u001b[39m=\u001b[39m \u001b[39mNone\u001b[39;00m,\n\u001b[0;32m   (...)\u001b[0m\n\u001b[1;32m   5119\u001b[0m     errors: IgnoreRaise \u001b[39m=\u001b[39m \u001b[39m\"\u001b[39m\u001b[39mraise\u001b[39m\u001b[39m\"\u001b[39m,\n\u001b[1;32m   5120\u001b[0m ) \u001b[39m-\u001b[39m\u001b[39m>\u001b[39m DataFrame \u001b[39m|\u001b[39m \u001b[39mNone\u001b[39;00m:\n\u001b[1;32m   5121\u001b[0m \u001b[39m    \u001b[39m\u001b[39m\"\"\"\u001b[39;00m\n\u001b[1;32m   5122\u001b[0m \u001b[39m    Drop specified labels from rows or columns.\u001b[39;00m\n\u001b[1;32m   5123\u001b[0m \n\u001b[0;32m   (...)\u001b[0m\n\u001b[1;32m   5256\u001b[0m \u001b[39m            weight  1.0     0.8\u001b[39;00m\n\u001b[1;32m   5257\u001b[0m \u001b[39m    \"\"\"\u001b[39;00m\n\u001b[0;32m-> 5258\u001b[0m     \u001b[39mreturn\u001b[39;00m \u001b[39msuper\u001b[39;49m()\u001b[39m.\u001b[39;49mdrop(\n\u001b[1;32m   5259\u001b[0m         labels\u001b[39m=\u001b[39;49mlabels,\n\u001b[1;32m   5260\u001b[0m         axis\u001b[39m=\u001b[39;49maxis,\n\u001b[1;32m   5261\u001b[0m         index\u001b[39m=\u001b[39;49mindex,\n\u001b[1;32m   5262\u001b[0m         columns\u001b[39m=\u001b[39;49mcolumns,\n\u001b[1;32m   5263\u001b[0m         level\u001b[39m=\u001b[39;49mlevel,\n\u001b[1;32m   5264\u001b[0m         inplace\u001b[39m=\u001b[39;49minplace,\n\u001b[1;32m   5265\u001b[0m         errors\u001b[39m=\u001b[39;49merrors,\n\u001b[1;32m   5266\u001b[0m     )\n",
      "File \u001b[0;32m/Library/anaconda3/lib/python3.8/site-packages/pandas/core/generic.py:4549\u001b[0m, in \u001b[0;36mNDFrame.drop\u001b[0;34m(self, labels, axis, index, columns, level, inplace, errors)\u001b[0m\n\u001b[1;32m   4547\u001b[0m \u001b[39mfor\u001b[39;00m axis, labels \u001b[39min\u001b[39;00m axes\u001b[39m.\u001b[39mitems():\n\u001b[1;32m   4548\u001b[0m     \u001b[39mif\u001b[39;00m labels \u001b[39mis\u001b[39;00m \u001b[39mnot\u001b[39;00m \u001b[39mNone\u001b[39;00m:\n\u001b[0;32m-> 4549\u001b[0m         obj \u001b[39m=\u001b[39m obj\u001b[39m.\u001b[39;49m_drop_axis(labels, axis, level\u001b[39m=\u001b[39;49mlevel, errors\u001b[39m=\u001b[39;49merrors)\n\u001b[1;32m   4551\u001b[0m \u001b[39mif\u001b[39;00m inplace:\n\u001b[1;32m   4552\u001b[0m     \u001b[39mself\u001b[39m\u001b[39m.\u001b[39m_update_inplace(obj)\n",
      "File \u001b[0;32m/Library/anaconda3/lib/python3.8/site-packages/pandas/core/generic.py:4591\u001b[0m, in \u001b[0;36mNDFrame._drop_axis\u001b[0;34m(self, labels, axis, level, errors, only_slice)\u001b[0m\n\u001b[1;32m   4589\u001b[0m         new_axis \u001b[39m=\u001b[39m axis\u001b[39m.\u001b[39mdrop(labels, level\u001b[39m=\u001b[39mlevel, errors\u001b[39m=\u001b[39merrors)\n\u001b[1;32m   4590\u001b[0m     \u001b[39melse\u001b[39;00m:\n\u001b[0;32m-> 4591\u001b[0m         new_axis \u001b[39m=\u001b[39m axis\u001b[39m.\u001b[39;49mdrop(labels, errors\u001b[39m=\u001b[39;49merrors)\n\u001b[1;32m   4592\u001b[0m     indexer \u001b[39m=\u001b[39m axis\u001b[39m.\u001b[39mget_indexer(new_axis)\n\u001b[1;32m   4594\u001b[0m \u001b[39m# Case for non-unique axis\u001b[39;00m\n\u001b[1;32m   4595\u001b[0m \u001b[39melse\u001b[39;00m:\n",
      "File \u001b[0;32m/Library/anaconda3/lib/python3.8/site-packages/pandas/core/indexes/base.py:6699\u001b[0m, in \u001b[0;36mIndex.drop\u001b[0;34m(self, labels, errors)\u001b[0m\n\u001b[1;32m   6697\u001b[0m \u001b[39mif\u001b[39;00m mask\u001b[39m.\u001b[39many():\n\u001b[1;32m   6698\u001b[0m     \u001b[39mif\u001b[39;00m errors \u001b[39m!=\u001b[39m \u001b[39m\"\u001b[39m\u001b[39mignore\u001b[39m\u001b[39m\"\u001b[39m:\n\u001b[0;32m-> 6699\u001b[0m         \u001b[39mraise\u001b[39;00m \u001b[39mKeyError\u001b[39;00m(\u001b[39mf\u001b[39m\u001b[39m\"\u001b[39m\u001b[39m{\u001b[39;00m\u001b[39mlist\u001b[39m(labels[mask])\u001b[39m}\u001b[39;00m\u001b[39m not found in axis\u001b[39m\u001b[39m\"\u001b[39m)\n\u001b[1;32m   6700\u001b[0m     indexer \u001b[39m=\u001b[39m indexer[\u001b[39m~\u001b[39mmask]\n\u001b[1;32m   6701\u001b[0m \u001b[39mreturn\u001b[39;00m \u001b[39mself\u001b[39m\u001b[39m.\u001b[39mdelete(indexer)\n",
      "\u001b[0;31mKeyError\u001b[0m: \"['y'] not found in axis\""
     ]
    }
   ],
   "source": [
    "X = train_data.drop(['y'], axis = 1)\n",
    "y = train_data['y']\n",
    "number_f_class = len(y.unique())\n",
    "X_train, X_test, y_train, y_test = train_test_split(X, y, test_size = 0.2, random_state = 13)\n",
    "print(\"number of classes: \", number_f_class)\n",
    "print(X_train.shape, X_test.shape, y_train.shape, y_test.shape)"
   ]
  },
  {
   "cell_type": "markdown",
   "metadata": {},
   "source": [
    "### K-nearest Classifier"
   ]
  },
  {
   "cell_type": "code",
   "execution_count": null,
   "metadata": {},
   "outputs": [],
   "source": [
    "knn = KNeighborsClassifier(n_neighbors = 1).fit(X_train, y_train) \n",
    "\n",
    "predicted = knn.predict(X_test)\n",
    "predicted_train = knn.predict(X_train)\n",
    "\n",
    "accuracy_train = accuracy_score(predicted_train, y_train)\n",
    "accuracy_test = accuracy_score(predicted, y_test)\n",
    "\n",
    "print(f'Accuracy_train: {accuracy_train}')\n",
    "print(f'Accuracy_test: {accuracy_test}')"
   ]
  },
  {
   "cell_type": "markdown",
   "metadata": {},
   "source": [
    "### Naive Bayes Classifier"
   ]
  },
  {
   "cell_type": "code",
   "execution_count": 6,
   "metadata": {},
   "outputs": [
    {
     "name": "stdout",
     "output_type": "stream",
     "text": [
      "Accuracy_train: 0.62322\n",
      "Accuracy_test: 0.63096\n"
     ]
    }
   ],
   "source": [
    "gnb = GaussianNB().fit(X_train, y_train) \n",
    "predicted = gnb.predict(X_test)\n",
    "predicted_train = gnb.predict(X_train)\n",
    "\n",
    "accuracy_train = accuracy_score(predicted_train, y_train)\n",
    "accuracy_test = accuracy_score(predicted, y_test)\n",
    "\n",
    "print(f'Accuracy_train: {accuracy_train}')\n",
    "print(f'Accuracy_test: {accuracy_test}')"
   ]
  },
  {
   "cell_type": "markdown",
   "metadata": {},
   "source": [
    "### SVM - Linear Kernel"
   ]
  },
  {
   "cell_type": "code",
   "execution_count": 27,
   "metadata": {},
   "outputs": [],
   "source": [
    "svm_model_linear = SVC(kernel = 'linear', C = 1).fit(X_train, y_train) \n",
    "svm_predictions = svm_model_linear.predict(X_test) \n",
    "\n",
    "svm_predictions_train = svm_model_linear.predict(X_train)\n",
    "\n",
    "# model accuracy for X_train\n",
    "accuracy_svmlinear_train = svm_model_linear.score(X_train, y_train) \n",
    "\n",
    "# model accuracy for X_test   \n",
    "accuracy_svmlinear_test = svm_model_linear.score(X_test, y_test) \n",
    "\n",
    "print(f'Accuracy_train: {accuracy_svmlinear_train}')\n",
    "print(f'Accuracy_test: {accuracy_svmlinear_test}')"
   ]
  },
  {
   "cell_type": "markdown",
   "metadata": {},
   "source": [
    "### Decision Tree Model"
   ]
  },
  {
   "cell_type": "code",
   "execution_count": 4,
   "metadata": {},
   "outputs": [
    {
     "name": "stdout",
     "output_type": "stream",
     "text": [
      "Accuracy_train: 0.86986\n",
      "Accuracy_test: 0.72584\n"
     ]
    }
   ],
   "source": [
    "dt = DecisionTreeClassifier(random_state = 10, max_depth = 22)\n",
    "dt.fit(X_train, y_train)\n",
    "predicted = dt.predict(X_test)\n",
    "predicted_train = dt.predict(X_train)\n",
    "accuracy_train = accuracy_score(predicted_train, y_train)\n",
    "accuracy_test = accuracy_score(predicted, y_test)\n",
    "print(f'Accuracy_train: {accuracy_train}')\n",
    "print(f'Accuracy_test: {accuracy_test}')"
   ]
  },
  {
   "cell_type": "code",
   "execution_count": null,
   "metadata": {},
   "outputs": [],
   "source": [
    "#classes = [str(x) for x in train_data['y'].unique().tolist()]\n",
    "#fig = plt.figure(figsize = (20, ))\n",
    "#_ = tree.plot_tree(model, feature_names = X.columns.values.tolist(),class_names = classes, filled = True)\n",
    "#fig.savefig(\"decision_tree.png\")"
   ]
  },
  {
   "cell_type": "markdown",
   "metadata": {},
   "source": [
    "### Balanced Bagging Classifier"
   ]
  },
  {
   "cell_type": "code",
   "execution_count": 15,
   "metadata": {},
   "outputs": [
    {
     "name": "stdout",
     "output_type": "stream",
     "text": [
      "Accuracy_train: 0.86986\n",
      "Accuracy_test: 0.75336\n",
      "[[ 232   19    2    0    3   14   19   39   52]\n",
      " [   6 3134   90   49    6    1   27    3    4]\n",
      " [   6 1157  331   54    1    2   42    3    2]\n",
      " [   0  257   13  256    1   12   12    2    0]\n",
      " [   2   14    0    1  534    0    0    0    1]\n",
      " [  78   66    8   22    9 2567   68   43   74]\n",
      " [  32   88   22   12    4   21  330   23   10]\n",
      " [ 141   56    6    4    4   43   47 1295   34]\n",
      " [ 126   48    2    6    0   19   17   34  738]]\n",
      "[[ 1019    94    14     1     3    78     3   261   101]\n",
      " [    8 11641   985    27     6    33    23   233     7]\n",
      " [   13  1652  4663    29     0    12    13   105     4]\n",
      " [    3   439   262  1366     3    38     7    45     2]\n",
      " [    1    50     8     0  2107     5     0    38     2]\n",
      " [   21   133    18     5     1 10873    23   224    31]\n",
      " [   30   202   102    19     8    66  1671   226     8]\n",
      " [   45   105    18     5     2    85     4  6618    28]\n",
      " [   73   108    14     1     9    61     5   219  3535]]\n"
     ]
    }
   ],
   "source": [
    "from imblearn.ensemble import BalancedBaggingClassifier\n",
    "from sklearn.tree import DecisionTreeClassifier\n",
    "#Create an instance\n",
    "classifier = BalancedBaggingClassifier(base_estimator=DecisionTreeClassifier(),\n",
    "                                sampling_strategy='not majority',\n",
    "                                replacement=False,\n",
    "                                random_state=11)\n",
    "classifier.fit(X_train, y_train)\n",
    "predicted = classifier.predict(X_test)\n",
    "predicted_train = dt.predict(X_train)\n",
    "accuracy_train = accuracy_score(predicted_train, y_train)\n",
    "accuracy_test = accuracy_score(predicted, y_test)\n",
    "print(f'Accuracy_train: {accuracy_train}')\n",
    "print(f'Accuracy_test: {accuracy_test}')\n",
    "print(confusion_matrix(y_test, predicted))\n",
    "print(confusion_matrix(y_train, predicted_train))\n",
    "\n"
   ]
  },
  {
   "cell_type": "markdown",
   "metadata": {},
   "source": [
    "### LightGBM Model"
   ]
  },
  {
   "cell_type": "code",
   "execution_count": 6,
   "metadata": {},
   "outputs": [],
   "source": [
    "def objective(trial):\n",
    "    \"\"\"\n",
    "    Objective function to be minimized.\n",
    "    \"\"\"\n",
    "    param = {\n",
    "        \"objective\": \"multiclass\",\n",
    "        \"metric\": \"multi_logloss\",\n",
    "        \"verbosity\": -1,\n",
    "        \"boosting_type\": \"gbdt\",\n",
    "        \"num_class\": number_f_class,\n",
    "        \"lambda_l1\": trial.suggest_float(\"lambda_l1\", 1e-8, 10.0, log=True),\n",
    "        \"lambda_l2\": trial.suggest_float(\"lambda_l2\", 1e-8, 10.0, log=True),\n",
    "        \"num_leaves\": trial.suggest_int(\"num_leaves\", 2, 256),\n",
    "        \"feature_fraction\": trial.suggest_float(\"feature_fraction\", 0.4, 1.0),\n",
    "        \"bagging_fraction\": trial.suggest_float(\"bagging_fraction\", 0.4, 1.0),\n",
    "        \"bagging_freq\": trial.suggest_int(\"bagging_freq\", 1, 7),\n",
    "        \"min_child_samples\": trial.suggest_int(\"min_child_samples\", 5, 100),\n",
    "    }\n",
    "\n",
    "    gbm = lgb.LGBMClassifier(**param)\n",
    "    gbm.fit(X_train, y_train)\n",
    "    preds = gbm.predict(X_test)\n",
    "    accuracy_test = accuracy_score(y_test, preds)\n",
    "    return accuracy_test"
   ]
  },
  {
   "cell_type": "code",
   "execution_count": null,
   "metadata": {},
   "outputs": [],
   "source": [
    "\n",
    "# this part has already been run and we took the required results which are the best parameters\n",
    "#sampler = TPESampler(seed=1)\n",
    "#study = optuna.create_study(study_name=\"lightgbm\", direction=\"maximize\", sampler=sampler)\n",
    "#study.optimize(objective, n_trials=100)\n",
    "#print('Best parameters:', study.best_params)\n",
    "#print('Best value:', study.best_value)\n",
    "#print('Best trial:', study.best_trial)"
   ]
  },
  {
   "cell_type": "code",
   "execution_count": 7,
   "metadata": {},
   "outputs": [
    {
     "name": "stdout",
     "output_type": "stream",
     "text": [
      "[LightGBM] [Warning] bagging_freq is set=2, subsample_freq=0 will be ignored. Current value: bagging_freq=2\n",
      "[LightGBM] [Warning] lambda_l1 is set=5.117571145089835e-06, reg_alpha=0.0 will be ignored. Current value: lambda_l1=5.117571145089835e-06\n",
      "[LightGBM] [Warning] feature_fraction is set=0.606773610653303, colsample_bytree=1.0 will be ignored. Current value: feature_fraction=0.606773610653303\n",
      "[LightGBM] [Warning] bagging_fraction is set=0.8462643326394661, subsample=1.0 will be ignored. Current value: bagging_fraction=0.8462643326394661\n",
      "[LightGBM] [Warning] lambda_l2 is set=0.08753895882464374, reg_lambda=0.0 will be ignored. Current value: lambda_l2=0.08753895882464374\n",
      "Accuracy_train: 0.9868\n",
      "Accuracy_test: 0.834\n",
      "[[ 200    6    2    0    1   31   11   53   76]\n",
      " [   1 2831  417   35    3    8   15    6    4]\n",
      " [   2  592  939   29    0    3   29    3    1]\n",
      " [   0  137   70  316    1   20    7    1    1]\n",
      " [   1    7    0    0  543    1    0    0    0]\n",
      " [   8   10    6    1    0 2825   26   30   29]\n",
      " [   7   47   38    6    4   32  376   28    4]\n",
      " [  20    9    7    0    2   37    9 1528   18]\n",
      " [  42   11    2    1    0   28    7   32  867]]\n",
      "[[ 1574     0     0     0     0     0     0     0     0]\n",
      " [    0 12747   211     3     0     0     2     0     0]\n",
      " [    0   380  6106     4     0     0     1     0     0]\n",
      " [    0    27    21  2117     0     0     0     0     0]\n",
      " [    0     0     0     0  2211     0     0     0     0]\n",
      " [    0     1     0     0     0 11326     2     0     0]\n",
      " [    0     4     1     0     0     0  2327     0     0]\n",
      " [    0     0     0     0     0     0     1  6909     0]\n",
      " [    0     1     0     0     0     0     0     1  4023]]\n",
      "LGBMC Log Loss: 0.4507463839375169\n"
     ]
    }
   ],
   "source": [
    "# these are the best parameters that have been found by optuna\n",
    "best_parameters = {'lambda_l1': 5.117571145089835e-06, 'lambda_l2': 0.08753895882464374, 'num_leaves': 199, 'feature_fraction': 0.606773610653303, 'bagging_fraction': 0.8462643326394661, 'bagging_freq': 2, 'min_child_samples': 89}\n",
    "lgbm = lgb.LGBMClassifier(**best_parameters)\n",
    "lgbm.fit(X_train, y_train)\n",
    "predicted = lgbm.predict(X_test)\n",
    "predicted_train = lgbm.predict(X_train)\n",
    "accuracy_train = accuracy_score(predicted_train, y_train)\n",
    "accuracy_test = accuracy_score(predicted, y_test)\n",
    "print(f'Accuracy_train: {accuracy_train}')\n",
    "print(f'Accuracy_test: {accuracy_test}')\n",
    "print(confusion_matrix(y_test, predicted))\n",
    "print(confusion_matrix(y_train, predicted_train))\n",
    "\n",
    "y_proba = lgbm.predict_proba(X_test)\n",
    "\n",
    "# Evaluate the log loss of the stacking classifier (for probabilistic predictions)\n",
    "log_loss_value = log_loss(y_test, y_proba)\n",
    "print(f\"LGBMC Log Loss: {log_loss_value}\")"
   ]
  },
  {
   "cell_type": "markdown",
   "metadata": {},
   "source": [
    "#### THIS PART IS FOR CREATING THE FINAL DELIVERY"
   ]
  },
  {
   "cell_type": "code",
   "execution_count": 8,
   "metadata": {},
   "outputs": [],
   "source": [
    "y_probability_final = lgbm.predict_proba(test_data)"
   ]
  },
  {
   "cell_type": "code",
   "execution_count": 12,
   "metadata": {},
   "outputs": [
    {
     "data": {
      "text/html": [
       "<div>\n",
       "<style scoped>\n",
       "    .dataframe tbody tr th:only-of-type {\n",
       "        vertical-align: middle;\n",
       "    }\n",
       "\n",
       "    .dataframe tbody tr th {\n",
       "        vertical-align: top;\n",
       "    }\n",
       "\n",
       "    .dataframe thead th {\n",
       "        text-align: right;\n",
       "    }\n",
       "</style>\n",
       "<table border=\"1\" class=\"dataframe\">\n",
       "  <thead>\n",
       "    <tr style=\"text-align: right;\">\n",
       "      <th></th>\n",
       "      <th>c1</th>\n",
       "      <th>c2</th>\n",
       "      <th>c3</th>\n",
       "      <th>c4</th>\n",
       "      <th>c5</th>\n",
       "      <th>c6</th>\n",
       "      <th>c7</th>\n",
       "      <th>c8</th>\n",
       "      <th>c9</th>\n",
       "    </tr>\n",
       "  </thead>\n",
       "  <tbody>\n",
       "    <tr>\n",
       "      <th>0</th>\n",
       "      <td>0.0000228995</td>\n",
       "      <td>0.4788933556</td>\n",
       "      <td>0.5190286515</td>\n",
       "      <td>0.0018078550</td>\n",
       "      <td>0.0000201671</td>\n",
       "      <td>0.0001349947</td>\n",
       "      <td>0.0000265217</td>\n",
       "      <td>0.0000357280</td>\n",
       "      <td>0.0000298269</td>\n",
       "    </tr>\n",
       "    <tr>\n",
       "      <th>1</th>\n",
       "      <td>0.0000001805</td>\n",
       "      <td>0.0000027835</td>\n",
       "      <td>0.0000052295</td>\n",
       "      <td>0.0000005393</td>\n",
       "      <td>0.0000000942</td>\n",
       "      <td>0.0000116264</td>\n",
       "      <td>0.0000013067</td>\n",
       "      <td>0.9999768461</td>\n",
       "      <td>0.0000013938</td>\n",
       "    </tr>\n",
       "    <tr>\n",
       "      <th>2</th>\n",
       "      <td>0.0006541911</td>\n",
       "      <td>0.6512843509</td>\n",
       "      <td>0.3039246295</td>\n",
       "      <td>0.0363659532</td>\n",
       "      <td>0.0000145390</td>\n",
       "      <td>0.0008026751</td>\n",
       "      <td>0.0049829059</td>\n",
       "      <td>0.0016067204</td>\n",
       "      <td>0.0003640350</td>\n",
       "    </tr>\n",
       "    <tr>\n",
       "      <th>3</th>\n",
       "      <td>0.0002312321</td>\n",
       "      <td>0.0002400645</td>\n",
       "      <td>0.0000590851</td>\n",
       "      <td>0.0002807585</td>\n",
       "      <td>0.0000138374</td>\n",
       "      <td>0.9968207339</td>\n",
       "      <td>0.0002366007</td>\n",
       "      <td>0.0004585852</td>\n",
       "      <td>0.0016591026</td>\n",
       "    </tr>\n",
       "    <tr>\n",
       "      <th>4</th>\n",
       "      <td>0.0000136809</td>\n",
       "      <td>0.0497871942</td>\n",
       "      <td>0.0876082636</td>\n",
       "      <td>0.8622524970</td>\n",
       "      <td>0.0000070552</td>\n",
       "      <td>0.0000463739</td>\n",
       "      <td>0.0001185237</td>\n",
       "      <td>0.0001441131</td>\n",
       "      <td>0.0000222984</td>\n",
       "    </tr>\n",
       "  </tbody>\n",
       "</table>\n",
       "</div>"
      ],
      "text/plain": [
       "            c1           c2           c3           c4           c5  \\\n",
       "0 0.0000228995 0.4788933556 0.5190286515 0.0018078550 0.0000201671   \n",
       "1 0.0000001805 0.0000027835 0.0000052295 0.0000005393 0.0000000942   \n",
       "2 0.0006541911 0.6512843509 0.3039246295 0.0363659532 0.0000145390   \n",
       "3 0.0002312321 0.0002400645 0.0000590851 0.0002807585 0.0000138374   \n",
       "4 0.0000136809 0.0497871942 0.0876082636 0.8622524970 0.0000070552   \n",
       "\n",
       "            c6           c7           c8           c9  \n",
       "0 0.0001349947 0.0000265217 0.0000357280 0.0000298269  \n",
       "1 0.0000116264 0.0000013067 0.9999768461 0.0000013938  \n",
       "2 0.0008026751 0.0049829059 0.0016067204 0.0003640350  \n",
       "3 0.9968207339 0.0002366007 0.0004585852 0.0016591026  \n",
       "4 0.0000463739 0.0001185237 0.0001441131 0.0000222984  "
      ]
     },
     "execution_count": 12,
     "metadata": {},
     "output_type": "execute_result"
    }
   ],
   "source": [
    "y_probability_final = pd.DataFrame(y_probability_final ,columns=['c1','c2','c3','c4','c5','c6','c7','c8','c9'])\n",
    "y_probability_final.head(5)"
   ]
  },
  {
   "cell_type": "code",
   "execution_count": 14,
   "metadata": {},
   "outputs": [],
   "source": [
    "y_probability_final.to_csv('y_probability_final.csv', index=False, float_format='%.10f')"
   ]
  },
  {
   "cell_type": "code",
   "execution_count": 22,
   "metadata": {},
   "outputs": [
    {
     "name": "stdout",
     "output_type": "stream",
     "text": [
      "[ 565 1196  378 2237  108 1894 4624  487  772  938 3506 1480 1982  810\n",
      "  953  677 1107  104 3827  190  775  464 1041 4295 3426  918 2043 1437\n",
      "  794  350  363  207 6218  284 1015 3055 4881  955 1775 1864 1322  288\n",
      " 5532 1468 2607  575 4657  331 1070 2289   86 1987 2348  293  902 1043\n",
      " 2158  916 3267  422  320 1769  275 1356  309  765 4805 3049  850 6103\n",
      " 3658 3516  499 3038  223 1897 1238  558  822 1295 1251  110 2264  626\n",
      "  439  770 2736  422  797  346  407 2033 2367  954 1440  280 2129 1966\n",
      "  990  626  967  914 2085  861 1141  224  846 2118]\n"
     ]
    }
   ],
   "source": [
    "print(lgbm.feature_importances_)"
   ]
  },
  {
   "cell_type": "code",
   "execution_count": 27,
   "metadata": {},
   "outputs": [
    {
     "name": "stdout",
     "output_type": "stream",
     "text": [
      "[1.32843809e-06 1.53260678e-03 9.98422456e-01 3.16270019e-05\n",
      " 5.92498735e-07 2.58739082e-06 2.61665213e-06 3.52489918e-06\n",
      " 2.66015686e-06]\n"
     ]
    }
   ],
   "source": [
    "print(y_proba[1])\n",
    "\n"
   ]
  },
  {
   "cell_type": "markdown",
   "metadata": {},
   "source": [
    "## Stacking Ensemble Model"
   ]
  },
  {
   "cell_type": "code",
   "execution_count": 21,
   "metadata": {},
   "outputs": [
    {
     "name": "stdout",
     "output_type": "stream",
     "text": [
      "[LightGBM] [Warning] bagging_freq is set=2, subsample_freq=0 will be ignored. Current value: bagging_freq=2\n",
      "[LightGBM] [Warning] lambda_l1 is set=5.117571145089835e-06, reg_alpha=0.0 will be ignored. Current value: lambda_l1=5.117571145089835e-06\n",
      "[LightGBM] [Warning] feature_fraction is set=0.606773610653303, colsample_bytree=1.0 will be ignored. Current value: feature_fraction=0.606773610653303\n",
      "[LightGBM] [Warning] bagging_fraction is set=0.8462643326394661, subsample=1.0 will be ignored. Current value: bagging_fraction=0.8462643326394661\n",
      "[LightGBM] [Warning] lambda_l2 is set=0.08753895882464374, reg_lambda=0.0 will be ignored. Current value: lambda_l2=0.08753895882464374\n",
      "[LightGBM] [Warning] bagging_freq is set=2, subsample_freq=0 will be ignored. Current value: bagging_freq=2\n",
      "[LightGBM] [Warning] lambda_l1 is set=5.117571145089835e-06, reg_alpha=0.0 will be ignored. Current value: lambda_l1=5.117571145089835e-06\n",
      "[LightGBM] [Warning] feature_fraction is set=0.606773610653303, colsample_bytree=1.0 will be ignored. Current value: feature_fraction=0.606773610653303\n",
      "[LightGBM] [Warning] bagging_fraction is set=0.8462643326394661, subsample=1.0 will be ignored. Current value: bagging_fraction=0.8462643326394661\n",
      "[LightGBM] [Warning] lambda_l2 is set=0.08753895882464374, reg_lambda=0.0 will be ignored. Current value: lambda_l2=0.08753895882464374\n",
      "[LightGBM] [Warning] bagging_freq is set=2, subsample_freq=0 will be ignored. Current value: bagging_freq=2\n",
      "[LightGBM] [Warning] lambda_l1 is set=5.117571145089835e-06, reg_alpha=0.0 will be ignored. Current value: lambda_l1=5.117571145089835e-06\n",
      "[LightGBM] [Warning] feature_fraction is set=0.606773610653303, colsample_bytree=1.0 will be ignored. Current value: feature_fraction=0.606773610653303\n",
      "[LightGBM] [Warning] bagging_fraction is set=0.8462643326394661, subsample=1.0 will be ignored. Current value: bagging_fraction=0.8462643326394661\n",
      "[LightGBM] [Warning] lambda_l2 is set=0.08753895882464374, reg_lambda=0.0 will be ignored. Current value: lambda_l2=0.08753895882464374\n",
      "[LightGBM] [Warning] bagging_freq is set=2, subsample_freq=0 will be ignored. Current value: bagging_freq=2\n",
      "[LightGBM] [Warning] lambda_l1 is set=5.117571145089835e-06, reg_alpha=0.0 will be ignored. Current value: lambda_l1=5.117571145089835e-06\n",
      "[LightGBM] [Warning] feature_fraction is set=0.606773610653303, colsample_bytree=1.0 will be ignored. Current value: feature_fraction=0.606773610653303\n",
      "[LightGBM] [Warning] bagging_fraction is set=0.8462643326394661, subsample=1.0 will be ignored. Current value: bagging_fraction=0.8462643326394661\n",
      "[LightGBM] [Warning] lambda_l2 is set=0.08753895882464374, reg_lambda=0.0 will be ignored. Current value: lambda_l2=0.08753895882464374\n",
      "[LightGBM] [Warning] bagging_freq is set=2, subsample_freq=0 will be ignored. Current value: bagging_freq=2\n",
      "[LightGBM] [Warning] lambda_l1 is set=5.117571145089835e-06, reg_alpha=0.0 will be ignored. Current value: lambda_l1=5.117571145089835e-06\n",
      "[LightGBM] [Warning] feature_fraction is set=0.606773610653303, colsample_bytree=1.0 will be ignored. Current value: feature_fraction=0.606773610653303\n",
      "[LightGBM] [Warning] bagging_fraction is set=0.8462643326394661, subsample=1.0 will be ignored. Current value: bagging_fraction=0.8462643326394661\n",
      "[LightGBM] [Warning] lambda_l2 is set=0.08753895882464374, reg_lambda=0.0 will be ignored. Current value: lambda_l2=0.08753895882464374\n",
      "Stacking Classifier Accuracy: 0.83384\n",
      "Stacking Classifier Log Loss: 0.47976701374686426\n"
     ]
    }
   ],
   "source": [
    "lr_meta = LogisticRegression(multi_class='multinomial', max_iter=2000, random_state=42)\n",
    "\n",
    "# Create the stacking classifier\n",
    "stacking_clf = StackingClassifier(\n",
    "    estimators=[('gnb', gnb), ('dt', dt), ('lgbm', lgbm)],\n",
    "    final_estimator=lr_meta,\n",
    "    cv=5  # Number of cross-validation folds\n",
    ")\n",
    "\n",
    "# Train the stacking classifier\n",
    "stacking_clf.fit(X_train, y_train)\n",
    "\n",
    "# Make predictions on the test set\n",
    "y_pred = stacking_clf.predict(X_test)\n",
    "\n",
    "# Evaluate the accuracy of the stacking classifier\n",
    "accuracy = accuracy_score(y_test, y_pred)\n",
    "print(f\"Stacking Classifier Accuracy: {accuracy}\")\n",
    "\n",
    "\n",
    "# Make predictions (probabilities) on the test set\n",
    "y_proba = stacking_clf.predict_proba(X_test)\n",
    "\n",
    "# Evaluate the log loss of the stacking classifier (for probabilistic predictions)\n",
    "log_loss_value = log_loss(y_test, y_proba)\n",
    "print(f\"Stacking Classifier Log Loss: {log_loss_value}\")"
   ]
  },
  {
   "cell_type": "code",
   "execution_count": 19,
   "metadata": {},
   "outputs": [
    {
     "name": "stdout",
     "output_type": "stream",
     "text": [
      "Stacking Classifier Log Loss: 0.4797681299518584\n"
     ]
    }
   ],
   "source": [
    "# Make predictions (probabilities) on the test set\n",
    "y_proba = stacking_clf.predict_proba(X_test)\n",
    "\n",
    "# Evaluate the log loss of the stacking classifier (for probabilistic predictions)\n",
    "log_loss_value = log_loss(y_test, y_proba)\n",
    "print(f\"Stacking Classifier Log Loss: {log_loss_value}\")"
   ]
  },
  {
   "cell_type": "code",
   "execution_count": 20,
   "metadata": {},
   "outputs": [
    {
     "name": "stdout",
     "output_type": "stream",
     "text": [
      "Stacking Classifier Log Loss: 0.13507592372013305\n"
     ]
    }
   ],
   "source": [
    "# Make predictions (probabilities) on the test set\n",
    "y_proba = stacking_clf.predict_proba(X_train)\n",
    "\n",
    "# Evaluate the log loss of the stacking classifier (for probabilistic predictions)\n",
    "log_loss_value_train = log_loss(y_train, y_proba)\n",
    "print(f\"Stacking Classifier Log Loss: {log_loss_value_train}\")"
   ]
  }
 ],
 "metadata": {
  "kernelspec": {
   "display_name": "Python 3 (ipykernel)",
   "language": "python",
   "name": "python3"
  },
  "language_info": {
   "codemirror_mode": {
    "name": "ipython",
    "version": 3
   },
   "file_extension": ".py",
   "mimetype": "text/x-python",
   "name": "python",
   "nbconvert_exporter": "python",
   "pygments_lexer": "ipython3",
   "version": "3.8.18"
  }
 },
 "nbformat": 4,
 "nbformat_minor": 4
}
